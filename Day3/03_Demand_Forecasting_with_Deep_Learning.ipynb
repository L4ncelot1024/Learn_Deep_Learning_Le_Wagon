{
  "nbformat": 4,
  "nbformat_minor": 0,
  "metadata": {
    "colab": {
      "name": "03-Demand-Forecasting-with-Deep-Learning.ipynb",
      "provenance": [],
      "collapsed_sections": [],
      "toc_visible": true,
      "include_colab_link": true
    },
    "kernelspec": {
      "name": "python3",
      "display_name": "Python 3"
    }
  },
  "cells": [
    {
      "cell_type": "markdown",
      "metadata": {
        "id": "view-in-github",
        "colab_type": "text"
      },
      "source": [
        "<a href=\"https://colab.research.google.com/github/L4ncelot1024/Learn_Deep_Learning_Le_Wagon/blob/main/Day3/03_Demand_Forecasting_with_Deep_Learning.ipynb\" target=\"_parent\"><img src=\"https://colab.research.google.com/assets/colab-badge.svg\" alt=\"Open In Colab\"/></a>"
      ]
    },
    {
      "cell_type": "markdown",
      "metadata": {
        "id": "b9I9nIK4o_2m"
      },
      "source": [
        "# Demand Forecasting with Deep Learning"
      ]
    },
    {
      "cell_type": "markdown",
      "metadata": {
        "id": "JCHiaoKcl1uJ"
      },
      "source": [
        "Here we have access to historical transactions for a list of items in different store location on a daily basis.\n",
        "Our task will be to predict the demand for an item in a store within a 90 days interval of time."
      ]
    },
    {
      "cell_type": "code",
      "metadata": {
        "colab": {
          "base_uri": "https://localhost:8080/"
        },
        "id": "SEQatfvcothg",
        "outputId": "3505fb48-81bf-4408-b170-14a39fa5862a"
      },
      "source": [
        "import warnings\n",
        "import numpy as np\n",
        "import pandas as pd\n",
        "import matplotlib.pyplot as plt\n",
        "from keras import optimizers\n",
        "from keras.utils import plot_model\n",
        "from keras.models import Sequential, Model\n",
        "from keras.layers.convolutional import Conv1D, MaxPooling1D\n",
        "from keras.layers import Dense, LSTM, RepeatVector, TimeDistributed, Flatten\n",
        "from sklearn.metrics import mean_squared_error\n",
        "from sklearn.model_selection import train_test_split\n",
        "!pip install chart_studio\n",
        "import chart_studio.plotly.plotly as py\n",
        "#import chart_studio.plotly.graph_objs as go\n",
        "#from chart_studio.plotly.offline import init_notebook_mode, iplot\n",
        "\n",
        "%matplotlib inline\n",
        "warnings.filterwarnings(\"ignore\")\n",
        "#init_notebook_mode(connected=True)"
      ],
      "execution_count": null,
      "outputs": [
        {
          "output_type": "stream",
          "text": [
            "Collecting chart_studio\n",
            "\u001b[?25l  Downloading https://files.pythonhosted.org/packages/ca/ce/330794a6b6ca4b9182c38fc69dd2a9cbff60fd49421cb8648ee5fee352dc/chart_studio-1.1.0-py3-none-any.whl (64kB)\n",
            "\r\u001b[K     |█████                           | 10kB 15.3MB/s eta 0:00:01\r\u001b[K     |██████████▏                     | 20kB 11.3MB/s eta 0:00:01\r\u001b[K     |███████████████▎                | 30kB 8.1MB/s eta 0:00:01\r\u001b[K     |████████████████████▍           | 40kB 7.4MB/s eta 0:00:01\r\u001b[K     |█████████████████████████▍      | 51kB 4.4MB/s eta 0:00:01\r\u001b[K     |██████████████████████████████▌ | 61kB 4.9MB/s eta 0:00:01\r\u001b[K     |████████████████████████████████| 71kB 3.6MB/s \n",
            "\u001b[?25hRequirement already satisfied: six in /usr/local/lib/python3.6/dist-packages (from chart_studio) (1.15.0)\n",
            "Requirement already satisfied: requests in /usr/local/lib/python3.6/dist-packages (from chart_studio) (2.23.0)\n",
            "Requirement already satisfied: plotly in /usr/local/lib/python3.6/dist-packages (from chart_studio) (4.4.1)\n",
            "Requirement already satisfied: retrying>=1.3.3 in /usr/local/lib/python3.6/dist-packages (from chart_studio) (1.3.3)\n",
            "Requirement already satisfied: idna<3,>=2.5 in /usr/local/lib/python3.6/dist-packages (from requests->chart_studio) (2.10)\n",
            "Requirement already satisfied: chardet<4,>=3.0.2 in /usr/local/lib/python3.6/dist-packages (from requests->chart_studio) (3.0.4)\n",
            "Requirement already satisfied: certifi>=2017.4.17 in /usr/local/lib/python3.6/dist-packages (from requests->chart_studio) (2020.12.5)\n",
            "Requirement already satisfied: urllib3!=1.25.0,!=1.25.1,<1.26,>=1.21.1 in /usr/local/lib/python3.6/dist-packages (from requests->chart_studio) (1.24.3)\n",
            "Installing collected packages: chart-studio\n",
            "Successfully installed chart-studio-1.1.0\n"
          ],
          "name": "stdout"
        }
      ]
    },
    {
      "cell_type": "code",
      "metadata": {
        "id": "VGpii_8Ho-oO"
      },
      "source": [
        "# Set seeds to make the experiment more reproducible.\n",
        "from tensorflow.random import set_seed\n",
        "from numpy.random import seed\n",
        "set_seed(1)\n",
        "seed(1)"
      ],
      "execution_count": null,
      "outputs": []
    },
    {
      "cell_type": "markdown",
      "metadata": {
        "id": "EBsDfTynpQvt"
      },
      "source": [
        "## Downloading the data"
      ]
    },
    {
      "cell_type": "markdown",
      "metadata": {
        "id": "YQZPh2qRlc76"
      },
      "source": [
        "For this notebook, we will use data available on the github repository so first download the dataset from the repository [here](https://github.com/lewagon/dl-week-challenges/tree/master/04-Advanced-RNN-for-Time-Series/03-Demand-Forecasting-with-Deep-Learning) (you can access it if you already git clone the repository, make sure your local version is up-to-date, otherwise you simply need to run a `git pull`) and then upload it with the following cell to your Drive:"
      ]
    },
    {
      "cell_type": "code",
      "metadata": {
        "colab": {
          "resources": {
            "http://localhost:8080/nbextensions/google.colab/files.js": {
              "data": "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",
              "ok": true,
              "headers": [
                [
                  "content-type",
                  "application/javascript"
                ]
              ],
              "status": 200,
              "status_text": ""
            }
          },
          "base_uri": "https://localhost:8080/",
          "height": 90
        },
        "id": "InkRJ6Wyo_jD",
        "outputId": "7702f05c-ec70-4e32-fc2e-a7b370025c58"
      },
      "source": [
        "from google.colab import files\n",
        "\n",
        "uploaded = files.upload()\n",
        "\n",
        "for fn in uploaded.keys():\n",
        "  print('User uploaded file \"{name}\" with length {length} bytes'.format(\n",
        "      name=fn, length=len(uploaded[fn])))"
      ],
      "execution_count": null,
      "outputs": [
        {
          "output_type": "display_data",
          "data": {
            "text/html": [
              "\n",
              "     <input type=\"file\" id=\"files-2b172816-7742-4c47-b6c0-fd3b7533d963\" name=\"files[]\" multiple disabled\n",
              "        style=\"border:none\" />\n",
              "     <output id=\"result-2b172816-7742-4c47-b6c0-fd3b7533d963\">\n",
              "      Upload widget is only available when the cell has been executed in the\n",
              "      current browser session. Please rerun this cell to enable.\n",
              "      </output>\n",
              "      <script src=\"/nbextensions/google.colab/files.js\"></script> "
            ],
            "text/plain": [
              "<IPython.core.display.HTML object>"
            ]
          },
          "metadata": {
            "tags": []
          }
        },
        {
          "output_type": "stream",
          "text": [
            "Saving demand-forecasting-kernels-only.zip to demand-forecasting-kernels-only.zip\n",
            "User uploaded file \"demand-forecasting-kernels-only.zip\" with length 3454726 bytes\n"
          ],
          "name": "stdout"
        }
      ]
    },
    {
      "cell_type": "code",
      "metadata": {
        "colab": {
          "base_uri": "https://localhost:8080/"
        },
        "id": "E4n2sDIOpecN",
        "outputId": "9a2b59ec-69fb-4233-ee2d-a59a3d7520be"
      },
      "source": [
        "# Unzip the data\n",
        "!unzip demand-forecasting-kernels-only.zip"
      ],
      "execution_count": null,
      "outputs": [
        {
          "output_type": "stream",
          "text": [
            "Archive:  demand-forecasting-kernels-only.zip\n",
            "  inflating: sample_submission.csv   \n",
            "  inflating: test.csv                \n",
            "  inflating: train.csv               \n"
          ],
          "name": "stdout"
        }
      ]
    },
    {
      "cell_type": "code",
      "metadata": {
        "id": "EBEyLZ_KpwmI"
      },
      "source": [
        "# Here we read the training and test data.\n",
        "train = pd.read_csv('./train.csv', parse_dates=['date'])\n",
        "test = pd.read_csv('./test.csv', parse_dates=['date'])"
      ],
      "execution_count": null,
      "outputs": []
    },
    {
      "cell_type": "markdown",
      "metadata": {
        "id": "EHFMrLW7qAqB"
      },
      "source": [
        "## Statistics the data\n",
        "\n",
        "First, let's look at the dataset."
      ]
    },
    {
      "cell_type": "code",
      "metadata": {
        "colab": {
          "base_uri": "https://localhost:8080/",
          "height": 212
        },
        "id": "GsUGk3IsqEGd",
        "outputId": "e9d2109d-e03d-4133-9cd2-ec9298429c37"
      },
      "source": [
        "print(train.shape)\n",
        "train.head()"
      ],
      "execution_count": null,
      "outputs": [
        {
          "output_type": "stream",
          "text": [
            "(913000, 4)\n"
          ],
          "name": "stdout"
        },
        {
          "output_type": "execute_result",
          "data": {
            "text/html": [
              "<div>\n",
              "<style scoped>\n",
              "    .dataframe tbody tr th:only-of-type {\n",
              "        vertical-align: middle;\n",
              "    }\n",
              "\n",
              "    .dataframe tbody tr th {\n",
              "        vertical-align: top;\n",
              "    }\n",
              "\n",
              "    .dataframe thead th {\n",
              "        text-align: right;\n",
              "    }\n",
              "</style>\n",
              "<table border=\"1\" class=\"dataframe\">\n",
              "  <thead>\n",
              "    <tr style=\"text-align: right;\">\n",
              "      <th></th>\n",
              "      <th>date</th>\n",
              "      <th>store</th>\n",
              "      <th>item</th>\n",
              "      <th>sales</th>\n",
              "    </tr>\n",
              "  </thead>\n",
              "  <tbody>\n",
              "    <tr>\n",
              "      <th>0</th>\n",
              "      <td>2013-01-01</td>\n",
              "      <td>1</td>\n",
              "      <td>1</td>\n",
              "      <td>13</td>\n",
              "    </tr>\n",
              "    <tr>\n",
              "      <th>1</th>\n",
              "      <td>2013-01-02</td>\n",
              "      <td>1</td>\n",
              "      <td>1</td>\n",
              "      <td>11</td>\n",
              "    </tr>\n",
              "    <tr>\n",
              "      <th>2</th>\n",
              "      <td>2013-01-03</td>\n",
              "      <td>1</td>\n",
              "      <td>1</td>\n",
              "      <td>14</td>\n",
              "    </tr>\n",
              "    <tr>\n",
              "      <th>3</th>\n",
              "      <td>2013-01-04</td>\n",
              "      <td>1</td>\n",
              "      <td>1</td>\n",
              "      <td>13</td>\n",
              "    </tr>\n",
              "    <tr>\n",
              "      <th>4</th>\n",
              "      <td>2013-01-05</td>\n",
              "      <td>1</td>\n",
              "      <td>1</td>\n",
              "      <td>10</td>\n",
              "    </tr>\n",
              "  </tbody>\n",
              "</table>\n",
              "</div>"
            ],
            "text/plain": [
              "        date  store  item  sales\n",
              "0 2013-01-01      1     1     13\n",
              "1 2013-01-02      1     1     11\n",
              "2 2013-01-03      1     1     14\n",
              "3 2013-01-04      1     1     13\n",
              "4 2013-01-05      1     1     10"
            ]
          },
          "metadata": {
            "tags": []
          },
          "execution_count": 6
        }
      ]
    },
    {
      "cell_type": "code",
      "metadata": {
        "colab": {
          "base_uri": "https://localhost:8080/",
          "height": 284
        },
        "id": "FRWYYGmxp3vd",
        "outputId": "1f55323c-7334-43bf-b3b5-c91f39e2b69a"
      },
      "source": [
        "train.describe()\n"
      ],
      "execution_count": null,
      "outputs": [
        {
          "output_type": "execute_result",
          "data": {
            "text/html": [
              "<div>\n",
              "<style scoped>\n",
              "    .dataframe tbody tr th:only-of-type {\n",
              "        vertical-align: middle;\n",
              "    }\n",
              "\n",
              "    .dataframe tbody tr th {\n",
              "        vertical-align: top;\n",
              "    }\n",
              "\n",
              "    .dataframe thead th {\n",
              "        text-align: right;\n",
              "    }\n",
              "</style>\n",
              "<table border=\"1\" class=\"dataframe\">\n",
              "  <thead>\n",
              "    <tr style=\"text-align: right;\">\n",
              "      <th></th>\n",
              "      <th>store</th>\n",
              "      <th>item</th>\n",
              "      <th>sales</th>\n",
              "    </tr>\n",
              "  </thead>\n",
              "  <tbody>\n",
              "    <tr>\n",
              "      <th>count</th>\n",
              "      <td>913000.000000</td>\n",
              "      <td>913000.000000</td>\n",
              "      <td>913000.000000</td>\n",
              "    </tr>\n",
              "    <tr>\n",
              "      <th>mean</th>\n",
              "      <td>5.500000</td>\n",
              "      <td>25.500000</td>\n",
              "      <td>52.250287</td>\n",
              "    </tr>\n",
              "    <tr>\n",
              "      <th>std</th>\n",
              "      <td>2.872283</td>\n",
              "      <td>14.430878</td>\n",
              "      <td>28.801144</td>\n",
              "    </tr>\n",
              "    <tr>\n",
              "      <th>min</th>\n",
              "      <td>1.000000</td>\n",
              "      <td>1.000000</td>\n",
              "      <td>0.000000</td>\n",
              "    </tr>\n",
              "    <tr>\n",
              "      <th>25%</th>\n",
              "      <td>3.000000</td>\n",
              "      <td>13.000000</td>\n",
              "      <td>30.000000</td>\n",
              "    </tr>\n",
              "    <tr>\n",
              "      <th>50%</th>\n",
              "      <td>5.500000</td>\n",
              "      <td>25.500000</td>\n",
              "      <td>47.000000</td>\n",
              "    </tr>\n",
              "    <tr>\n",
              "      <th>75%</th>\n",
              "      <td>8.000000</td>\n",
              "      <td>38.000000</td>\n",
              "      <td>70.000000</td>\n",
              "    </tr>\n",
              "    <tr>\n",
              "      <th>max</th>\n",
              "      <td>10.000000</td>\n",
              "      <td>50.000000</td>\n",
              "      <td>231.000000</td>\n",
              "    </tr>\n",
              "  </tbody>\n",
              "</table>\n",
              "</div>"
            ],
            "text/plain": [
              "               store           item          sales\n",
              "count  913000.000000  913000.000000  913000.000000\n",
              "mean        5.500000      25.500000      52.250287\n",
              "std         2.872283      14.430878      28.801144\n",
              "min         1.000000       1.000000       0.000000\n",
              "25%         3.000000      13.000000      30.000000\n",
              "50%         5.500000      25.500000      47.000000\n",
              "75%         8.000000      38.000000      70.000000\n",
              "max        10.000000      50.000000     231.000000"
            ]
          },
          "metadata": {
            "tags": []
          },
          "execution_count": 7
        }
      ]
    },
    {
      "cell_type": "code",
      "metadata": {
        "id": "Wko9rcqiqCaO"
      },
      "source": [
        "# Let's check the time range of the two period, train and test.\n",
        "\n",
        "# YOUR CODE HERE"
      ],
      "execution_count": null,
      "outputs": []
    },
    {
      "cell_type": "markdown",
      "metadata": {
        "id": "VoFw_R6folDz"
      },
      "source": [
        "\n",
        "<details>\n",
        "  <summary>View solution</summary>\n",
        "    \n",
        "```python\n",
        "print('Min date from train set: %s' % train['date'].min().date())\n",
        "print('Max date from train set: %s' % train['date'].max().date())\n",
        "\n",
        "print('Min date from test set: %s' % test['date'].min().date())\n",
        "print('Max date from test set: %s' % test['date'].max().date())\n",
        "\n",
        "test_interval = (test['date'].max().date() - train['date'].max().date()).days\n",
        "print('Number of days to predict', test_interval, ' days')\n",
        "```\n",
        "</details>\n",
        "\n"
      ]
    },
    {
      "cell_type": "markdown",
      "metadata": {
        "id": "6V8oiWX_65TI"
      },
      "source": [
        "## Preparing the data"
      ]
    },
    {
      "cell_type": "markdown",
      "metadata": {
        "id": "Zy96mlH4pOhR"
      },
      "source": [
        "Our task is to predict the sales for each item in each store in a 90 days period, which follows the training data we have. \n",
        "\n",
        "Our approach is to treat our data as time series of sales accross store and items on a daily basis.\n",
        "\n",
        "Then we can try different approaches, we'll focus the simplest one:\n",
        "\n",
        "- Predict the next time step based on a single one and repeat this (*one-to-one*);\n",
        "\n",
        "\n",
        "To satisfy this approach, we first need to prepare the data following these steps:\n",
        "- flattenning the data in our time series format (one day per row and sales across items and stores as columns);\n",
        "- encoding in each row the dates so our model can take into account the seasonality of the data;"
      ]
    },
    {
      "cell_type": "markdown",
      "metadata": {
        "id": "_uaMIhMO35cy"
      },
      "source": [
        "### Flattening the data"
      ]
    },
    {
      "cell_type": "code",
      "metadata": {
        "id": "fM0htdbi8iZX"
      },
      "source": [
        "# First let's extract for each tuple (item, store) the Serie of sales with the \n",
        "# date as index\n",
        "# NB: this would be our time serie in the case of only 1 tuple (item, store)\n",
        "\n",
        "# YOUR CODE HERE\n",
        "def get_sales_for_item_store(df, item, store):\n",
        "  ...\n",
        "  pass\n",
        "\n",
        "# Here we apply this function on store 1 and item 1 as a sanity check\n",
        "get_sales_for_item_store(train, 1, 1)  "
      ],
      "execution_count": null,
      "outputs": []
    },
    {
      "cell_type": "markdown",
      "metadata": {
        "id": "vaavDLCYAnvH"
      },
      "source": [
        "<details>\n",
        "  <summary>Hint</summary>\n",
        "    \n",
        "```markdown\n",
        "Here you just want to extract some rows of your input dataframe, using a condition on the item and on the store and to return the time columns as index and the sales as column.\n",
        "```\n",
        "    \n",
        "</details>\n",
        "​\n",
        "<details>\n",
        "  <summary>View solution</summary>\n",
        "    \n",
        "```python\n",
        "def get_sales_for_item_store(df, item, store):\n",
        "  tmp_df = df[(df['item'] == item) & (df['store'] == store)]\n",
        "  tmp_df = tmp_df.set_index('date')\n",
        "  return tmp_df.drop(['store', 'item'], axis=1)\n",
        "\n",
        "```\n",
        "</details>\n",
        "\n"
      ]
    },
    {
      "cell_type": "code",
      "metadata": {
        "id": "4KJPS64x6Loa"
      },
      "source": [
        "# Let's build our flattenned dataframe with this function. We need to loop\n",
        "# over all the possible tuples, create the series, update the column name\n",
        "# sales -> item_{i}_store_{s}_sales (to be able to differentiate them) and \n",
        "# concatenate them into a single table\n",
        "# NB: since we indexed by dates our serie, we can simply join them. This will\n",
        "# prevent misalignement issue in case some dates are missing for some (item, store)\n",
        "from itertools import product\n",
        "\n",
        "def col_name(i, s):\n",
        "  return f'item_{i}_store_{s}_sales'\n",
        "\n",
        "def flatten_df(df):\n",
        "  # YOUR CODE HERE\n",
        "  flattened_df = ...\n",
        "  return flattened_df\n",
        "\n",
        "train_flattened_df = flatten_df(train)"
      ],
      "execution_count": null,
      "outputs": []
    },
    {
      "cell_type": "markdown",
      "metadata": {
        "id": "h39zfZVHBLcM"
      },
      "source": [
        "<details>\n",
        "  <summary>View solution</summary>\n",
        "    \n",
        "```python\n",
        "from itertools import product\n",
        "\n",
        "def col_name(i, s):\n",
        "  return f'item_{i}_store_{s}_sales'\n",
        "\n",
        "def flatten_df(df):\n",
        "  num_items = df.item.nunique()\n",
        "  num_stores = df.store.nunique()\n",
        "  flattened_df = pd.DataFrame()\n",
        "  for item, store in product(range(1, num_items + 1), range(1, num_stores + 1)):\n",
        "    if len(flattened_df) == 0:\n",
        "      flattened_df = get_sales_for_item_store(df, item, store).rename(columns={'sales': col_name(item, store)})\n",
        "    else:\n",
        "      tmp_df = get_sales_for_item_store(df, item, store).rename(columns={'sales': col_name(item, store)})\n",
        "      flattened_df = flattened_df.join(tmp_df, how='outer')\n",
        "  return flattened_df\n",
        "\n",
        "train_flattened_df = flatten_df(train)\n",
        "```\n",
        "</details>\n",
        "\n",
        "\n",
        "\n"
      ]
    },
    {
      "cell_type": "code",
      "metadata": {
        "colab": {
          "base_uri": "https://localhost:8080/",
          "height": 374
        },
        "id": "13qnFCBb9xOd",
        "outputId": "011d5c26-fddf-48a7-be72-bec1e8de3fe7"
      },
      "source": [
        "print(train_flattened_df.shape)\n",
        "train_flattened_df.head()"
      ],
      "execution_count": null,
      "outputs": [
        {
          "output_type": "stream",
          "text": [
            "(1826, 500)\n"
          ],
          "name": "stdout"
        },
        {
          "output_type": "execute_result",
          "data": {
            "text/html": [
              "<div>\n",
              "<style scoped>\n",
              "    .dataframe tbody tr th:only-of-type {\n",
              "        vertical-align: middle;\n",
              "    }\n",
              "\n",
              "    .dataframe tbody tr th {\n",
              "        vertical-align: top;\n",
              "    }\n",
              "\n",
              "    .dataframe thead th {\n",
              "        text-align: right;\n",
              "    }\n",
              "</style>\n",
              "<table border=\"1\" class=\"dataframe\">\n",
              "  <thead>\n",
              "    <tr style=\"text-align: right;\">\n",
              "      <th></th>\n",
              "      <th>item_1_store_1_sales</th>\n",
              "      <th>item_1_store_2_sales</th>\n",
              "      <th>item_1_store_3_sales</th>\n",
              "      <th>item_1_store_4_sales</th>\n",
              "      <th>item_1_store_5_sales</th>\n",
              "      <th>item_1_store_6_sales</th>\n",
              "      <th>item_1_store_7_sales</th>\n",
              "      <th>item_1_store_8_sales</th>\n",
              "      <th>item_1_store_9_sales</th>\n",
              "      <th>item_1_store_10_sales</th>\n",
              "      <th>item_2_store_1_sales</th>\n",
              "      <th>item_2_store_2_sales</th>\n",
              "      <th>item_2_store_3_sales</th>\n",
              "      <th>item_2_store_4_sales</th>\n",
              "      <th>item_2_store_5_sales</th>\n",
              "      <th>item_2_store_6_sales</th>\n",
              "      <th>item_2_store_7_sales</th>\n",
              "      <th>item_2_store_8_sales</th>\n",
              "      <th>item_2_store_9_sales</th>\n",
              "      <th>item_2_store_10_sales</th>\n",
              "      <th>item_3_store_1_sales</th>\n",
              "      <th>item_3_store_2_sales</th>\n",
              "      <th>item_3_store_3_sales</th>\n",
              "      <th>item_3_store_4_sales</th>\n",
              "      <th>item_3_store_5_sales</th>\n",
              "      <th>item_3_store_6_sales</th>\n",
              "      <th>item_3_store_7_sales</th>\n",
              "      <th>item_3_store_8_sales</th>\n",
              "      <th>item_3_store_9_sales</th>\n",
              "      <th>item_3_store_10_sales</th>\n",
              "      <th>item_4_store_1_sales</th>\n",
              "      <th>item_4_store_2_sales</th>\n",
              "      <th>item_4_store_3_sales</th>\n",
              "      <th>item_4_store_4_sales</th>\n",
              "      <th>item_4_store_5_sales</th>\n",
              "      <th>item_4_store_6_sales</th>\n",
              "      <th>item_4_store_7_sales</th>\n",
              "      <th>item_4_store_8_sales</th>\n",
              "      <th>item_4_store_9_sales</th>\n",
              "      <th>item_4_store_10_sales</th>\n",
              "      <th>...</th>\n",
              "      <th>item_47_store_1_sales</th>\n",
              "      <th>item_47_store_2_sales</th>\n",
              "      <th>item_47_store_3_sales</th>\n",
              "      <th>item_47_store_4_sales</th>\n",
              "      <th>item_47_store_5_sales</th>\n",
              "      <th>item_47_store_6_sales</th>\n",
              "      <th>item_47_store_7_sales</th>\n",
              "      <th>item_47_store_8_sales</th>\n",
              "      <th>item_47_store_9_sales</th>\n",
              "      <th>item_47_store_10_sales</th>\n",
              "      <th>item_48_store_1_sales</th>\n",
              "      <th>item_48_store_2_sales</th>\n",
              "      <th>item_48_store_3_sales</th>\n",
              "      <th>item_48_store_4_sales</th>\n",
              "      <th>item_48_store_5_sales</th>\n",
              "      <th>item_48_store_6_sales</th>\n",
              "      <th>item_48_store_7_sales</th>\n",
              "      <th>item_48_store_8_sales</th>\n",
              "      <th>item_48_store_9_sales</th>\n",
              "      <th>item_48_store_10_sales</th>\n",
              "      <th>item_49_store_1_sales</th>\n",
              "      <th>item_49_store_2_sales</th>\n",
              "      <th>item_49_store_3_sales</th>\n",
              "      <th>item_49_store_4_sales</th>\n",
              "      <th>item_49_store_5_sales</th>\n",
              "      <th>item_49_store_6_sales</th>\n",
              "      <th>item_49_store_7_sales</th>\n",
              "      <th>item_49_store_8_sales</th>\n",
              "      <th>item_49_store_9_sales</th>\n",
              "      <th>item_49_store_10_sales</th>\n",
              "      <th>item_50_store_1_sales</th>\n",
              "      <th>item_50_store_2_sales</th>\n",
              "      <th>item_50_store_3_sales</th>\n",
              "      <th>item_50_store_4_sales</th>\n",
              "      <th>item_50_store_5_sales</th>\n",
              "      <th>item_50_store_6_sales</th>\n",
              "      <th>item_50_store_7_sales</th>\n",
              "      <th>item_50_store_8_sales</th>\n",
              "      <th>item_50_store_9_sales</th>\n",
              "      <th>item_50_store_10_sales</th>\n",
              "    </tr>\n",
              "    <tr>\n",
              "      <th>date</th>\n",
              "      <th></th>\n",
              "      <th></th>\n",
              "      <th></th>\n",
              "      <th></th>\n",
              "      <th></th>\n",
              "      <th></th>\n",
              "      <th></th>\n",
              "      <th></th>\n",
              "      <th></th>\n",
              "      <th></th>\n",
              "      <th></th>\n",
              "      <th></th>\n",
              "      <th></th>\n",
              "      <th></th>\n",
              "      <th></th>\n",
              "      <th></th>\n",
              "      <th></th>\n",
              "      <th></th>\n",
              "      <th></th>\n",
              "      <th></th>\n",
              "      <th></th>\n",
              "      <th></th>\n",
              "      <th></th>\n",
              "      <th></th>\n",
              "      <th></th>\n",
              "      <th></th>\n",
              "      <th></th>\n",
              "      <th></th>\n",
              "      <th></th>\n",
              "      <th></th>\n",
              "      <th></th>\n",
              "      <th></th>\n",
              "      <th></th>\n",
              "      <th></th>\n",
              "      <th></th>\n",
              "      <th></th>\n",
              "      <th></th>\n",
              "      <th></th>\n",
              "      <th></th>\n",
              "      <th></th>\n",
              "      <th></th>\n",
              "      <th></th>\n",
              "      <th></th>\n",
              "      <th></th>\n",
              "      <th></th>\n",
              "      <th></th>\n",
              "      <th></th>\n",
              "      <th></th>\n",
              "      <th></th>\n",
              "      <th></th>\n",
              "      <th></th>\n",
              "      <th></th>\n",
              "      <th></th>\n",
              "      <th></th>\n",
              "      <th></th>\n",
              "      <th></th>\n",
              "      <th></th>\n",
              "      <th></th>\n",
              "      <th></th>\n",
              "      <th></th>\n",
              "      <th></th>\n",
              "      <th></th>\n",
              "      <th></th>\n",
              "      <th></th>\n",
              "      <th></th>\n",
              "      <th></th>\n",
              "      <th></th>\n",
              "      <th></th>\n",
              "      <th></th>\n",
              "      <th></th>\n",
              "      <th></th>\n",
              "      <th></th>\n",
              "      <th></th>\n",
              "      <th></th>\n",
              "      <th></th>\n",
              "      <th></th>\n",
              "      <th></th>\n",
              "      <th></th>\n",
              "      <th></th>\n",
              "      <th></th>\n",
              "      <th></th>\n",
              "    </tr>\n",
              "  </thead>\n",
              "  <tbody>\n",
              "    <tr>\n",
              "      <th>2013-01-01</th>\n",
              "      <td>13</td>\n",
              "      <td>12</td>\n",
              "      <td>19</td>\n",
              "      <td>10</td>\n",
              "      <td>11</td>\n",
              "      <td>20</td>\n",
              "      <td>7</td>\n",
              "      <td>16</td>\n",
              "      <td>11</td>\n",
              "      <td>14</td>\n",
              "      <td>33</td>\n",
              "      <td>41</td>\n",
              "      <td>43</td>\n",
              "      <td>30</td>\n",
              "      <td>26</td>\n",
              "      <td>27</td>\n",
              "      <td>21</td>\n",
              "      <td>39</td>\n",
              "      <td>31</td>\n",
              "      <td>36</td>\n",
              "      <td>15</td>\n",
              "      <td>19</td>\n",
              "      <td>26</td>\n",
              "      <td>17</td>\n",
              "      <td>14</td>\n",
              "      <td>13</td>\n",
              "      <td>9</td>\n",
              "      <td>21</td>\n",
              "      <td>20</td>\n",
              "      <td>18</td>\n",
              "      <td>10</td>\n",
              "      <td>21</td>\n",
              "      <td>9</td>\n",
              "      <td>13</td>\n",
              "      <td>4</td>\n",
              "      <td>7</td>\n",
              "      <td>6</td>\n",
              "      <td>13</td>\n",
              "      <td>10</td>\n",
              "      <td>9</td>\n",
              "      <td>...</td>\n",
              "      <td>17</td>\n",
              "      <td>12</td>\n",
              "      <td>10</td>\n",
              "      <td>23</td>\n",
              "      <td>9</td>\n",
              "      <td>5</td>\n",
              "      <td>4</td>\n",
              "      <td>19</td>\n",
              "      <td>6</td>\n",
              "      <td>11</td>\n",
              "      <td>21</td>\n",
              "      <td>45</td>\n",
              "      <td>28</td>\n",
              "      <td>34</td>\n",
              "      <td>21</td>\n",
              "      <td>21</td>\n",
              "      <td>27</td>\n",
              "      <td>27</td>\n",
              "      <td>28</td>\n",
              "      <td>25</td>\n",
              "      <td>18</td>\n",
              "      <td>29</td>\n",
              "      <td>21</td>\n",
              "      <td>12</td>\n",
              "      <td>9</td>\n",
              "      <td>11</td>\n",
              "      <td>19</td>\n",
              "      <td>12</td>\n",
              "      <td>11</td>\n",
              "      <td>17</td>\n",
              "      <td>30</td>\n",
              "      <td>43</td>\n",
              "      <td>45</td>\n",
              "      <td>38</td>\n",
              "      <td>19</td>\n",
              "      <td>20</td>\n",
              "      <td>21</td>\n",
              "      <td>45</td>\n",
              "      <td>36</td>\n",
              "      <td>33</td>\n",
              "    </tr>\n",
              "    <tr>\n",
              "      <th>2013-01-02</th>\n",
              "      <td>11</td>\n",
              "      <td>16</td>\n",
              "      <td>8</td>\n",
              "      <td>12</td>\n",
              "      <td>9</td>\n",
              "      <td>6</td>\n",
              "      <td>4</td>\n",
              "      <td>10</td>\n",
              "      <td>9</td>\n",
              "      <td>14</td>\n",
              "      <td>43</td>\n",
              "      <td>33</td>\n",
              "      <td>27</td>\n",
              "      <td>28</td>\n",
              "      <td>22</td>\n",
              "      <td>18</td>\n",
              "      <td>23</td>\n",
              "      <td>25</td>\n",
              "      <td>26</td>\n",
              "      <td>34</td>\n",
              "      <td>30</td>\n",
              "      <td>32</td>\n",
              "      <td>16</td>\n",
              "      <td>23</td>\n",
              "      <td>16</td>\n",
              "      <td>14</td>\n",
              "      <td>11</td>\n",
              "      <td>21</td>\n",
              "      <td>22</td>\n",
              "      <td>28</td>\n",
              "      <td>11</td>\n",
              "      <td>14</td>\n",
              "      <td>15</td>\n",
              "      <td>16</td>\n",
              "      <td>5</td>\n",
              "      <td>7</td>\n",
              "      <td>8</td>\n",
              "      <td>10</td>\n",
              "      <td>15</td>\n",
              "      <td>9</td>\n",
              "      <td>...</td>\n",
              "      <td>15</td>\n",
              "      <td>13</td>\n",
              "      <td>12</td>\n",
              "      <td>11</td>\n",
              "      <td>10</td>\n",
              "      <td>10</td>\n",
              "      <td>4</td>\n",
              "      <td>16</td>\n",
              "      <td>14</td>\n",
              "      <td>13</td>\n",
              "      <td>26</td>\n",
              "      <td>37</td>\n",
              "      <td>32</td>\n",
              "      <td>26</td>\n",
              "      <td>22</td>\n",
              "      <td>20</td>\n",
              "      <td>21</td>\n",
              "      <td>35</td>\n",
              "      <td>38</td>\n",
              "      <td>24</td>\n",
              "      <td>10</td>\n",
              "      <td>25</td>\n",
              "      <td>14</td>\n",
              "      <td>18</td>\n",
              "      <td>13</td>\n",
              "      <td>10</td>\n",
              "      <td>13</td>\n",
              "      <td>27</td>\n",
              "      <td>16</td>\n",
              "      <td>13</td>\n",
              "      <td>32</td>\n",
              "      <td>57</td>\n",
              "      <td>47</td>\n",
              "      <td>35</td>\n",
              "      <td>25</td>\n",
              "      <td>23</td>\n",
              "      <td>30</td>\n",
              "      <td>54</td>\n",
              "      <td>44</td>\n",
              "      <td>37</td>\n",
              "    </tr>\n",
              "    <tr>\n",
              "      <th>2013-01-03</th>\n",
              "      <td>14</td>\n",
              "      <td>16</td>\n",
              "      <td>10</td>\n",
              "      <td>8</td>\n",
              "      <td>12</td>\n",
              "      <td>11</td>\n",
              "      <td>8</td>\n",
              "      <td>12</td>\n",
              "      <td>20</td>\n",
              "      <td>16</td>\n",
              "      <td>23</td>\n",
              "      <td>46</td>\n",
              "      <td>38</td>\n",
              "      <td>37</td>\n",
              "      <td>26</td>\n",
              "      <td>20</td>\n",
              "      <td>13</td>\n",
              "      <td>34</td>\n",
              "      <td>33</td>\n",
              "      <td>34</td>\n",
              "      <td>14</td>\n",
              "      <td>26</td>\n",
              "      <td>17</td>\n",
              "      <td>27</td>\n",
              "      <td>15</td>\n",
              "      <td>13</td>\n",
              "      <td>14</td>\n",
              "      <td>21</td>\n",
              "      <td>20</td>\n",
              "      <td>26</td>\n",
              "      <td>8</td>\n",
              "      <td>12</td>\n",
              "      <td>9</td>\n",
              "      <td>12</td>\n",
              "      <td>8</td>\n",
              "      <td>17</td>\n",
              "      <td>9</td>\n",
              "      <td>16</td>\n",
              "      <td>7</td>\n",
              "      <td>14</td>\n",
              "      <td>...</td>\n",
              "      <td>5</td>\n",
              "      <td>5</td>\n",
              "      <td>13</td>\n",
              "      <td>11</td>\n",
              "      <td>14</td>\n",
              "      <td>10</td>\n",
              "      <td>4</td>\n",
              "      <td>8</td>\n",
              "      <td>18</td>\n",
              "      <td>16</td>\n",
              "      <td>25</td>\n",
              "      <td>45</td>\n",
              "      <td>40</td>\n",
              "      <td>33</td>\n",
              "      <td>24</td>\n",
              "      <td>27</td>\n",
              "      <td>11</td>\n",
              "      <td>22</td>\n",
              "      <td>24</td>\n",
              "      <td>29</td>\n",
              "      <td>17</td>\n",
              "      <td>30</td>\n",
              "      <td>22</td>\n",
              "      <td>22</td>\n",
              "      <td>16</td>\n",
              "      <td>16</td>\n",
              "      <td>9</td>\n",
              "      <td>16</td>\n",
              "      <td>20</td>\n",
              "      <td>19</td>\n",
              "      <td>25</td>\n",
              "      <td>45</td>\n",
              "      <td>39</td>\n",
              "      <td>32</td>\n",
              "      <td>28</td>\n",
              "      <td>38</td>\n",
              "      <td>20</td>\n",
              "      <td>54</td>\n",
              "      <td>29</td>\n",
              "      <td>46</td>\n",
              "    </tr>\n",
              "    <tr>\n",
              "      <th>2013-01-04</th>\n",
              "      <td>13</td>\n",
              "      <td>20</td>\n",
              "      <td>15</td>\n",
              "      <td>15</td>\n",
              "      <td>8</td>\n",
              "      <td>7</td>\n",
              "      <td>7</td>\n",
              "      <td>21</td>\n",
              "      <td>22</td>\n",
              "      <td>17</td>\n",
              "      <td>18</td>\n",
              "      <td>50</td>\n",
              "      <td>35</td>\n",
              "      <td>44</td>\n",
              "      <td>23</td>\n",
              "      <td>24</td>\n",
              "      <td>34</td>\n",
              "      <td>39</td>\n",
              "      <td>42</td>\n",
              "      <td>50</td>\n",
              "      <td>10</td>\n",
              "      <td>34</td>\n",
              "      <td>25</td>\n",
              "      <td>27</td>\n",
              "      <td>15</td>\n",
              "      <td>17</td>\n",
              "      <td>15</td>\n",
              "      <td>19</td>\n",
              "      <td>25</td>\n",
              "      <td>31</td>\n",
              "      <td>19</td>\n",
              "      <td>17</td>\n",
              "      <td>16</td>\n",
              "      <td>19</td>\n",
              "      <td>7</td>\n",
              "      <td>10</td>\n",
              "      <td>2</td>\n",
              "      <td>13</td>\n",
              "      <td>19</td>\n",
              "      <td>16</td>\n",
              "      <td>...</td>\n",
              "      <td>13</td>\n",
              "      <td>19</td>\n",
              "      <td>5</td>\n",
              "      <td>18</td>\n",
              "      <td>10</td>\n",
              "      <td>11</td>\n",
              "      <td>9</td>\n",
              "      <td>17</td>\n",
              "      <td>15</td>\n",
              "      <td>11</td>\n",
              "      <td>26</td>\n",
              "      <td>32</td>\n",
              "      <td>39</td>\n",
              "      <td>26</td>\n",
              "      <td>34</td>\n",
              "      <td>21</td>\n",
              "      <td>17</td>\n",
              "      <td>32</td>\n",
              "      <td>30</td>\n",
              "      <td>39</td>\n",
              "      <td>22</td>\n",
              "      <td>20</td>\n",
              "      <td>26</td>\n",
              "      <td>17</td>\n",
              "      <td>12</td>\n",
              "      <td>18</td>\n",
              "      <td>9</td>\n",
              "      <td>18</td>\n",
              "      <td>19</td>\n",
              "      <td>23</td>\n",
              "      <td>32</td>\n",
              "      <td>45</td>\n",
              "      <td>48</td>\n",
              "      <td>36</td>\n",
              "      <td>27</td>\n",
              "      <td>33</td>\n",
              "      <td>27</td>\n",
              "      <td>52</td>\n",
              "      <td>43</td>\n",
              "      <td>51</td>\n",
              "    </tr>\n",
              "    <tr>\n",
              "      <th>2013-01-05</th>\n",
              "      <td>10</td>\n",
              "      <td>16</td>\n",
              "      <td>22</td>\n",
              "      <td>19</td>\n",
              "      <td>13</td>\n",
              "      <td>12</td>\n",
              "      <td>8</td>\n",
              "      <td>15</td>\n",
              "      <td>22</td>\n",
              "      <td>12</td>\n",
              "      <td>34</td>\n",
              "      <td>44</td>\n",
              "      <td>47</td>\n",
              "      <td>36</td>\n",
              "      <td>22</td>\n",
              "      <td>32</td>\n",
              "      <td>25</td>\n",
              "      <td>45</td>\n",
              "      <td>50</td>\n",
              "      <td>42</td>\n",
              "      <td>23</td>\n",
              "      <td>25</td>\n",
              "      <td>34</td>\n",
              "      <td>19</td>\n",
              "      <td>10</td>\n",
              "      <td>21</td>\n",
              "      <td>14</td>\n",
              "      <td>24</td>\n",
              "      <td>25</td>\n",
              "      <td>22</td>\n",
              "      <td>12</td>\n",
              "      <td>14</td>\n",
              "      <td>16</td>\n",
              "      <td>13</td>\n",
              "      <td>7</td>\n",
              "      <td>14</td>\n",
              "      <td>15</td>\n",
              "      <td>18</td>\n",
              "      <td>16</td>\n",
              "      <td>19</td>\n",
              "      <td>...</td>\n",
              "      <td>12</td>\n",
              "      <td>18</td>\n",
              "      <td>14</td>\n",
              "      <td>18</td>\n",
              "      <td>7</td>\n",
              "      <td>9</td>\n",
              "      <td>8</td>\n",
              "      <td>18</td>\n",
              "      <td>13</td>\n",
              "      <td>16</td>\n",
              "      <td>28</td>\n",
              "      <td>53</td>\n",
              "      <td>47</td>\n",
              "      <td>33</td>\n",
              "      <td>24</td>\n",
              "      <td>24</td>\n",
              "      <td>28</td>\n",
              "      <td>40</td>\n",
              "      <td>33</td>\n",
              "      <td>34</td>\n",
              "      <td>15</td>\n",
              "      <td>20</td>\n",
              "      <td>22</td>\n",
              "      <td>19</td>\n",
              "      <td>19</td>\n",
              "      <td>13</td>\n",
              "      <td>12</td>\n",
              "      <td>21</td>\n",
              "      <td>16</td>\n",
              "      <td>22</td>\n",
              "      <td>35</td>\n",
              "      <td>55</td>\n",
              "      <td>46</td>\n",
              "      <td>47</td>\n",
              "      <td>31</td>\n",
              "      <td>33</td>\n",
              "      <td>18</td>\n",
              "      <td>48</td>\n",
              "      <td>53</td>\n",
              "      <td>41</td>\n",
              "    </tr>\n",
              "  </tbody>\n",
              "</table>\n",
              "<p>5 rows × 500 columns</p>\n",
              "</div>"
            ],
            "text/plain": [
              "            item_1_store_1_sales  ...  item_50_store_10_sales\n",
              "date                              ...                        \n",
              "2013-01-01                    13  ...                      33\n",
              "2013-01-02                    11  ...                      37\n",
              "2013-01-03                    14  ...                      46\n",
              "2013-01-04                    13  ...                      51\n",
              "2013-01-05                    10  ...                      41\n",
              "\n",
              "[5 rows x 500 columns]"
            ]
          },
          "metadata": {
            "tags": []
          },
          "execution_count": 14
        }
      ]
    },
    {
      "cell_type": "markdown",
      "metadata": {
        "id": "j6olwHG1-OJm"
      },
      "source": [
        "### Encoding the date"
      ]
    },
    {
      "cell_type": "markdown",
      "metadata": {
        "id": "kR_02xniAhlQ"
      },
      "source": [
        "We want to add in our time series the information of the date, both the day of the week and the month, to encode the seasonality.\n",
        "\n",
        "Add columns to encode the weekday and the month. To do so, we suggest to \n",
        "use one-hot-encoding to encode the two, you can use the pandas function \n",
        "`get_dummies` described [here](https://pandas.pydata.org/pandas-docs/stable/reference/api/pandas.get_dummies.html). You can directly access the weekday and the month by calling the attribute `weekday` and `month` on an object of date datatype."
      ]
    },
    {
      "cell_type": "code",
      "metadata": {
        "id": "OexLDeTDBdwH"
      },
      "source": [
        "# First convert the index of your data into a date object so you can access \n",
        "# the two attributes\n",
        "train_flattened_df.index = pd.to_datetime(train_flattened_df.index)"
      ],
      "execution_count": null,
      "outputs": []
    },
    {
      "cell_type": "code",
      "metadata": {
        "id": "zm1JQdgh-Bxp"
      },
      "source": [
        "# Adding both the weekday and the mongh, use the argument `prefix` to be able to\n",
        "# differentiate between the weekday and the month\n",
        "def encode_dates(df):\n",
        "  # YOUR CODE HERE\n",
        "  pass\n"
      ],
      "execution_count": null,
      "outputs": []
    },
    {
      "cell_type": "code",
      "metadata": {
        "colab": {
          "base_uri": "https://localhost:8080/",
          "height": 374
        },
        "id": "vazmtJO_BNUV",
        "outputId": "7a5f6658-7d59-4176-fad0-57524ddfb7bc"
      },
      "source": [
        "# This is to test the code from above, you should see a train dataframe with dimension (1826, 519)\n",
        "train_encoded_dates = encode_dates(train_flattened_df)\n",
        "print(train_encoded_dates.shape)\n",
        "train_encoded_dates.head()"
      ],
      "execution_count": null,
      "outputs": [
        {
          "output_type": "stream",
          "text": [
            "(1826, 519)\n"
          ],
          "name": "stdout"
        },
        {
          "output_type": "execute_result",
          "data": {
            "text/html": [
              "<div>\n",
              "<style scoped>\n",
              "    .dataframe tbody tr th:only-of-type {\n",
              "        vertical-align: middle;\n",
              "    }\n",
              "\n",
              "    .dataframe tbody tr th {\n",
              "        vertical-align: top;\n",
              "    }\n",
              "\n",
              "    .dataframe thead th {\n",
              "        text-align: right;\n",
              "    }\n",
              "</style>\n",
              "<table border=\"1\" class=\"dataframe\">\n",
              "  <thead>\n",
              "    <tr style=\"text-align: right;\">\n",
              "      <th></th>\n",
              "      <th>weekday_0</th>\n",
              "      <th>weekday_1</th>\n",
              "      <th>weekday_2</th>\n",
              "      <th>weekday_3</th>\n",
              "      <th>weekday_4</th>\n",
              "      <th>weekday_5</th>\n",
              "      <th>weekday_6</th>\n",
              "      <th>month_1</th>\n",
              "      <th>month_2</th>\n",
              "      <th>month_3</th>\n",
              "      <th>month_4</th>\n",
              "      <th>month_5</th>\n",
              "      <th>month_6</th>\n",
              "      <th>month_7</th>\n",
              "      <th>month_8</th>\n",
              "      <th>month_9</th>\n",
              "      <th>month_10</th>\n",
              "      <th>month_11</th>\n",
              "      <th>month_12</th>\n",
              "      <th>item_1_store_1_sales</th>\n",
              "      <th>item_1_store_2_sales</th>\n",
              "      <th>item_1_store_3_sales</th>\n",
              "      <th>item_1_store_4_sales</th>\n",
              "      <th>item_1_store_5_sales</th>\n",
              "      <th>item_1_store_6_sales</th>\n",
              "      <th>item_1_store_7_sales</th>\n",
              "      <th>item_1_store_8_sales</th>\n",
              "      <th>item_1_store_9_sales</th>\n",
              "      <th>item_1_store_10_sales</th>\n",
              "      <th>item_2_store_1_sales</th>\n",
              "      <th>item_2_store_2_sales</th>\n",
              "      <th>item_2_store_3_sales</th>\n",
              "      <th>item_2_store_4_sales</th>\n",
              "      <th>item_2_store_5_sales</th>\n",
              "      <th>item_2_store_6_sales</th>\n",
              "      <th>item_2_store_7_sales</th>\n",
              "      <th>item_2_store_8_sales</th>\n",
              "      <th>item_2_store_9_sales</th>\n",
              "      <th>item_2_store_10_sales</th>\n",
              "      <th>item_3_store_1_sales</th>\n",
              "      <th>...</th>\n",
              "      <th>item_47_store_1_sales</th>\n",
              "      <th>item_47_store_2_sales</th>\n",
              "      <th>item_47_store_3_sales</th>\n",
              "      <th>item_47_store_4_sales</th>\n",
              "      <th>item_47_store_5_sales</th>\n",
              "      <th>item_47_store_6_sales</th>\n",
              "      <th>item_47_store_7_sales</th>\n",
              "      <th>item_47_store_8_sales</th>\n",
              "      <th>item_47_store_9_sales</th>\n",
              "      <th>item_47_store_10_sales</th>\n",
              "      <th>item_48_store_1_sales</th>\n",
              "      <th>item_48_store_2_sales</th>\n",
              "      <th>item_48_store_3_sales</th>\n",
              "      <th>item_48_store_4_sales</th>\n",
              "      <th>item_48_store_5_sales</th>\n",
              "      <th>item_48_store_6_sales</th>\n",
              "      <th>item_48_store_7_sales</th>\n",
              "      <th>item_48_store_8_sales</th>\n",
              "      <th>item_48_store_9_sales</th>\n",
              "      <th>item_48_store_10_sales</th>\n",
              "      <th>item_49_store_1_sales</th>\n",
              "      <th>item_49_store_2_sales</th>\n",
              "      <th>item_49_store_3_sales</th>\n",
              "      <th>item_49_store_4_sales</th>\n",
              "      <th>item_49_store_5_sales</th>\n",
              "      <th>item_49_store_6_sales</th>\n",
              "      <th>item_49_store_7_sales</th>\n",
              "      <th>item_49_store_8_sales</th>\n",
              "      <th>item_49_store_9_sales</th>\n",
              "      <th>item_49_store_10_sales</th>\n",
              "      <th>item_50_store_1_sales</th>\n",
              "      <th>item_50_store_2_sales</th>\n",
              "      <th>item_50_store_3_sales</th>\n",
              "      <th>item_50_store_4_sales</th>\n",
              "      <th>item_50_store_5_sales</th>\n",
              "      <th>item_50_store_6_sales</th>\n",
              "      <th>item_50_store_7_sales</th>\n",
              "      <th>item_50_store_8_sales</th>\n",
              "      <th>item_50_store_9_sales</th>\n",
              "      <th>item_50_store_10_sales</th>\n",
              "    </tr>\n",
              "    <tr>\n",
              "      <th>date</th>\n",
              "      <th></th>\n",
              "      <th></th>\n",
              "      <th></th>\n",
              "      <th></th>\n",
              "      <th></th>\n",
              "      <th></th>\n",
              "      <th></th>\n",
              "      <th></th>\n",
              "      <th></th>\n",
              "      <th></th>\n",
              "      <th></th>\n",
              "      <th></th>\n",
              "      <th></th>\n",
              "      <th></th>\n",
              "      <th></th>\n",
              "      <th></th>\n",
              "      <th></th>\n",
              "      <th></th>\n",
              "      <th></th>\n",
              "      <th></th>\n",
              "      <th></th>\n",
              "      <th></th>\n",
              "      <th></th>\n",
              "      <th></th>\n",
              "      <th></th>\n",
              "      <th></th>\n",
              "      <th></th>\n",
              "      <th></th>\n",
              "      <th></th>\n",
              "      <th></th>\n",
              "      <th></th>\n",
              "      <th></th>\n",
              "      <th></th>\n",
              "      <th></th>\n",
              "      <th></th>\n",
              "      <th></th>\n",
              "      <th></th>\n",
              "      <th></th>\n",
              "      <th></th>\n",
              "      <th></th>\n",
              "      <th></th>\n",
              "      <th></th>\n",
              "      <th></th>\n",
              "      <th></th>\n",
              "      <th></th>\n",
              "      <th></th>\n",
              "      <th></th>\n",
              "      <th></th>\n",
              "      <th></th>\n",
              "      <th></th>\n",
              "      <th></th>\n",
              "      <th></th>\n",
              "      <th></th>\n",
              "      <th></th>\n",
              "      <th></th>\n",
              "      <th></th>\n",
              "      <th></th>\n",
              "      <th></th>\n",
              "      <th></th>\n",
              "      <th></th>\n",
              "      <th></th>\n",
              "      <th></th>\n",
              "      <th></th>\n",
              "      <th></th>\n",
              "      <th></th>\n",
              "      <th></th>\n",
              "      <th></th>\n",
              "      <th></th>\n",
              "      <th></th>\n",
              "      <th></th>\n",
              "      <th></th>\n",
              "      <th></th>\n",
              "      <th></th>\n",
              "      <th></th>\n",
              "      <th></th>\n",
              "      <th></th>\n",
              "      <th></th>\n",
              "      <th></th>\n",
              "      <th></th>\n",
              "      <th></th>\n",
              "      <th></th>\n",
              "    </tr>\n",
              "  </thead>\n",
              "  <tbody>\n",
              "    <tr>\n",
              "      <th>2013-01-01</th>\n",
              "      <td>0</td>\n",
              "      <td>1</td>\n",
              "      <td>0</td>\n",
              "      <td>0</td>\n",
              "      <td>0</td>\n",
              "      <td>0</td>\n",
              "      <td>0</td>\n",
              "      <td>1</td>\n",
              "      <td>0</td>\n",
              "      <td>0</td>\n",
              "      <td>0</td>\n",
              "      <td>0</td>\n",
              "      <td>0</td>\n",
              "      <td>0</td>\n",
              "      <td>0</td>\n",
              "      <td>0</td>\n",
              "      <td>0</td>\n",
              "      <td>0</td>\n",
              "      <td>0</td>\n",
              "      <td>13</td>\n",
              "      <td>12</td>\n",
              "      <td>19</td>\n",
              "      <td>10</td>\n",
              "      <td>11</td>\n",
              "      <td>20</td>\n",
              "      <td>7</td>\n",
              "      <td>16</td>\n",
              "      <td>11</td>\n",
              "      <td>14</td>\n",
              "      <td>33</td>\n",
              "      <td>41</td>\n",
              "      <td>43</td>\n",
              "      <td>30</td>\n",
              "      <td>26</td>\n",
              "      <td>27</td>\n",
              "      <td>21</td>\n",
              "      <td>39</td>\n",
              "      <td>31</td>\n",
              "      <td>36</td>\n",
              "      <td>15</td>\n",
              "      <td>...</td>\n",
              "      <td>17</td>\n",
              "      <td>12</td>\n",
              "      <td>10</td>\n",
              "      <td>23</td>\n",
              "      <td>9</td>\n",
              "      <td>5</td>\n",
              "      <td>4</td>\n",
              "      <td>19</td>\n",
              "      <td>6</td>\n",
              "      <td>11</td>\n",
              "      <td>21</td>\n",
              "      <td>45</td>\n",
              "      <td>28</td>\n",
              "      <td>34</td>\n",
              "      <td>21</td>\n",
              "      <td>21</td>\n",
              "      <td>27</td>\n",
              "      <td>27</td>\n",
              "      <td>28</td>\n",
              "      <td>25</td>\n",
              "      <td>18</td>\n",
              "      <td>29</td>\n",
              "      <td>21</td>\n",
              "      <td>12</td>\n",
              "      <td>9</td>\n",
              "      <td>11</td>\n",
              "      <td>19</td>\n",
              "      <td>12</td>\n",
              "      <td>11</td>\n",
              "      <td>17</td>\n",
              "      <td>30</td>\n",
              "      <td>43</td>\n",
              "      <td>45</td>\n",
              "      <td>38</td>\n",
              "      <td>19</td>\n",
              "      <td>20</td>\n",
              "      <td>21</td>\n",
              "      <td>45</td>\n",
              "      <td>36</td>\n",
              "      <td>33</td>\n",
              "    </tr>\n",
              "    <tr>\n",
              "      <th>2013-01-02</th>\n",
              "      <td>0</td>\n",
              "      <td>0</td>\n",
              "      <td>1</td>\n",
              "      <td>0</td>\n",
              "      <td>0</td>\n",
              "      <td>0</td>\n",
              "      <td>0</td>\n",
              "      <td>1</td>\n",
              "      <td>0</td>\n",
              "      <td>0</td>\n",
              "      <td>0</td>\n",
              "      <td>0</td>\n",
              "      <td>0</td>\n",
              "      <td>0</td>\n",
              "      <td>0</td>\n",
              "      <td>0</td>\n",
              "      <td>0</td>\n",
              "      <td>0</td>\n",
              "      <td>0</td>\n",
              "      <td>11</td>\n",
              "      <td>16</td>\n",
              "      <td>8</td>\n",
              "      <td>12</td>\n",
              "      <td>9</td>\n",
              "      <td>6</td>\n",
              "      <td>4</td>\n",
              "      <td>10</td>\n",
              "      <td>9</td>\n",
              "      <td>14</td>\n",
              "      <td>43</td>\n",
              "      <td>33</td>\n",
              "      <td>27</td>\n",
              "      <td>28</td>\n",
              "      <td>22</td>\n",
              "      <td>18</td>\n",
              "      <td>23</td>\n",
              "      <td>25</td>\n",
              "      <td>26</td>\n",
              "      <td>34</td>\n",
              "      <td>30</td>\n",
              "      <td>...</td>\n",
              "      <td>15</td>\n",
              "      <td>13</td>\n",
              "      <td>12</td>\n",
              "      <td>11</td>\n",
              "      <td>10</td>\n",
              "      <td>10</td>\n",
              "      <td>4</td>\n",
              "      <td>16</td>\n",
              "      <td>14</td>\n",
              "      <td>13</td>\n",
              "      <td>26</td>\n",
              "      <td>37</td>\n",
              "      <td>32</td>\n",
              "      <td>26</td>\n",
              "      <td>22</td>\n",
              "      <td>20</td>\n",
              "      <td>21</td>\n",
              "      <td>35</td>\n",
              "      <td>38</td>\n",
              "      <td>24</td>\n",
              "      <td>10</td>\n",
              "      <td>25</td>\n",
              "      <td>14</td>\n",
              "      <td>18</td>\n",
              "      <td>13</td>\n",
              "      <td>10</td>\n",
              "      <td>13</td>\n",
              "      <td>27</td>\n",
              "      <td>16</td>\n",
              "      <td>13</td>\n",
              "      <td>32</td>\n",
              "      <td>57</td>\n",
              "      <td>47</td>\n",
              "      <td>35</td>\n",
              "      <td>25</td>\n",
              "      <td>23</td>\n",
              "      <td>30</td>\n",
              "      <td>54</td>\n",
              "      <td>44</td>\n",
              "      <td>37</td>\n",
              "    </tr>\n",
              "    <tr>\n",
              "      <th>2013-01-03</th>\n",
              "      <td>0</td>\n",
              "      <td>0</td>\n",
              "      <td>0</td>\n",
              "      <td>1</td>\n",
              "      <td>0</td>\n",
              "      <td>0</td>\n",
              "      <td>0</td>\n",
              "      <td>1</td>\n",
              "      <td>0</td>\n",
              "      <td>0</td>\n",
              "      <td>0</td>\n",
              "      <td>0</td>\n",
              "      <td>0</td>\n",
              "      <td>0</td>\n",
              "      <td>0</td>\n",
              "      <td>0</td>\n",
              "      <td>0</td>\n",
              "      <td>0</td>\n",
              "      <td>0</td>\n",
              "      <td>14</td>\n",
              "      <td>16</td>\n",
              "      <td>10</td>\n",
              "      <td>8</td>\n",
              "      <td>12</td>\n",
              "      <td>11</td>\n",
              "      <td>8</td>\n",
              "      <td>12</td>\n",
              "      <td>20</td>\n",
              "      <td>16</td>\n",
              "      <td>23</td>\n",
              "      <td>46</td>\n",
              "      <td>38</td>\n",
              "      <td>37</td>\n",
              "      <td>26</td>\n",
              "      <td>20</td>\n",
              "      <td>13</td>\n",
              "      <td>34</td>\n",
              "      <td>33</td>\n",
              "      <td>34</td>\n",
              "      <td>14</td>\n",
              "      <td>...</td>\n",
              "      <td>5</td>\n",
              "      <td>5</td>\n",
              "      <td>13</td>\n",
              "      <td>11</td>\n",
              "      <td>14</td>\n",
              "      <td>10</td>\n",
              "      <td>4</td>\n",
              "      <td>8</td>\n",
              "      <td>18</td>\n",
              "      <td>16</td>\n",
              "      <td>25</td>\n",
              "      <td>45</td>\n",
              "      <td>40</td>\n",
              "      <td>33</td>\n",
              "      <td>24</td>\n",
              "      <td>27</td>\n",
              "      <td>11</td>\n",
              "      <td>22</td>\n",
              "      <td>24</td>\n",
              "      <td>29</td>\n",
              "      <td>17</td>\n",
              "      <td>30</td>\n",
              "      <td>22</td>\n",
              "      <td>22</td>\n",
              "      <td>16</td>\n",
              "      <td>16</td>\n",
              "      <td>9</td>\n",
              "      <td>16</td>\n",
              "      <td>20</td>\n",
              "      <td>19</td>\n",
              "      <td>25</td>\n",
              "      <td>45</td>\n",
              "      <td>39</td>\n",
              "      <td>32</td>\n",
              "      <td>28</td>\n",
              "      <td>38</td>\n",
              "      <td>20</td>\n",
              "      <td>54</td>\n",
              "      <td>29</td>\n",
              "      <td>46</td>\n",
              "    </tr>\n",
              "    <tr>\n",
              "      <th>2013-01-04</th>\n",
              "      <td>0</td>\n",
              "      <td>0</td>\n",
              "      <td>0</td>\n",
              "      <td>0</td>\n",
              "      <td>1</td>\n",
              "      <td>0</td>\n",
              "      <td>0</td>\n",
              "      <td>1</td>\n",
              "      <td>0</td>\n",
              "      <td>0</td>\n",
              "      <td>0</td>\n",
              "      <td>0</td>\n",
              "      <td>0</td>\n",
              "      <td>0</td>\n",
              "      <td>0</td>\n",
              "      <td>0</td>\n",
              "      <td>0</td>\n",
              "      <td>0</td>\n",
              "      <td>0</td>\n",
              "      <td>13</td>\n",
              "      <td>20</td>\n",
              "      <td>15</td>\n",
              "      <td>15</td>\n",
              "      <td>8</td>\n",
              "      <td>7</td>\n",
              "      <td>7</td>\n",
              "      <td>21</td>\n",
              "      <td>22</td>\n",
              "      <td>17</td>\n",
              "      <td>18</td>\n",
              "      <td>50</td>\n",
              "      <td>35</td>\n",
              "      <td>44</td>\n",
              "      <td>23</td>\n",
              "      <td>24</td>\n",
              "      <td>34</td>\n",
              "      <td>39</td>\n",
              "      <td>42</td>\n",
              "      <td>50</td>\n",
              "      <td>10</td>\n",
              "      <td>...</td>\n",
              "      <td>13</td>\n",
              "      <td>19</td>\n",
              "      <td>5</td>\n",
              "      <td>18</td>\n",
              "      <td>10</td>\n",
              "      <td>11</td>\n",
              "      <td>9</td>\n",
              "      <td>17</td>\n",
              "      <td>15</td>\n",
              "      <td>11</td>\n",
              "      <td>26</td>\n",
              "      <td>32</td>\n",
              "      <td>39</td>\n",
              "      <td>26</td>\n",
              "      <td>34</td>\n",
              "      <td>21</td>\n",
              "      <td>17</td>\n",
              "      <td>32</td>\n",
              "      <td>30</td>\n",
              "      <td>39</td>\n",
              "      <td>22</td>\n",
              "      <td>20</td>\n",
              "      <td>26</td>\n",
              "      <td>17</td>\n",
              "      <td>12</td>\n",
              "      <td>18</td>\n",
              "      <td>9</td>\n",
              "      <td>18</td>\n",
              "      <td>19</td>\n",
              "      <td>23</td>\n",
              "      <td>32</td>\n",
              "      <td>45</td>\n",
              "      <td>48</td>\n",
              "      <td>36</td>\n",
              "      <td>27</td>\n",
              "      <td>33</td>\n",
              "      <td>27</td>\n",
              "      <td>52</td>\n",
              "      <td>43</td>\n",
              "      <td>51</td>\n",
              "    </tr>\n",
              "    <tr>\n",
              "      <th>2013-01-05</th>\n",
              "      <td>0</td>\n",
              "      <td>0</td>\n",
              "      <td>0</td>\n",
              "      <td>0</td>\n",
              "      <td>0</td>\n",
              "      <td>1</td>\n",
              "      <td>0</td>\n",
              "      <td>1</td>\n",
              "      <td>0</td>\n",
              "      <td>0</td>\n",
              "      <td>0</td>\n",
              "      <td>0</td>\n",
              "      <td>0</td>\n",
              "      <td>0</td>\n",
              "      <td>0</td>\n",
              "      <td>0</td>\n",
              "      <td>0</td>\n",
              "      <td>0</td>\n",
              "      <td>0</td>\n",
              "      <td>10</td>\n",
              "      <td>16</td>\n",
              "      <td>22</td>\n",
              "      <td>19</td>\n",
              "      <td>13</td>\n",
              "      <td>12</td>\n",
              "      <td>8</td>\n",
              "      <td>15</td>\n",
              "      <td>22</td>\n",
              "      <td>12</td>\n",
              "      <td>34</td>\n",
              "      <td>44</td>\n",
              "      <td>47</td>\n",
              "      <td>36</td>\n",
              "      <td>22</td>\n",
              "      <td>32</td>\n",
              "      <td>25</td>\n",
              "      <td>45</td>\n",
              "      <td>50</td>\n",
              "      <td>42</td>\n",
              "      <td>23</td>\n",
              "      <td>...</td>\n",
              "      <td>12</td>\n",
              "      <td>18</td>\n",
              "      <td>14</td>\n",
              "      <td>18</td>\n",
              "      <td>7</td>\n",
              "      <td>9</td>\n",
              "      <td>8</td>\n",
              "      <td>18</td>\n",
              "      <td>13</td>\n",
              "      <td>16</td>\n",
              "      <td>28</td>\n",
              "      <td>53</td>\n",
              "      <td>47</td>\n",
              "      <td>33</td>\n",
              "      <td>24</td>\n",
              "      <td>24</td>\n",
              "      <td>28</td>\n",
              "      <td>40</td>\n",
              "      <td>33</td>\n",
              "      <td>34</td>\n",
              "      <td>15</td>\n",
              "      <td>20</td>\n",
              "      <td>22</td>\n",
              "      <td>19</td>\n",
              "      <td>19</td>\n",
              "      <td>13</td>\n",
              "      <td>12</td>\n",
              "      <td>21</td>\n",
              "      <td>16</td>\n",
              "      <td>22</td>\n",
              "      <td>35</td>\n",
              "      <td>55</td>\n",
              "      <td>46</td>\n",
              "      <td>47</td>\n",
              "      <td>31</td>\n",
              "      <td>33</td>\n",
              "      <td>18</td>\n",
              "      <td>48</td>\n",
              "      <td>53</td>\n",
              "      <td>41</td>\n",
              "    </tr>\n",
              "  </tbody>\n",
              "</table>\n",
              "<p>5 rows × 519 columns</p>\n",
              "</div>"
            ],
            "text/plain": [
              "            weekday_0  weekday_1  ...  item_50_store_9_sales  item_50_store_10_sales\n",
              "date                              ...                                               \n",
              "2013-01-01          0          1  ...                     36                      33\n",
              "2013-01-02          0          0  ...                     44                      37\n",
              "2013-01-03          0          0  ...                     29                      46\n",
              "2013-01-04          0          0  ...                     43                      51\n",
              "2013-01-05          0          0  ...                     53                      41\n",
              "\n",
              "[5 rows x 519 columns]"
            ]
          },
          "metadata": {
            "tags": []
          },
          "execution_count": 18
        }
      ]
    },
    {
      "cell_type": "markdown",
      "metadata": {
        "id": "tXTitCrNDAPU"
      },
      "source": [
        "\n",
        "<details>\n",
        "  <summary>View solution</summary>\n",
        "    \n",
        "```python\n",
        "# Adding both the weekday and the mongh, use the argument `prefix` to be able to\n",
        "# differentiate between the weekday and the month\n",
        "def encode_dates(df):\n",
        "  weekday_df = pd.get_dummies(df.index.weekday, prefix='weekday')\n",
        "  weekday_df.index = df.index\n",
        "\n",
        "  month_df = pd.get_dummies(df.index.month, prefix='month')\n",
        "  month_df.index =  df.index\n",
        "\n",
        "  return pd.concat([weekday_df, month_df, df], axis=1)\n",
        "```\n",
        "</details>\n",
        "\n"
      ]
    },
    {
      "cell_type": "markdown",
      "metadata": {
        "id": "jykYOLdoEMhI"
      },
      "source": [
        "### Train / Validation split"
      ]
    },
    {
      "cell_type": "code",
      "metadata": {
        "colab": {
          "base_uri": "https://localhost:8080/"
        },
        "id": "kOnqrwuMEMtV",
        "outputId": "a9f8dee1-56db-45c1-a43d-ac99192da516"
      },
      "source": [
        "print(train_encoded_dates.index.min())\n",
        "print(train_encoded_dates.index.max())\n",
        "# Let's take year 2017 as validation data so we can train our model \n",
        "# on 2013->2016 and evaluate it on the first quarter of 2017 "
      ],
      "execution_count": null,
      "outputs": [
        {
          "output_type": "stream",
          "text": [
            "2013-01-01 00:00:00\n",
            "2017-12-31 00:00:00\n"
          ],
          "name": "stdout"
        }
      ]
    },
    {
      "cell_type": "code",
      "metadata": {
        "id": "bksfwVGqEM9X"
      },
      "source": [
        "cutoff_date = pd.to_datetime('2017-01-01')\n",
        "train_data = train_encoded_dates[train_encoded_dates.index < cutoff_date]\n",
        "validation_data = train_encoded_dates[train_encoded_dates.index >= cutoff_date]"
      ],
      "execution_count": null,
      "outputs": []
    },
    {
      "cell_type": "code",
      "metadata": {
        "colab": {
          "base_uri": "https://localhost:8080/"
        },
        "id": "6QVcITzHE7_6",
        "outputId": "01af4036-0dbb-402c-b30c-99a68d5e1bd7"
      },
      "source": [
        "# Sanity check\n",
        "print('Min date from train set: %s' % train_data.index.min().date())\n",
        "print('Max date from train set: %s' % train_data.index.max().date())\n",
        "\n",
        "print('Min date from validation set: %s' % validation_data.index.min().date())\n",
        "print('Max date from validation set: %s' % validation_data.index.max().date())"
      ],
      "execution_count": null,
      "outputs": [
        {
          "output_type": "stream",
          "text": [
            "Min date from train set: 2013-01-01\n",
            "Max date from train set: 2016-12-31\n",
            "Min date from validation set: 2017-01-01\n",
            "Max date from validation set: 2017-12-31\n"
          ],
          "name": "stdout"
        }
      ]
    },
    {
      "cell_type": "markdown",
      "metadata": {
        "id": "pdF2ftBQEHBc"
      },
      "source": [
        "### Feature scaling"
      ]
    },
    {
      "cell_type": "markdown",
      "metadata": {
        "id": "md518LatFMH3"
      },
      "source": [
        "To avoid weighting differently sales of (item, store) which have different ranges we pre-process the time series with a feature scaler. We suggest to use the [MinMaxScaler](https://scikit-learn.org/stable/modules/generated/sklearn.preprocessing.MinMaxScaler.html) scaler which is quite simple to use.\n",
        "NB: we just want to scale the sales columns since the date one are binary it's not necessary."
      ]
    },
    {
      "cell_type": "code",
      "metadata": {
        "id": "byA9WW7LIhbM"
      },
      "source": [
        "from sklearn.preprocessing import MinMaxScaler\n",
        "\n",
        "# Define your scaler\n",
        "scaler = ...\n",
        "# Columns you want to scale\n",
        "cols_to_scale = ...\n",
        "\n",
        "# Train the scaler and apply it on the data (on the train and on the validation)\n",
        "train_data_scaled = ...\n",
        "validation_data_scaled = ..."
      ],
      "execution_count": null,
      "outputs": []
    },
    {
      "cell_type": "markdown",
      "metadata": {
        "id": "nndn8V6OIyoY"
      },
      "source": [
        "<details>\n",
        "  <summary>View solution</summary>\n",
        "    \n",
        "```python\n",
        "from sklearn.preprocessing import MinMaxScaler\n",
        "\n",
        "scaler = MinMaxScaler(feature_range=(0,1))\n",
        "cols_to_scale = [col for col in train_data.columns if 'sales' in col]\n",
        "\n",
        "# Training (and applying) the scaler on the train data\n",
        "train_data_scaled = train_data.copy()\n",
        "scaled_cols = scaler.fit_transform(train_data_scaled[cols_to_scale])\n",
        "train_data_scaled[cols_to_scale] = scaled_cols\n",
        "\n",
        "validation_data_scaled = validation_data.copy()\n",
        "validation_data_scaled[cols_to_scale] = scaler.transform(validation_data[cols_to_scale])\n",
        "```\n",
        "</details>\n",
        "\n"
      ]
    },
    {
      "cell_type": "markdown",
      "metadata": {
        "id": "gYT0xtypG9D3"
      },
      "source": [
        "## Model"
      ]
    },
    {
      "cell_type": "markdown",
      "metadata": {
        "id": "PojLKpNVH_LI"
      },
      "source": [
        "### Architecture"
      ]
    },
    {
      "cell_type": "markdown",
      "metadata": {
        "id": "dKRKrx-GHu7M"
      },
      "source": [
        "Now it's the time to define the architecture, keep it simple first with a recurrent unit and a dense one, don't forget to compile it with a well chosen loss !"
      ]
    },
    {
      "cell_type": "code",
      "metadata": {
        "id": "QUywuY7_G0tG"
      },
      "source": [
        "from keras.models import Sequential\n",
        "from keras.layers import Dense, Dropout, LSTM, Activation\n",
        "from keras.callbacks import EarlyStopping\n",
        "\n",
        "def build_simple_LSTM(seq_length, nb_features, n_unit, dropout=0.2):\n",
        "  # YOUR CODE HERE\n",
        "  return model\n"
      ],
      "execution_count": null,
      "outputs": []
    },
    {
      "cell_type": "markdown",
      "metadata": {
        "id": "TQ7aDTbvJC17"
      },
      "source": [
        "\n",
        "<details>\n",
        "  <summary>View solution</summary>\n",
        "    \n",
        "```python\n",
        "def build_simple_LSTM(seq_length, nb_features, n_unit, dropout=0.2):\n",
        "  model = Sequential()\n",
        "\n",
        "  model.add(LSTM(\n",
        "          input_shape=(seq_length, nb_features),\n",
        "          units=n_unit,\n",
        "          return_sequences=False))\n",
        "  model.add(Dropout(dropout))\n",
        "\n",
        "  model.add(Dense(units=n_unit))\n",
        "  model.compile(loss='mean_absolute_error', optimizer='adam')\n",
        "\n",
        "  return model\n",
        "```\n",
        "</details>\n",
        "\n"
      ]
    },
    {
      "cell_type": "markdown",
      "metadata": {
        "id": "DCuKHSpfIBPB"
      },
      "source": [
        "### Formatting the data"
      ]
    },
    {
      "cell_type": "code",
      "metadata": {
        "colab": {
          "base_uri": "https://localhost:8080/"
        },
        "id": "8RulvhMR6esw",
        "outputId": "e22d2dca-4436-4247-e867-d08c5d0c7764"
      },
      "source": [
        "train_data_scaled.shape"
      ],
      "execution_count": null,
      "outputs": [
        {
          "output_type": "execute_result",
          "data": {
            "text/plain": [
              "(1461, 519)"
            ]
          },
          "metadata": {
            "tags": []
          },
          "execution_count": 26
        }
      ]
    },
    {
      "cell_type": "code",
      "metadata": {
        "id": "-xWtOlj73daI"
      },
      "source": [
        "# Here we build the y data to contain 1 time step, so for a seq_length = 1.\n",
        "# We just need to shift the data, the last time step of X has to be removed since\n",
        "# we don't have a label for it (its next time step is in the validation)\n",
        "X_train = train_data_scaled[:-1]\n",
        "y_train = train_data_scaled[cols_to_scale][1:]\n",
        "\n",
        "X_val = validation_data_scaled[:-1]\n",
        "y_val = validation_data_scaled[cols_to_scale][1:]\n"
      ],
      "execution_count": null,
      "outputs": []
    },
    {
      "cell_type": "code",
      "metadata": {
        "colab": {
          "base_uri": "https://localhost:8080/"
        },
        "id": "9DwNRua-H4UB",
        "outputId": "e487381b-553d-413c-cd2a-521425fa9955"
      },
      "source": [
        "# The model expects data of size \n",
        "seq_length = 1\n",
        "nb_features = X_train.shape[1]\n",
        "nb_out = y_train.shape[1]\n",
        "\n",
        "X_train_vals = X_train.values.reshape((len(X_train), seq_length, nb_features))\n",
        "y_train_vals = y_train.values\n",
        "print(X_train_vals.shape)\n",
        "print(y_train_vals.shape)\n",
        "\n",
        "X_valid_vals = X_val.values.reshape((len(X_val), seq_length, nb_features))\n",
        "y_valid_vals = y_val.values\n",
        "print(X_valid_vals.shape)\n",
        "print(y_valid_vals.shape)"
      ],
      "execution_count": null,
      "outputs": [
        {
          "output_type": "stream",
          "text": [
            "(1460, 1, 519)\n",
            "(1460, 500)\n",
            "(364, 1, 519)\n",
            "(364, 500)\n"
          ],
          "name": "stdout"
        }
      ]
    },
    {
      "cell_type": "markdown",
      "metadata": {
        "id": "vFF_0BbBICzk"
      },
      "source": [
        "### Training"
      ]
    },
    {
      "cell_type": "markdown",
      "metadata": {
        "id": "fAuKN_4bJ_lY"
      },
      "source": [
        "Build and fit the model on the data you prepared, feed it with the validation data to have the mean absolute error (mae) computed on the validation data in the history."
      ]
    },
    {
      "cell_type": "code",
      "metadata": {
        "id": "fk6u3cVu2c2y"
      },
      "source": [
        "# We suggest to use these values at first (since it uses reasonable ressources)\n",
        "epochs=60\n",
        "batch_size=30\n",
        "\n",
        "# YOUR CODE HERE"
      ],
      "execution_count": null,
      "outputs": []
    },
    {
      "cell_type": "markdown",
      "metadata": {
        "id": "hREG5aRPFJ8u"
      },
      "source": [
        "\n",
        "<details>\n",
        "  <summary>View solution</summary>\n",
        "    \n",
        "```python\n",
        "simple_model = build_simple_LSTM(1, nb_features, 64)\n",
        "\n",
        "history = simple_model.fit(\n",
        "    X_train_vals, \n",
        "    y_train_vals, \n",
        "    epochs=60, \n",
        "    batch_size=30,\n",
        "    validation_data=(X_valid_vals, y_valid_vals),\n",
        "    verbose=2,\n",
        "    shuffle=False\n",
        ")\n",
        "```\n",
        "</details>\n",
        "\n"
      ]
    },
    {
      "cell_type": "code",
      "metadata": {
        "id": "qqgNmGavIDlU"
      },
      "source": [
        "def plot_history(history):\n",
        "    plt.plot(history.history['loss'], label='train')\n",
        "    plt.plot(history.history['val_loss'], label='test')\n",
        "    plt.legend()\n",
        "    plt.show()"
      ],
      "execution_count": null,
      "outputs": []
    },
    {
      "cell_type": "code",
      "metadata": {
        "colab": {
          "base_uri": "https://localhost:8080/",
          "height": 265
        },
        "id": "_ppEsA2m7eTJ",
        "outputId": "cebc04d0-e5ca-4108-a525-23b53b0f3279"
      },
      "source": [
        "plot_history(history)"
      ],
      "execution_count": null,
      "outputs": [
        {
          "output_type": "display_data",
          "data": {
            "image/png": "[encoded data removed]",
            "text/plain": [
              "<Figure size 432x288 with 1 Axes>"
            ]
          },
          "metadata": {
            "tags": [],
            "needs_background": "light"
          }
        }
      ]
    },
    {
      "cell_type": "markdown",
      "metadata": {
        "id": "4RCtezK68hBI"
      },
      "source": [
        "### Predicting"
      ]
    },
    {
      "cell_type": "markdown",
      "metadata": {
        "id": "H2xcJz1BbeJw"
      },
      "source": [
        "Now we would like to use our network to predict on the test set. First we need to prepare it to fit as input for our networ. Remember our network takes as input a row with both the encoded dates and the sales at a given timestep. For the test data, we only have the sales information currently"
      ]
    },
    {
      "cell_type": "markdown",
      "metadata": {
        "id": "2MlDulL0Fbw9"
      },
      "source": [
        "Which input should we use as input to predict on our test data?\n",
        "\n",
        "<details>\n",
        "  <summary>View solution</summary>\n",
        "Since we we cut the validation data at the end of the train data (so just before the test data), the last time step of the validation data is the one just before the first one of the test data so it's this one we want to use.\n",
        "\n",
        "```python\n",
        "input_test = validation_data_scaled[-1:]\n",
        "```\n",
        "</details>"
      ]
    },
    {
      "cell_type": "code",
      "metadata": {
        "id": "9SFChqaFLems"
      },
      "source": [
        "# YOUR CODE HERE\n",
        "input_test = ...\n"
      ],
      "execution_count": null,
      "outputs": []
    },
    {
      "cell_type": "code",
      "metadata": {
        "colab": {
          "base_uri": "https://localhost:8080/",
          "height": 172
        },
        "id": "HtjjvFM4F6h5",
        "outputId": "d1dba0c9-5630-4e1e-d2a1-4b3ead5f56a7"
      },
      "source": [
        "# This one has the correct format but once we predict on it, we want to use the \n",
        "# output as input\n",
        "input_test"
      ],
      "execution_count": null,
      "outputs": [
        {
          "output_type": "execute_result",
          "data": {
            "text/html": [
              "<div>\n",
              "<style scoped>\n",
              "    .dataframe tbody tr th:only-of-type {\n",
              "        vertical-align: middle;\n",
              "    }\n",
              "\n",
              "    .dataframe tbody tr th {\n",
              "        vertical-align: top;\n",
              "    }\n",
              "\n",
              "    .dataframe thead th {\n",
              "        text-align: right;\n",
              "    }\n",
              "</style>\n",
              "<table border=\"1\" class=\"dataframe\">\n",
              "  <thead>\n",
              "    <tr style=\"text-align: right;\">\n",
              "      <th></th>\n",
              "      <th>weekday_0</th>\n",
              "      <th>weekday_1</th>\n",
              "      <th>weekday_2</th>\n",
              "      <th>weekday_3</th>\n",
              "      <th>weekday_4</th>\n",
              "      <th>weekday_5</th>\n",
              "      <th>weekday_6</th>\n",
              "      <th>month_1</th>\n",
              "      <th>month_2</th>\n",
              "      <th>month_3</th>\n",
              "      <th>month_4</th>\n",
              "      <th>month_5</th>\n",
              "      <th>month_6</th>\n",
              "      <th>month_7</th>\n",
              "      <th>month_8</th>\n",
              "      <th>month_9</th>\n",
              "      <th>month_10</th>\n",
              "      <th>month_11</th>\n",
              "      <th>month_12</th>\n",
              "      <th>item_1_store_1_sales</th>\n",
              "      <th>item_1_store_2_sales</th>\n",
              "      <th>item_1_store_3_sales</th>\n",
              "      <th>item_1_store_4_sales</th>\n",
              "      <th>item_1_store_5_sales</th>\n",
              "      <th>item_1_store_6_sales</th>\n",
              "      <th>item_1_store_7_sales</th>\n",
              "      <th>item_1_store_8_sales</th>\n",
              "      <th>item_1_store_9_sales</th>\n",
              "      <th>item_1_store_10_sales</th>\n",
              "      <th>item_2_store_1_sales</th>\n",
              "      <th>item_2_store_2_sales</th>\n",
              "      <th>item_2_store_3_sales</th>\n",
              "      <th>item_2_store_4_sales</th>\n",
              "      <th>item_2_store_5_sales</th>\n",
              "      <th>item_2_store_6_sales</th>\n",
              "      <th>item_2_store_7_sales</th>\n",
              "      <th>item_2_store_8_sales</th>\n",
              "      <th>item_2_store_9_sales</th>\n",
              "      <th>item_2_store_10_sales</th>\n",
              "      <th>item_3_store_1_sales</th>\n",
              "      <th>...</th>\n",
              "      <th>item_47_store_1_sales</th>\n",
              "      <th>item_47_store_2_sales</th>\n",
              "      <th>item_47_store_3_sales</th>\n",
              "      <th>item_47_store_4_sales</th>\n",
              "      <th>item_47_store_5_sales</th>\n",
              "      <th>item_47_store_6_sales</th>\n",
              "      <th>item_47_store_7_sales</th>\n",
              "      <th>item_47_store_8_sales</th>\n",
              "      <th>item_47_store_9_sales</th>\n",
              "      <th>item_47_store_10_sales</th>\n",
              "      <th>item_48_store_1_sales</th>\n",
              "      <th>item_48_store_2_sales</th>\n",
              "      <th>item_48_store_3_sales</th>\n",
              "      <th>item_48_store_4_sales</th>\n",
              "      <th>item_48_store_5_sales</th>\n",
              "      <th>item_48_store_6_sales</th>\n",
              "      <th>item_48_store_7_sales</th>\n",
              "      <th>item_48_store_8_sales</th>\n",
              "      <th>item_48_store_9_sales</th>\n",
              "      <th>item_48_store_10_sales</th>\n",
              "      <th>item_49_store_1_sales</th>\n",
              "      <th>item_49_store_2_sales</th>\n",
              "      <th>item_49_store_3_sales</th>\n",
              "      <th>item_49_store_4_sales</th>\n",
              "      <th>item_49_store_5_sales</th>\n",
              "      <th>item_49_store_6_sales</th>\n",
              "      <th>item_49_store_7_sales</th>\n",
              "      <th>item_49_store_8_sales</th>\n",
              "      <th>item_49_store_9_sales</th>\n",
              "      <th>item_49_store_10_sales</th>\n",
              "      <th>item_50_store_1_sales</th>\n",
              "      <th>item_50_store_2_sales</th>\n",
              "      <th>item_50_store_3_sales</th>\n",
              "      <th>item_50_store_4_sales</th>\n",
              "      <th>item_50_store_5_sales</th>\n",
              "      <th>item_50_store_6_sales</th>\n",
              "      <th>item_50_store_7_sales</th>\n",
              "      <th>item_50_store_8_sales</th>\n",
              "      <th>item_50_store_9_sales</th>\n",
              "      <th>item_50_store_10_sales</th>\n",
              "    </tr>\n",
              "    <tr>\n",
              "      <th>date</th>\n",
              "      <th></th>\n",
              "      <th></th>\n",
              "      <th></th>\n",
              "      <th></th>\n",
              "      <th></th>\n",
              "      <th></th>\n",
              "      <th></th>\n",
              "      <th></th>\n",
              "      <th></th>\n",
              "      <th></th>\n",
              "      <th></th>\n",
              "      <th></th>\n",
              "      <th></th>\n",
              "      <th></th>\n",
              "      <th></th>\n",
              "      <th></th>\n",
              "      <th></th>\n",
              "      <th></th>\n",
              "      <th></th>\n",
              "      <th></th>\n",
              "      <th></th>\n",
              "      <th></th>\n",
              "      <th></th>\n",
              "      <th></th>\n",
              "      <th></th>\n",
              "      <th></th>\n",
              "      <th></th>\n",
              "      <th></th>\n",
              "      <th></th>\n",
              "      <th></th>\n",
              "      <th></th>\n",
              "      <th></th>\n",
              "      <th></th>\n",
              "      <th></th>\n",
              "      <th></th>\n",
              "      <th></th>\n",
              "      <th></th>\n",
              "      <th></th>\n",
              "      <th></th>\n",
              "      <th></th>\n",
              "      <th></th>\n",
              "      <th></th>\n",
              "      <th></th>\n",
              "      <th></th>\n",
              "      <th></th>\n",
              "      <th></th>\n",
              "      <th></th>\n",
              "      <th></th>\n",
              "      <th></th>\n",
              "      <th></th>\n",
              "      <th></th>\n",
              "      <th></th>\n",
              "      <th></th>\n",
              "      <th></th>\n",
              "      <th></th>\n",
              "      <th></th>\n",
              "      <th></th>\n",
              "      <th></th>\n",
              "      <th></th>\n",
              "      <th></th>\n",
              "      <th></th>\n",
              "      <th></th>\n",
              "      <th></th>\n",
              "      <th></th>\n",
              "      <th></th>\n",
              "      <th></th>\n",
              "      <th></th>\n",
              "      <th></th>\n",
              "      <th></th>\n",
              "      <th></th>\n",
              "      <th></th>\n",
              "      <th></th>\n",
              "      <th></th>\n",
              "      <th></th>\n",
              "      <th></th>\n",
              "      <th></th>\n",
              "      <th></th>\n",
              "      <th></th>\n",
              "      <th></th>\n",
              "      <th></th>\n",
              "      <th></th>\n",
              "    </tr>\n",
              "  </thead>\n",
              "  <tbody>\n",
              "    <tr>\n",
              "      <th>2017-12-31</th>\n",
              "      <td>0</td>\n",
              "      <td>0</td>\n",
              "      <td>0</td>\n",
              "      <td>0</td>\n",
              "      <td>0</td>\n",
              "      <td>0</td>\n",
              "      <td>1</td>\n",
              "      <td>0</td>\n",
              "      <td>0</td>\n",
              "      <td>0</td>\n",
              "      <td>0</td>\n",
              "      <td>0</td>\n",
              "      <td>0</td>\n",
              "      <td>0</td>\n",
              "      <td>0</td>\n",
              "      <td>0</td>\n",
              "      <td>0</td>\n",
              "      <td>0</td>\n",
              "      <td>1</td>\n",
              "      <td>0.487179</td>\n",
              "      <td>0.480769</td>\n",
              "      <td>0.326087</td>\n",
              "      <td>0.38</td>\n",
              "      <td>0.567568</td>\n",
              "      <td>0.485714</td>\n",
              "      <td>0.384615</td>\n",
              "      <td>0.38</td>\n",
              "      <td>0.319149</td>\n",
              "      <td>0.469388</td>\n",
              "      <td>0.593407</td>\n",
              "      <td>0.469027</td>\n",
              "      <td>0.494949</td>\n",
              "      <td>0.45</td>\n",
              "      <td>0.564103</td>\n",
              "      <td>0.552239</td>\n",
              "      <td>0.446154</td>\n",
              "      <td>0.628319</td>\n",
              "      <td>0.431579</td>\n",
              "      <td>0.365591</td>\n",
              "      <td>0.33871</td>\n",
              "      <td>...</td>\n",
              "      <td>0.216216</td>\n",
              "      <td>0.339286</td>\n",
              "      <td>0.456522</td>\n",
              "      <td>0.428571</td>\n",
              "      <td>0.441176</td>\n",
              "      <td>0.472222</td>\n",
              "      <td>0.30303</td>\n",
              "      <td>0.296296</td>\n",
              "      <td>0.489796</td>\n",
              "      <td>0.363636</td>\n",
              "      <td>0.419753</td>\n",
              "      <td>0.425926</td>\n",
              "      <td>0.414141</td>\n",
              "      <td>0.351064</td>\n",
              "      <td>0.535211</td>\n",
              "      <td>0.295775</td>\n",
              "      <td>0.416667</td>\n",
              "      <td>0.44898</td>\n",
              "      <td>0.340909</td>\n",
              "      <td>0.4875</td>\n",
              "      <td>0.304348</td>\n",
              "      <td>0.507463</td>\n",
              "      <td>0.259259</td>\n",
              "      <td>0.403509</td>\n",
              "      <td>0.390244</td>\n",
              "      <td>0.410256</td>\n",
              "      <td>0.230769</td>\n",
              "      <td>0.483871</td>\n",
              "      <td>0.428571</td>\n",
              "      <td>0.580645</td>\n",
              "      <td>0.282609</td>\n",
              "      <td>0.354839</td>\n",
              "      <td>0.436975</td>\n",
              "      <td>0.557692</td>\n",
              "      <td>0.307692</td>\n",
              "      <td>0.375</td>\n",
              "      <td>0.471429</td>\n",
              "      <td>0.38843</td>\n",
              "      <td>0.390909</td>\n",
              "      <td>0.464</td>\n",
              "    </tr>\n",
              "  </tbody>\n",
              "</table>\n",
              "<p>1 rows × 519 columns</p>\n",
              "</div>"
            ],
            "text/plain": [
              "            weekday_0  weekday_1  ...  item_50_store_9_sales  item_50_store_10_sales\n",
              "date                              ...                                               \n",
              "2017-12-31          0          0  ...               0.390909                   0.464\n",
              "\n",
              "[1 rows x 519 columns]"
            ]
          },
          "metadata": {
            "tags": []
          },
          "execution_count": 43
        }
      ]
    },
    {
      "cell_type": "code",
      "metadata": {
        "colab": {
          "base_uri": "https://localhost:8080/"
        },
        "id": "TvyofR4jGjFL",
        "outputId": "1dd1ea43-50d6-4fb9-d760-e77fba951b93"
      },
      "source": [
        "out_1 = simple_model(input_test.values.reshape((1, seq_length, nb_features)))\n",
        "print(out_1.shape)"
      ],
      "execution_count": null,
      "outputs": [
        {
          "output_type": "stream",
          "text": [
            "(1, 500)\n"
          ],
          "name": "stdout"
        }
      ]
    },
    {
      "cell_type": "markdown",
      "metadata": {
        "id": "JZf_A0ZsG7bH"
      },
      "source": [
        "We just need to add the encoded dates to out_1 so we can input it again into the model. Let's write a function to simply do that, the function should take the date as input (as `datetime` format) and returned the 19-long vector of encoded dayofweek and month."
      ]
    },
    {
      "cell_type": "code",
      "metadata": {
        "id": "jCFUS4p3_rNI"
      },
      "source": [
        "from tqdm import tqdm \n",
        "\n",
        "days_to_predict = 90\n",
        "\n",
        "def date_to_encoding(mydate):\n",
        "  # YOUR CODE HERE\n",
        "\n",
        "    "
      ],
      "execution_count": null,
      "outputs": []
    },
    {
      "cell_type": "markdown",
      "metadata": {
        "id": "4skFvreYHRwH"
      },
      "source": [
        "<details>\n",
        "  <summary>View solution</summary>\n",
        "\n",
        "```python\n",
        "days_to_predict = 90\n",
        "\n",
        "def date_to_encoding(mydate):\n",
        "  encoding = np.zeros((19), dtype=int)\n",
        "  encoding[mydate.dayofweek] = 1\n",
        "  encoding[6 + mydate.month] = 1\n",
        "  return encoding\n",
        "  \n",
        "```\n",
        "\n",
        "</details>"
      ]
    },
    {
      "cell_type": "code",
      "metadata": {
        "colab": {
          "base_uri": "https://localhost:8080/"
        },
        "id": "jA1Dhux8Lq-F",
        "outputId": "2676b175-c98b-44e0-dc5f-a7b2fca8e84f"
      },
      "source": [
        "# Let's try it out \n",
        "test_date_range = pd.to_datetime(test.date.unique())\n",
        "print(len(test_date_range))\n",
        "date_1_encoded = date_to_encoding(test_date_range[0])\n",
        "input_1 = np.concatenate((date_1_encoded, out_1[0]))\n",
        "print(input_1.shape)\n",
        "out_2 = simple_model(input_1.reshape((1, seq_length, nb_features)))\n",
        "print(out_2.shape)"
      ],
      "execution_count": null,
      "outputs": [
        {
          "output_type": "stream",
          "text": [
            "90\n",
            "(519,)\n",
            "(1, 500)\n"
          ],
          "name": "stdout"
        }
      ]
    },
    {
      "cell_type": "markdown",
      "metadata": {
        "id": "jLXJvMENKFvv"
      },
      "source": [
        "Now that we tested the logic to build our prediction on the entire 90 day sequences, let's write a function to do it !"
      ]
    },
    {
      "cell_type": "code",
      "metadata": {
        "id": "agtSSezALrAv"
      },
      "source": [
        "# Preparing input\n",
        "from datetime import datetime\n",
        "\n",
        "def predict_next(sequence_input, days_to_predict=90):\n",
        "  predictions = np.zeros((days_to_predict, nb_out))\n",
        "  current_input = input_test.values.reshape((1, seq_length, nb_features))\n",
        "  date_range = pd.date_range(list(input_test.index)[-1], periods=days_to_predict).tolist()\n",
        "\n",
        "  # Here we start from our sequence_input, predict, format prediction as input\n",
        "  # for the next timestep prediction and predict with it.\n",
        "  # We also want to store the predictions at each time step since the function \n",
        "  # should return the predictions over the entire date_range (don't forget to \n",
        "  # apply the inverse of the min-max scaler for this step !)\n",
        "  for i, date in tqdm(enumerate(date_range)):\n",
        "    # YOUR CODE HERE\n",
        "    output = ...\n",
        "    predictions[i] = ...\n",
        "    current_input = ...\n",
        "\n",
        "  return pd.DataFrame(predictions, index=date_range, columns=cols_to_scale)\n"
      ],
      "execution_count": null,
      "outputs": []
    },
    {
      "cell_type": "markdown",
      "metadata": {
        "id": "eq0Tzc6oleOV"
      },
      "source": [
        "<details>\n",
        "  <summary>View solution</summary>\n",
        "\n",
        "```python\n",
        "# Preparing input\n",
        "from datetime import datetime\n",
        "\n",
        "def predict_next(sequence_input, days_to_predict=90):\n",
        "  predictions = np.zeros((days_to_predict, nb_out))\n",
        "  current_input = input_test.values.reshape((1, seq_length, nb_features))\n",
        "  date_range = pd.date_range(list(input_test.index)[-1], periods=days_to_predict).tolist()\n",
        "\n",
        "  # Here we start from our sequence_input, predict, format prediction as input\n",
        "  # for the next timestep prediction and predict with it.\n",
        "  # We also want to store the predictions at each time step since the function \n",
        "  # should return the predictions over the entire date_range\n",
        "  for i, date in tqdm(enumerate(date_range)):\n",
        "    output = simple_model.predict(current_input)\n",
        "    predictions[i] = (scaler.inverse_transform(output)[0]).astype(int)\n",
        "    current_input = np.concatenate((date_to_encoding(date), output[0])).reshape((1, seq_length, nb_features))\n",
        "\n",
        "  return pd.DataFrame(predictions, index=date_range, columns=cols_to_scale)\n",
        "\n",
        "```\n",
        "\n",
        "</details>"
      ]
    },
    {
      "cell_type": "code",
      "metadata": {
        "colab": {
          "base_uri": "https://localhost:8080/"
        },
        "id": "k2-yKfcdK3Rl",
        "outputId": "ad7184c2-e41a-4771-e55e-72e06b506eef"
      },
      "source": [
        "days_to_predict = 180\n",
        "input_test = X_val[:1]\n",
        "y_test = validation_data[1:1+days_to_predict]\n",
        "predictions_df = predict_next(input_test, days_to_predict=days_to_predict)"
      ],
      "execution_count": null,
      "outputs": [
        {
          "output_type": "stream",
          "text": [
            "180it [00:07, 22.87it/s]\n"
          ],
          "name": "stderr"
        }
      ]
    },
    {
      "cell_type": "code",
      "metadata": {
        "colab": {
          "base_uri": "https://localhost:8080/",
          "height": 1000
        },
        "id": "P1CVRODSA8zJ",
        "outputId": "0d1b285c-9908-48a2-e3b8-332a3625bbee"
      },
      "source": [
        "# Visualising and compare to reality for a given store and item\n",
        "\n",
        "color_scheme = {\n",
        "    'red': '#F1637A',\n",
        "    'green': '#6ABB3E',\n",
        "    'blue': '#3D8DEA',\n",
        "    'black': '#000000'\n",
        "}\n",
        "\n",
        "item = 1\n",
        "store = 1\n",
        "col_name = f'item_{item}_store_{store}_sales'\n",
        "\n",
        "plot_lengths = [7, 30, 90, 120, 180]\n",
        "rolling_mean_windows = [1, 1, 2, 4, 6]  # to make plots more readable\n",
        "\n",
        "for pl, mw in zip(plot_lengths, rolling_mean_windows):\n",
        "    plt.plot(predictions_df[col_name].rolling(mw).mean().values[:pl],\n",
        "             color_scheme['blue'],\n",
        "             lw=2,\n",
        "             label='Basic model prediction')\n",
        "    plt.plot(y_test[col_name].rolling(mw).mean().values[:pl],\n",
        "             color_scheme['black'],\n",
        "             lw=2, \n",
        "             label='Real values')\n",
        "    plt.legend(loc='upper left')\n",
        "    plt.xlabel('days')\n",
        "    plt.ylabel('sales')\n",
        "    plt.show()"
      ],
      "execution_count": null,
      "outputs": [
        {
          "output_type": "display_data",
          "data": {
            "image/png": "[encoded data removed]",
            "text/plain": [
              "<Figure size 432x288 with 1 Axes>"
            ]
          },
          "metadata": {
            "tags": [],
            "needs_background": "light"
          }
        },
        {
          "output_type": "display_data",
          "data": {
            "image/png": "[encoded data removed]",
            "text/plain": [
              "<Figure size 432x288 with 1 Axes>"
            ]
          },
          "metadata": {
            "tags": [],
            "needs_background": "light"
          }
        },
        {
          "output_type": "display_data",
          "data": {
            "image/png": "[encoded data removed]",
            "text/plain": [
              "<Figure size 432x288 with 1 Axes>"
            ]
          },
          "metadata": {
            "tags": [],
            "needs_background": "light"
          }
        },
        {
          "output_type": "display_data",
          "data": {
            "image/png": "[encoded data removed]",
            "text/plain": [
              "<Figure size 432x288 with 1 Axes>"
            ]
          },
          "metadata": {
            "tags": [],
            "needs_background": "light"
          }
        },
        {
          "output_type": "display_data",
          "data": {
            "image/png": "[encoded data removed]",
            "text/plain": [
              "<Figure size 432x288 with 1 Axes>"
            ]
          },
          "metadata": {
            "tags": [],
            "needs_background": "light"
          }
        }
      ]
    },
    {
      "cell_type": "code",
      "metadata": {
        "id": "B7limZYTbKaN"
      },
      "source": [
        ""
      ],
      "execution_count": null,
      "outputs": []
    }
  ]
}