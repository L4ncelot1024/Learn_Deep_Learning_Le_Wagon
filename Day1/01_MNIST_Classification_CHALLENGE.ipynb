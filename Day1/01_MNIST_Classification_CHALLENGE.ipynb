{
  "nbformat": 4,
  "nbformat_minor": 0,
  "metadata": {
    "colab": {
      "name": "01-MNIST-Classification_CHALLENGE.ipynb",
      "provenance": [],
      "collapsed_sections": [],
      "toc_visible": true,
      "include_colab_link": true
    },
    "kernelspec": {
      "name": "python3",
      "display_name": "Python 3"
    }
  },
  "cells": [
    {
      "cell_type": "markdown",
      "metadata": {
        "id": "view-in-github",
        "colab_type": "text"
      },
      "source": [
        "<a href=\"https://colab.research.google.com/github/L4ncelot1024/Learn_Deep_Learning_Le_Wagon/blob/main/Day1/01_MNIST_Classification_CHALLENGE.ipynb\" target=\"_parent\"><img src=\"https://colab.research.google.com/assets/colab-badge.svg\" alt=\"Open In Colab\"/></a>"
      ]
    },
    {
      "cell_type": "code",
      "metadata": {
        "id": "_ILz9lkdIwx0"
      },
      "source": [
        "%tensorflow_version 2.x"
      ],
      "execution_count": 1,
      "outputs": []
    },
    {
      "cell_type": "code",
      "metadata": {
        "id": "t5WtP4dYIDmc",
        "colab": {
          "base_uri": "https://localhost:8080/"
        },
        "outputId": "b00b6395-9086-4926-daed-dff6bd6e10dc"
      },
      "source": [
        "\n",
        "import tensorflow as tf\n",
        "print(f'Tensoflowversion : {tf.__version__}')"
      ],
      "execution_count": 2,
      "outputs": [
        {
          "output_type": "stream",
          "text": [
            "Tensoflowversion : 2.4.1\n"
          ],
          "name": "stdout"
        }
      ]
    },
    {
      "cell_type": "code",
      "metadata": {
        "id": "CmR3pwc8IQXw"
      },
      "source": [
        "import numpy as np\n",
        "import pandas as pd\n",
        "import seaborn as sns\n",
        "import matplotlib.pyplot as plt\n",
        "\n",
        "\n",
        "from sklearn import metrics"
      ],
      "execution_count": 21,
      "outputs": []
    },
    {
      "cell_type": "markdown",
      "metadata": {
        "id": "SqR0xaMSJsBd"
      },
      "source": [
        "## Data"
      ]
    },
    {
      "cell_type": "code",
      "metadata": {
        "id": "SkuDcpvGI_9-"
      },
      "source": [
        "\"\"\" \n",
        "The MNIST database of handwritten digits, available from this page, has a training set of 60,000 examples, and a test set of 10,000 examples. \n",
        "It is a subset of a larger set available from NIST. The digits have been size-normalized and centered in a fixed-size image.\n",
        "http://yann.lecun.com/exdb/mnist/\n",
        "\"\"\"\n",
        "# Downloading the data\n",
        "(x_train, y_train), (x_test, y_test) = tf.keras.datasets.mnist.load_data()"
      ],
      "execution_count": 22,
      "outputs": []
    },
    {
      "cell_type": "markdown",
      "metadata": {
        "id": "Wch2SALSLDyj"
      },
      "source": [
        "#### Data Types and Format\n",
        "\n",
        "First step of a Machine Learning project is to dive into the data and get a sense of the task you're trying to solve."
      ]
    },
    {
      "cell_type": "code",
      "metadata": {
        "id": "zjjCwTjtJOXB",
        "outputId": "0103ed31-1d16-4116-c93d-545a066b1cf1",
        "colab": {
          "base_uri": "https://localhost:8080/"
        }
      },
      "source": [
        "# TODO: check out the shape, the type and the range of the data\n",
        "np.set_printoptions(threshold=np.inf)\n",
        "print(\"Shape of x_train: {}\".format(x_train.shape))\n",
        "print(\"Type of x_train: {}\".format(x_train.dtype))\n",
        "print(x_train[1])\n",
        "print(\"Min value in x_train: {} ; Min value in x_train: {}\".format(np.min(x_train), np.max(x_train)))"
      ],
      "execution_count": 28,
      "outputs": [
        {
          "output_type": "stream",
          "text": [
            "Shape of x_train: (60000, 28, 28)\n",
            "Type of x_train: uint8\n",
            "[[  0   0   0   0   0   0   0   0   0   0   0   0   0   0   0   0   0   0\n",
            "    0   0   0   0   0   0   0   0   0   0]\n",
            " [  0   0   0   0   0   0   0   0   0   0   0   0   0   0   0   0   0   0\n",
            "    0   0   0   0   0   0   0   0   0   0]\n",
            " [  0   0   0   0   0   0   0   0   0   0   0   0   0   0   0   0   0   0\n",
            "    0   0   0   0   0   0   0   0   0   0]\n",
            " [  0   0   0   0   0   0   0   0   0   0   0   0   0   0   0   0   0   0\n",
            "    0   0   0   0   0   0   0   0   0   0]\n",
            " [  0   0   0   0   0   0   0   0   0   0   0   0   0   0   0  51 159 253\n",
            "  159  50   0   0   0   0   0   0   0   0]\n",
            " [  0   0   0   0   0   0   0   0   0   0   0   0   0   0  48 238 252 252\n",
            "  252 237   0   0   0   0   0   0   0   0]\n",
            " [  0   0   0   0   0   0   0   0   0   0   0   0   0  54 227 253 252 239\n",
            "  233 252  57   6   0   0   0   0   0   0]\n",
            " [  0   0   0   0   0   0   0   0   0   0   0  10  60 224 252 253 252 202\n",
            "   84 252 253 122   0   0   0   0   0   0]\n",
            " [  0   0   0   0   0   0   0   0   0   0   0 163 252 252 252 253 252 252\n",
            "   96 189 253 167   0   0   0   0   0   0]\n",
            " [  0   0   0   0   0   0   0   0   0   0  51 238 253 253 190 114 253 228\n",
            "   47  79 255 168   0   0   0   0   0   0]\n",
            " [  0   0   0   0   0   0   0   0   0  48 238 252 252 179  12  75 121  21\n",
            "    0   0 253 243  50   0   0   0   0   0]\n",
            " [  0   0   0   0   0   0   0   0  38 165 253 233 208  84   0   0   0   0\n",
            "    0   0 253 252 165   0   0   0   0   0]\n",
            " [  0   0   0   0   0   0   0   7 178 252 240  71  19  28   0   0   0   0\n",
            "    0   0 253 252 195   0   0   0   0   0]\n",
            " [  0   0   0   0   0   0   0  57 252 252  63   0   0   0   0   0   0   0\n",
            "    0   0 253 252 195   0   0   0   0   0]\n",
            " [  0   0   0   0   0   0   0 198 253 190   0   0   0   0   0   0   0   0\n",
            "    0   0 255 253 196   0   0   0   0   0]\n",
            " [  0   0   0   0   0   0  76 246 252 112   0   0   0   0   0   0   0   0\n",
            "    0   0 253 252 148   0   0   0   0   0]\n",
            " [  0   0   0   0   0   0  85 252 230  25   0   0   0   0   0   0   0   0\n",
            "    7 135 253 186  12   0   0   0   0   0]\n",
            " [  0   0   0   0   0   0  85 252 223   0   0   0   0   0   0   0   0   7\n",
            "  131 252 225  71   0   0   0   0   0   0]\n",
            " [  0   0   0   0   0   0  85 252 145   0   0   0   0   0   0   0  48 165\n",
            "  252 173   0   0   0   0   0   0   0   0]\n",
            " [  0   0   0   0   0   0  86 253 225   0   0   0   0   0   0 114 238 253\n",
            "  162   0   0   0   0   0   0   0   0   0]\n",
            " [  0   0   0   0   0   0  85 252 249 146  48  29  85 178 225 253 223 167\n",
            "   56   0   0   0   0   0   0   0   0   0]\n",
            " [  0   0   0   0   0   0  85 252 252 252 229 215 252 252 252 196 130   0\n",
            "    0   0   0   0   0   0   0   0   0   0]\n",
            " [  0   0   0   0   0   0  28 199 252 252 253 252 252 233 145   0   0   0\n",
            "    0   0   0   0   0   0   0   0   0   0]\n",
            " [  0   0   0   0   0   0   0  25 128 252 253 252 141  37   0   0   0   0\n",
            "    0   0   0   0   0   0   0   0   0   0]\n",
            " [  0   0   0   0   0   0   0   0   0   0   0   0   0   0   0   0   0   0\n",
            "    0   0   0   0   0   0   0   0   0   0]\n",
            " [  0   0   0   0   0   0   0   0   0   0   0   0   0   0   0   0   0   0\n",
            "    0   0   0   0   0   0   0   0   0   0]\n",
            " [  0   0   0   0   0   0   0   0   0   0   0   0   0   0   0   0   0   0\n",
            "    0   0   0   0   0   0   0   0   0   0]\n",
            " [  0   0   0   0   0   0   0   0   0   0   0   0   0   0   0   0   0   0\n",
            "    0   0   0   0   0   0   0   0   0   0]]\n",
            "Min value in x_train: 0 ; Min value in x_train: 255\n"
          ],
          "name": "stdout"
        }
      ]
    },
    {
      "cell_type": "markdown",
      "metadata": {
        "id": "R6Ke7sXU4nov"
      },
      "source": [
        "<details>\n",
        "<summary markdown='span'>View solution\n",
        "</summary>\n",
        "\n",
        "```python\n",
        "print(x_train.shape)\n",
        "print(x_test.shape)\n",
        "print(x_train.dtype)\n",
        "print(np.min(x_train), np.max(x_train))\n",
        "```"
      ]
    },
    {
      "cell_type": "code",
      "metadata": {
        "id": "zwRtON7LQ02e",
        "outputId": "6db950a1-418c-4544-9384-8973fcd08487",
        "colab": {
          "base_uri": "https://localhost:8080/",
          "height": 437
        }
      },
      "source": [
        "# TODO: check output format and the number of classes (set the variables num_outputs)\n",
        "print(y_train.shape)\n",
        "classes_values = np.unique(y_train)\n",
        "print(classes_values)\n",
        "num_outputs = len(classes_values)\n",
        "print(num_outputs)\n",
        "sns.displot(y_train)\n"
      ],
      "execution_count": 102,
      "outputs": [
        {
          "output_type": "stream",
          "text": [
            "(60000,)\n",
            "[0 1 2 3 4 5 6 7 8 9]\n",
            "10\n"
          ],
          "name": "stdout"
        },
        {
          "output_type": "execute_result",
          "data": {
            "text/plain": [
              "<seaborn.axisgrid.FacetGrid at 0x7ff161fc5c90>"
            ]
          },
          "metadata": {
            "tags": []
          },
          "execution_count": 102
        },
        {
          "output_type": "display_data",
          "data": {
            "image/png": "[encoded data removed]",
            "text/plain": [
              "<Figure size 360x360 with 1 Axes>"
            ]
          },
          "metadata": {
            "tags": [],
            "needs_background": "light"
          }
        }
      ]
    },
    {
      "cell_type": "markdown",
      "metadata": {
        "id": "Bc1PxusD5JTf"
      },
      "source": [
        "<details>\n",
        "<summary markdown='span'>View solution\n",
        "</summary>\n",
        "\n",
        "```python\n",
        "print(y_train.shape)\n",
        "classes_values = np.unique(y_train)\n",
        "num_outputs = len(classes_values)\n",
        "print(num_outputs)\n",
        "```"
      ]
    },
    {
      "cell_type": "markdown",
      "metadata": {
        "id": "KuEHxKharzRE"
      },
      "source": [
        "#### Displaying the data"
      ]
    },
    {
      "cell_type": "code",
      "metadata": {
        "id": "-OYTVYqXJ0hs",
        "outputId": "837b291c-ada2-4239-8540-6b09e9643dbe",
        "colab": {
          "base_uri": "https://localhost:8080/",
          "height": 480
        }
      },
      "source": [
        "# TODO: Display a given image along with its class\n",
        "# hint: make use of the matplotlib.pyplot library already imported as plt\n",
        "ind = 0\n",
        "plt.imshow(x_train[ind], cmap='Blues')\n",
        "str = 'Vizualization of sample #'+ind\n",
        "plt.title(str)\n",
        "plt.show()"
      ],
      "execution_count": 35,
      "outputs": [
        {
          "output_type": "error",
          "ename": "TypeError",
          "evalue": "ignored",
          "traceback": [
            "\u001b[0;31m---------------------------------------------------------------------------\u001b[0m",
            "\u001b[0;31mTypeError\u001b[0m                                 Traceback (most recent call last)",
            "\u001b[0;32m<ipython-input-35-44868d988183>\u001b[0m in \u001b[0;36m<module>\u001b[0;34m()\u001b[0m\n\u001b[1;32m      3\u001b[0m \u001b[0mind\u001b[0m \u001b[0;34m=\u001b[0m \u001b[0;36m0\u001b[0m\u001b[0;34m\u001b[0m\u001b[0;34m\u001b[0m\u001b[0m\n\u001b[1;32m      4\u001b[0m \u001b[0mplt\u001b[0m\u001b[0;34m.\u001b[0m\u001b[0mimshow\u001b[0m\u001b[0;34m(\u001b[0m\u001b[0mx_train\u001b[0m\u001b[0;34m[\u001b[0m\u001b[0mind\u001b[0m\u001b[0;34m]\u001b[0m\u001b[0;34m,\u001b[0m \u001b[0mcmap\u001b[0m\u001b[0;34m=\u001b[0m\u001b[0;34m'Blues'\u001b[0m\u001b[0;34m)\u001b[0m\u001b[0;34m\u001b[0m\u001b[0;34m\u001b[0m\u001b[0m\n\u001b[0;32m----> 5\u001b[0;31m \u001b[0mstr\u001b[0m \u001b[0;34m=\u001b[0m \u001b[0;34m'Vizualization of sample #'\u001b[0m\u001b[0;34m+\u001b[0m\u001b[0mind\u001b[0m\u001b[0;34m\u001b[0m\u001b[0;34m\u001b[0m\u001b[0m\n\u001b[0m\u001b[1;32m      6\u001b[0m \u001b[0mplt\u001b[0m\u001b[0;34m.\u001b[0m\u001b[0mtitle\u001b[0m\u001b[0;34m(\u001b[0m\u001b[0mstr\u001b[0m\u001b[0;34m)\u001b[0m\u001b[0;34m\u001b[0m\u001b[0;34m\u001b[0m\u001b[0m\n\u001b[1;32m      7\u001b[0m \u001b[0mplt\u001b[0m\u001b[0;34m.\u001b[0m\u001b[0mshow\u001b[0m\u001b[0;34m(\u001b[0m\u001b[0;34m)\u001b[0m\u001b[0;34m\u001b[0m\u001b[0;34m\u001b[0m\u001b[0m\n",
            "\u001b[0;31mTypeError\u001b[0m: can only concatenate str (not \"int\") to str"
          ]
        },
        {
          "output_type": "display_data",
          "data": {
            "image/png": "[encoded data removed]",
            "text/plain": [
              "<Figure size 432x288 with 1 Axes>"
            ]
          },
          "metadata": {
            "tags": [],
            "needs_background": "light"
          }
        }
      ]
    },
    {
      "cell_type": "markdown",
      "metadata": {
        "id": "UVbcMf4M5R4S"
      },
      "source": [
        "<details>\n",
        "<summary markdown='span'>View solution\n",
        "</summary>\n",
        "\n",
        "```python\n",
        "ind = 0\n",
        "plt.imshow(x_train[ind], cmap='Greys')\n",
        "plt.title('')\n",
        "plt.show()\n",
        "```"
      ]
    },
    {
      "cell_type": "code",
      "metadata": {
        "id": "Vfmh2xF5J9Zn",
        "outputId": "1191d926-43f7-4db5-e88e-c34b50a2a15f",
        "colab": {
          "base_uri": "https://localhost:8080/",
          "height": 444
        }
      },
      "source": [
        "# TODO: display an image of each class in a grid\n",
        "fig, axs = plt.subplots(nrows=2, ncols=5, figsize=(14, 6),subplot_kw={'xticks': [], 'yticks': []})\n",
        " \n",
        "for ax, i in zip(axs.flat, range(num_outputs)):\n",
        "    # Find an image of class i\n",
        "    img_index = np.arange(len(y_train))[y_train == i][0]\n",
        "    ax.imshow(x_train[img_index], cmap='Reds')\n",
        "    ax.set_title(f'Class {i}')\n",
        " \n",
        "plt.tight_layout()\n",
        "plt.show()\n",
        " "
      ],
      "execution_count": 36,
      "outputs": [
        {
          "output_type": "display_data",
          "data": {
            "image/png": "[encoded data removed]",
            "text/plain": [
              "<Figure size 1008x432 with 10 Axes>"
            ]
          },
          "metadata": {
            "tags": []
          }
        }
      ]
    },
    {
      "cell_type": "markdown",
      "metadata": {
        "id": "TVWXLymy5YFK"
      },
      "source": [
        "<details>\n",
        "<summary markdown='span'>Hints\n",
        "</summary>\n",
        "\n",
        "In the pyplot library, you can create a figure which will contain a grid of small containers for plot. This is done with the following code\n",
        "`fig, axs = plt.subplots(nrows=2, ncols=5, figsize=(14, 10))`\n",
        "You can read more about it [here](https://matplotlib.org/api/_as_gen/matplotlib.pyplot.subplots.html) and see an example [here](see an example here: https://matplotlib.org/gallery/images_contours_and_fields/interpolation_methods.html#sphx-glr-gallery-images-contours-and-fields-interpolation-methods-py)\n",
        "\n",
        "Then you just need to loop over the grid of axes (which is 2D if you ask for both several rows and columns)\n",
        "\n",
        "</details>\n",
        "\n",
        "\n",
        "<details>\n",
        "<summary markdown='span'>View solution\n",
        "</summary>\n",
        "\n",
        "```python\n",
        "fig, axs = plt.subplots(nrows=2, ncols=5, figsize=(14, 6),\n",
        "                        subplot_kw={'xticks': [], 'yticks': []})\n",
        "\n",
        "for ax, i in zip(axs.flat, range(num_outputs)):\n",
        "    # Find an image of class i\n",
        "    img_index = np.arange(len(y_train))[y_train == i][0]\n",
        "    ax.imshow(x_train[img_index], cmap='Greys')\n",
        "    ax.set_title(f'Class {i}')\n",
        "\n",
        "plt.tight_layout()\n",
        "plt.show()\n",
        "\n",
        "```"
      ]
    },
    {
      "cell_type": "code",
      "metadata": {
        "id": "TCXz4GOEsdxu",
        "outputId": "1c71da12-cd48-44ab-d549-c0d8201daa4d",
        "colab": {
          "base_uri": "https://localhost:8080/",
          "height": 630
        }
      },
      "source": [
        "# TODO: check the class distribution in the train and test set\n",
        "# a bar plot of the histogram of the number of samples for each class is\n",
        "# a nice way of representing it\n",
        "fraction_per_class_in_train = np.zeros(num_outputs)\n",
        "for i in range(num_outputs):\n",
        "  fraction_per_class_in_train[i] = (y_train == i).sum()\n",
        "fraction_per_class_in_train /= len(y_train)\n",
        "print('Sample distribution in train')\n",
        "print(fraction_per_class_in_train)\n",
        "sns.barplot(x= classes_values,y=fraction_per_class_in_train).set_title('Sample distribution in train')\n",
        "plt.show()\n",
        "\n",
        "fraction_per_class_in_test = np.zeros(num_outputs)\n",
        "for i in range(num_outputs):\n",
        "  fraction_per_class_in_test[i] = (y_test == i).sum()\n",
        "fraction_per_class_in_test /= len(y_test)\n",
        "print('Sample distribution in test')\n",
        "print(fraction_per_class_in_test) \n",
        "sns.barplot(x= classes_values,y=fraction_per_class_in_test).set_title('Sample distribution in test')\n",
        "plt.show()\n"
      ],
      "execution_count": 48,
      "outputs": [
        {
          "output_type": "stream",
          "text": [
            "Sample distribution in train\n",
            "[0.09871667 0.11236667 0.0993     0.10218333 0.09736667 0.09035\n",
            " 0.09863333 0.10441667 0.09751667 0.09915   ]\n"
          ],
          "name": "stdout"
        },
        {
          "output_type": "display_data",
          "data": {
            "image/png": "[encoded data removed]",
            "text/plain": [
              "<Figure size 432x288 with 1 Axes>"
            ]
          },
          "metadata": {
            "tags": [],
            "needs_background": "light"
          }
        },
        {
          "output_type": "stream",
          "text": [
            "Sample distribution in test\n",
            "[0.098  0.1135 0.1032 0.101  0.0982 0.0892 0.0958 0.1028 0.0974 0.1009]\n"
          ],
          "name": "stdout"
        },
        {
          "output_type": "display_data",
          "data": {
            "image/png": "[encoded data removed]",
            "text/plain": [
              "<Figure size 432x288 with 1 Axes>"
            ]
          },
          "metadata": {
            "tags": [],
            "needs_background": "light"
          }
        }
      ]
    },
    {
      "cell_type": "markdown",
      "metadata": {
        "id": "b3xB2liS5tmC"
      },
      "source": [
        "<details>\n",
        "<summary markdown='span'>View solution\n",
        "</summary>\n",
        "\n",
        "```python\n",
        "fraction_per_class_in_train = np.zeros(num_outputs)\n",
        "for i in range(num_outputs):\n",
        "  fraction_per_class_in_train[i] = (y_train == i).sum()\n",
        "fraction_per_class_in_train /= len(y_train)\n",
        "print('Sample distribution in train')\n",
        "print(fraction_per_class_in_train)\n",
        "\n",
        "fraction_per_class_in_test = np.zeros(num_outputs)\n",
        "for i in range(num_outputs):\n",
        "  fraction_per_class_in_test[i] = (y_test == i).sum()\n",
        "fraction_per_class_in_test /= len(y_test)\n",
        "print('Sample distribution in test')\n",
        "print(fraction_per_class_in_test)\n",
        "```"
      ]
    },
    {
      "cell_type": "markdown",
      "metadata": {
        "id": "P4ueduRiLvW1"
      },
      "source": [
        "#### Preparing the data\n",
        "\n",
        "We need to prepare the data for our modeling part"
      ]
    },
    {
      "cell_type": "code",
      "metadata": {
        "id": "PAPCl5GRLzBS"
      },
      "source": [
        "# TODO: Make the input continuous in the range [0, 1]\n",
        "# normalize ?\n",
        "x_train_continuous = x_train / 255\n",
        "x_test_continuous = x_test / 255"
      ],
      "execution_count": 50,
      "outputs": []
    },
    {
      "cell_type": "markdown",
      "metadata": {
        "id": "a8j5BBq350Eu"
      },
      "source": [
        "<details>\n",
        "<summary markdown='span'>View solution\n",
        "</summary>\n",
        "\n",
        "```python\n",
        "x_train_continuous = x_train / 255\n",
        "x_test_continuous = x_test / 255\n",
        "```"
      ]
    },
    {
      "cell_type": "code",
      "metadata": {
        "id": "MAPbiMIPMEZd",
        "outputId": "6a317ca8-03df-4c27-bb85-fdfb48360c14",
        "colab": {
          "base_uri": "https://localhost:8080/",
          "height": 265
        }
      },
      "source": [
        "# TODO: display again an image to make sure you converted it correctly\n",
        "ind = 0\n",
        "plt.imshow(x_train_continuous[ind], cmap='Greys')\n",
        "plt.show()"
      ],
      "execution_count": 51,
      "outputs": [
        {
          "output_type": "display_data",
          "data": {
            "image/png": "[encoded data removed]",
            "text/plain": [
              "<Figure size 432x288 with 1 Axes>"
            ]
          },
          "metadata": {
            "tags": [],
            "needs_background": "light"
          }
        }
      ]
    },
    {
      "cell_type": "markdown",
      "metadata": {
        "id": "ekrOGR8z54Vd"
      },
      "source": [
        "<details>\n",
        "<summary markdown='span'>View solution\n",
        "</summary>\n",
        "\n",
        "```python\n",
        "ind = 0\n",
        "plt.imshow(x_train_continuous[ind], cmap='Greys')\n",
        "plt.show()\n",
        "```"
      ]
    },
    {
      "cell_type": "code",
      "metadata": {
        "id": "rwbWnCH3O_xd",
        "outputId": "b2997864-235a-4f7a-abb9-0a78a949fe07",
        "colab": {
          "base_uri": "https://localhost:8080/"
        }
      },
      "source": [
        "# TODO: flatten the input so you can use it in a model, check the size at the end\n",
        "x_train_flat = x_train_continuous.reshape(x_train_continuous.shape[0],-1)\n",
        "print(x_train_flat.shape)\n",
        "x_test_flat = x_test_continuous.reshape(x_test_continuous.shape[0],-1)\n",
        "print(x_test_flat.shape)\n"
      ],
      "execution_count": 63,
      "outputs": [
        {
          "output_type": "stream",
          "text": [
            "(60000, 784)\n",
            "(10000, 784)\n"
          ],
          "name": "stdout"
        }
      ]
    },
    {
      "cell_type": "markdown",
      "metadata": {
        "id": "1v9yMYeA58n-"
      },
      "source": [
        "<details>\n",
        "<summary markdown='span'>View solution\n",
        "</summary>\n",
        "\n",
        "```python\n",
        "x_train_flatten = x_train_continuous.reshape((len(x_train), -1))\n",
        "x_test_flatten = x_test_continuous.reshape((len(x_test), -1))\n",
        "print(x_train_flatten.shape)\n",
        "```"
      ]
    },
    {
      "cell_type": "code",
      "metadata": {
        "id": "v2-LxaV1Mv_p"
      },
      "source": [
        "# TODO: Reduce the size of your training data with a random sample of 10 000 images\n",
        "# (check the numpy function np.random.randint)\n",
        "\n",
        "# here we fix the seed of the random sampling so we all work with the same randomness\n",
        "random_state = 42\n",
        "np.random.seed(random_state)\n",
        "\n",
        "#random sample of 10,000\n",
        "idx_sample = np.random.randint(x_train_flat.shape[0], size=10000)\n",
        "x_train_sml = x_train_flat[idx_sample]\n",
        "y_train_sml = y_train[idx_sample]\n"
      ],
      "execution_count": 73,
      "outputs": []
    },
    {
      "cell_type": "markdown",
      "metadata": {
        "id": "9ya_Vshx6BqT"
      },
      "source": [
        "<details>\n",
        "<summary markdown='span'>View solution\n",
        "</summary>\n",
        "\n",
        "```python\n",
        "idx_sample = np.random.randint(len(x_train_flatten), size=10000)\n",
        "x_train_small = x_train_flatten[idx_sample]\n",
        "y_train_small = y_train[idx_sample]\n",
        "```"
      ]
    },
    {
      "cell_type": "code",
      "metadata": {
        "id": "k7oVwDvANKjy",
        "outputId": "f034739c-1f6a-440b-abd3-6c87891895a0",
        "colab": {
          "base_uri": "https://localhost:8080/",
          "height": 386
        }
      },
      "source": [
        "# TODO: check class distribution in sample\n",
        "\n",
        "\n",
        "sns.displot(y_train_sml)"
      ],
      "execution_count": 74,
      "outputs": [
        {
          "output_type": "execute_result",
          "data": {
            "text/plain": [
              "<seaborn.axisgrid.FacetGrid at 0x7ff1675269d0>"
            ]
          },
          "metadata": {
            "tags": []
          },
          "execution_count": 74
        },
        {
          "output_type": "display_data",
          "data": {
            "image/png": "[encoded data removed]",
            "text/plain": [
              "<Figure size 360x360 with 1 Axes>"
            ]
          },
          "metadata": {
            "tags": [],
            "needs_background": "light"
          }
        }
      ]
    },
    {
      "cell_type": "markdown",
      "metadata": {
        "id": "EId9v18L6Ha0"
      },
      "source": [
        "<details>\n",
        "<summary markdown='span'>View solution\n",
        "</summary>\n",
        "\n",
        "```python\n",
        "fraction_per_class_in_train = np.zeros(num_outputs)\n",
        "for i in range(num_outputs):\n",
        "  fraction_per_class_in_train[i] = (y_train_small == i).sum()\n",
        "fraction_per_class_in_train /= len(y_train_small)\n",
        "print(fraction_per_class_in_train)\n",
        "```"
      ]
    },
    {
      "cell_type": "markdown",
      "metadata": {
        "id": "PxNt-yB7Mmev"
      },
      "source": [
        "## Linear Model\n",
        "\n",
        "As a review of ML and to build a baseline we start with a simple multinomial logistic regression.\n",
        "\n",
        "TODO: \n",
        "\n",
        "Model fitting: import the model from sklearn and fit it to your sample of data of the train set, print the accuracy on your training sample and on the test data.\n",
        "\n",
        "Model Investigation: Check the confusion matrix and show a mis-labelled image per class"
      ]
    },
    {
      "cell_type": "markdown",
      "metadata": {
        "id": "4ywXzDPVtwHy"
      },
      "source": [
        "#### Modeling"
      ]
    },
    {
      "cell_type": "code",
      "metadata": {
        "id": "-CAa6BQPMHQz",
        "outputId": "06f02abb-e1dc-4a0b-fe35-67ad77756f94",
        "colab": {
          "base_uri": "https://localhost:8080/"
        }
      },
      "source": [
        "# TODO: build and fit a LogisticRegression from the package sklearn\n",
        "from sklearn.linear_model import LogisticRegression\n",
        "lr = LogisticRegression(random_state=random_state max_iter=1000)\n",
        "lr.fit(x_train_sml,y_train_sml)"
      ],
      "execution_count": 76,
      "outputs": [
        {
          "output_type": "execute_result",
          "data": {
            "text/plain": [
              "LogisticRegression(C=1.0, class_weight=None, dual=False, fit_intercept=True,\n",
              "                   intercept_scaling=1, l1_ratio=None, max_iter=1000,\n",
              "                   multi_class='auto', n_jobs=None, penalty='l2',\n",
              "                   random_state=None, solver='lbfgs', tol=0.0001, verbose=0,\n",
              "                   warm_start=False)"
            ]
          },
          "metadata": {
            "tags": []
          },
          "execution_count": 76
        }
      ]
    },
    {
      "cell_type": "markdown",
      "metadata": {
        "id": "E97_MzSwFD-x"
      },
      "source": [
        "<details>\n",
        "<summary markdown='span'>View solution\n",
        "</summary>\n",
        "\n",
        "```python\n",
        "lr = LogisticRegression(random_state=random_state, solver='lbfgs', multi_class='multinomial')\n",
        "lr.fit(x_train_small, y_train_small)\n",
        "```"
      ]
    },
    {
      "cell_type": "code",
      "metadata": {
        "id": "-WL0bEzXO6cM",
        "outputId": "883181c5-cf18-4c62-d62d-f11705428eea",
        "colab": {
          "base_uri": "https://localhost:8080/"
        }
      },
      "source": [
        "# TODO: print train and test metrics of your model\n",
        "print('accuracy train:')\n",
        "print(lr.score(x_train_sml,y_train_sml))\n",
        "print('accuracy test:')\n",
        "print(lr.score(x_test_flat,y_test))"
      ],
      "execution_count": 82,
      "outputs": [
        {
          "output_type": "stream",
          "text": [
            "accuracy train:\n",
            "0.9716\n",
            "accuracy test:\n",
            "0.9045\n"
          ],
          "name": "stdout"
        }
      ]
    },
    {
      "cell_type": "markdown",
      "metadata": {
        "id": "An3isN3YFKhi"
      },
      "source": [
        "<details>\n",
        "<summary markdown='span'>View solution\n",
        "</summary>\n",
        "\n",
        "```python\n",
        "accuracy_train = lr.score(x_train_small, y_train_small)\n",
        "print(f'Train model accuracy: {accuracy_train}')\n",
        "\n",
        "accuracy_test = lr.score(x_test_flatten, y_test)\n",
        "print(f'Test model accuracy: {accuracy_test}')\n",
        "```"
      ]
    },
    {
      "cell_type": "markdown",
      "metadata": {
        "id": "5-LDmK4qt1NU"
      },
      "source": [
        "#### Inspecting Results"
      ]
    },
    {
      "cell_type": "code",
      "metadata": {
        "id": "m4m8xXx0t6Jh",
        "outputId": "2dbc9fad-f215-4a9b-8339-83325e5a9ea9",
        "colab": {
          "base_uri": "https://localhost:8080/",
          "height": 1000
        }
      },
      "source": [
        "# TODO: Use the provided function to plot the confusion matrix,\n",
        "# try with and without normalization.\n",
        "# Comment your results\n",
        "# you can check example here \n",
        "# https://scikit-learn.org/stable/auto_examples/model_selection/plot_confusion_matrix.html#sphx-glr-auto-examples-model-selection-plot-confusion-matrix-py\n",
        "\n",
        "from sklearn.metrics import confusion_matrix\n",
        "from sklearn.utils.multiclass import unique_labels\n",
        "\n",
        "\n",
        "def plot_confusion_matrix(y_true, y_pred, classes,\n",
        "                          normalize=False,\n",
        "                          title=None,\n",
        "                          cmap=plt.cm.Blues):\n",
        "    \"\"\"\n",
        "    This function prints and plots the confusion matrix.\n",
        "    Normalization can be applied by setting `normalize=True`.\n",
        "    \"\"\"\n",
        "    if not title:\n",
        "        if normalize:\n",
        "            title = 'Normalized confusion matrix'\n",
        "        else:\n",
        "            title = 'Confusion matrix, without normalization'\n",
        "\n",
        "    # Compute confusion matrix\n",
        "    cm = confusion_matrix(y_true, y_pred)\n",
        "    # Only use the labels that appear in the data\n",
        "    classes = classes[unique_labels(y_true, y_pred)]\n",
        "    if normalize:\n",
        "        cm = cm.astype('float') / cm.sum(axis=1)[:, np.newaxis]\n",
        "\n",
        "    fig, ax = plt.subplots(figsize=(12, 12))\n",
        "    im = ax.imshow(cm, interpolation='nearest', cmap=cmap)\n",
        "    ax.figure.colorbar(im, ax=ax)\n",
        "    # We want to show all ticks...\n",
        "    ax.set(xticks=np.arange(cm.shape[1]),\n",
        "           yticks=np.arange(cm.shape[0]),\n",
        "           # ... and label them with the respective list entries\n",
        "           xticklabels=classes, yticklabels=classes,\n",
        "           title=title,\n",
        "           ylabel='True label',\n",
        "           xlabel='Predicted label')\n",
        "\n",
        "    # Rotate the tick labels and set their alignment.\n",
        "    plt.setp(ax.get_xticklabels(), rotation=45, ha=\"right\",\n",
        "             rotation_mode=\"anchor\")\n",
        "\n",
        "    # Loop over data dimensions and create text annotations.\n",
        "    fmt = '.2f' if normalize else 'd'\n",
        "    thresh = cm.max() / 2.\n",
        "    for i in range(cm.shape[0]):\n",
        "        for j in range(cm.shape[1]):\n",
        "            ax.text(j, i, format(cm[i, j], fmt),\n",
        "                    ha=\"center\", va=\"center\",\n",
        "                    color=\"white\" if cm[i, j] > thresh else \"black\")\n",
        "    fig.tight_layout()\n",
        "    return ax\n",
        "\n",
        "# To set the number of decimal for numeric types\n",
        "np.set_printoptions(precision=2)\n",
        "\n",
        "#plotting the confusion matrix\n",
        "y_true = y_test\n",
        "y_pred = lr.predict(x_test_flat)\n",
        "classes = np.unique(y_test)\n",
        "ax1 = plot_confusion_matrix(y_true, y_pred, classes,\n",
        "                          normalize=False,\n",
        "                          title='Confusion Matrix not normalized',\n",
        "                          cmap=plt.cm.Blues)\n",
        "ax2 = plot_confusion_matrix(y_true, y_pred, classes,\n",
        "                          normalize=True,\n",
        "                          title='Confusion Matrix normalized',\n",
        "                          cmap=plt.cm.Blues)\n",
        "plt.show()"
      ],
      "execution_count": 86,
      "outputs": [
        {
          "output_type": "display_data",
          "data": {
            "image/png": "[encoded data removed]",
            "text/plain": [
              "<Figure size 864x864 with 2 Axes>"
            ]
          },
          "metadata": {
            "tags": [],
            "needs_background": "light"
          }
        },
        {
          "output_type": "display_data",
          "data": {
            "image/png": "[encoded data removed]",
            "text/plain": [
              "<Figure size 864x864 with 2 Axes>"
            ]
          },
          "metadata": {
            "tags": [],
            "needs_background": "light"
          }
        }
      ]
    },
    {
      "cell_type": "markdown",
      "metadata": {
        "id": "019geVmCFuC-"
      },
      "source": [
        "<details>\n",
        "<summary markdown='span'>View solution\n",
        "</summary>\n",
        "\n",
        "```python\n",
        "y_pred = lr.predict(x_test_flatten)\n",
        "\n",
        "class_names = np.arange(num_outputs)\n",
        "\n",
        "# Plot non-normalized confusion matrix\n",
        "plot_confusion_matrix(y_test, y_pred, classes=class_names,\n",
        "                      title='Confusion matrix, without normalization')\n",
        "\n",
        "# Plot normalized confusion matrix\n",
        "plot_confusion_matrix(y_test, y_pred, classes=class_names, normalize=True,\n",
        "                      title='Normalized confusion matrix')\n",
        "\n",
        "plt.show()\n",
        "```"
      ]
    },
    {
      "cell_type": "code",
      "metadata": {
        "id": "YM9VGAP6QOlE",
        "outputId": "fea64b1e-524a-46f1-cc63-0464669e1f6a",
        "colab": {
          "base_uri": "https://localhost:8080/",
          "height": 627
        }
      },
      "source": [
        "#A revoir\n",
        "## TODO: plot mis-labelled sample in test (use plt.subplots )\n",
        "\n",
        "fig, axs = plt.subplots(nrows=2, ncols=5, figsize=(14, 10),\n",
        "                        subplot_kw={'xticks': [], 'yticks': []})\n",
        " \n",
        "for ax, i in zip(axs.flat, range(num_outputs)):\n",
        "    # Find a miss-classified image of class i\n",
        "    img_index = np.arange(len(y_test))[(y_test == i) & (y_pred != i)][0]\n",
        "    ax.imshow(x_test_continuous[img_index].reshape((28, 28)), cmap='Greys')\n",
        "    ax.set_title(f'Class {i} - Prediction {y_pred[img_index]}')\n",
        " \n",
        "plt.suptitle('Miss-classified samples with LR')\n",
        "plt.tight_layout()\n",
        "plt.show()"
      ],
      "execution_count": 87,
      "outputs": [
        {
          "output_type": "display_data",
          "data": {
            "image/png": "[encoded data removed]",
            "text/plain": [
              "<Figure size 1008x720 with 10 Axes>"
            ]
          },
          "metadata": {
            "tags": []
          }
        }
      ]
    },
    {
      "cell_type": "markdown",
      "metadata": {
        "id": "orw5E9yRF9jd"
      },
      "source": [
        "<details>\n",
        "<summary markdown='span'>View solution\n",
        "</summary>\n",
        "\n",
        "```python\n",
        "fig, axs = plt.subplots(nrows=2, ncols=5, figsize=(14, 10),\n",
        "                        subplot_kw={'xticks': [], 'yticks': []})\n",
        "\n",
        "for ax, i in zip(axs.flat, range(num_outputs)):\n",
        "    # Find a miss-classified image of class i\n",
        "    img_index = np.arange(len(y_test))[(y_test == i) & (y_pred != i)][0]\n",
        "    ax.imshow(x_test_continuous[img_index].reshape((28, 28)), cmap='Greys')\n",
        "    ax.set_title(f'Class {i} - Prediction {y_pred[img_index]}')\n",
        "\n",
        "plt.suptitle('Miss-classified samples with LR')\n",
        "plt.tight_layout()\n",
        "plt.show()\n",
        "```"
      ]
    },
    {
      "cell_type": "markdown",
      "metadata": {
        "id": "xtKmSa7AP6Ke"
      },
      "source": [
        "##Neural Network\n",
        "\n",
        "Now let's try to improve our performance with a simple Neural Network"
      ]
    },
    {
      "cell_type": "markdown",
      "metadata": {
        "id": "CzzJ20jHGazC"
      },
      "source": [
        "### Keras Functional API Overview\n",
        "\n",
        "You have different ways ways for building a model with Tensorflow. Here we choose to use the abstraction provided by Keras, which is now part of Tensorflow so you only have to specify the layers you want and them you wrap them all into a model.\n",
        "\n",
        "You have two main ways of doint this:"
      ]
    },
    {
      "cell_type": "code",
      "metadata": {
        "id": "4HTZRBAZGgdq"
      },
      "source": [
        "### Here we'll see two ways of building the exact same model\n",
        "\n",
        "# 1st way: using the Sequential method\n",
        "\n",
        "model1 = tf.keras.Sequential([\n",
        "    # Set input_shape (as a tuple of integers, does not include the samples axis)\n",
        "    # only for the first layer in a model.\n",
        "    tf.keras.layers.Dense(16, activation='relu', input_shape=(64,)),\n",
        "    tf.keras.layers.Dense(2, activation='softmax')\n",
        "])\n",
        "\n",
        "\n",
        "# 2nd way: Defining layer by layer\n",
        "\n",
        "# This is a placeholder for your input data\n",
        "img_input = tf.keras.layers.Input(shape=(64,))\n",
        "x = tf.keras.layers.Dense(16, activation='relu')(img_input)\n",
        "output = tf.keras.layers.Dense(2, activation='softmax')(x)\n",
        "\n",
        "model2 = tf.keras.Model(img_input, output)\n"
      ],
      "execution_count": 88,
      "outputs": []
    },
    {
      "cell_type": "code",
      "metadata": {
        "id": "DJoaLkuBGgiI",
        "colab": {
          "base_uri": "https://localhost:8080/"
        },
        "outputId": "f80ebbb5-adc4-4ec3-a1c0-87f6fbb6f6cc"
      },
      "source": [
        "model1.summary()"
      ],
      "execution_count": 89,
      "outputs": [
        {
          "output_type": "stream",
          "text": [
            "Model: \"sequential\"\n",
            "_________________________________________________________________\n",
            "Layer (type)                 Output Shape              Param #   \n",
            "=================================================================\n",
            "dense (Dense)                (None, 16)                1040      \n",
            "_________________________________________________________________\n",
            "dense_1 (Dense)              (None, 2)                 34        \n",
            "=================================================================\n",
            "Total params: 1,074\n",
            "Trainable params: 1,074\n",
            "Non-trainable params: 0\n",
            "_________________________________________________________________\n"
          ],
          "name": "stdout"
        }
      ]
    },
    {
      "cell_type": "code",
      "metadata": {
        "id": "mVB3ArUrGggg",
        "colab": {
          "base_uri": "https://localhost:8080/"
        },
        "outputId": "c0d65832-702d-4fbe-825f-14c615a8cc89"
      },
      "source": [
        "model2.summary()"
      ],
      "execution_count": 90,
      "outputs": [
        {
          "output_type": "stream",
          "text": [
            "Model: \"model\"\n",
            "_________________________________________________________________\n",
            "Layer (type)                 Output Shape              Param #   \n",
            "=================================================================\n",
            "input_1 (InputLayer)         [(None, 64)]              0         \n",
            "_________________________________________________________________\n",
            "dense_2 (Dense)              (None, 16)                1040      \n",
            "_________________________________________________________________\n",
            "dense_3 (Dense)              (None, 2)                 34        \n",
            "=================================================================\n",
            "Total params: 1,074\n",
            "Trainable params: 1,074\n",
            "Non-trainable params: 0\n",
            "_________________________________________________________________\n"
          ],
          "name": "stdout"
        }
      ]
    },
    {
      "cell_type": "markdown",
      "metadata": {
        "id": "6FXpxD1wY45A"
      },
      "source": [
        "#### Baseline Model"
      ]
    },
    {
      "cell_type": "code",
      "metadata": {
        "id": "weh5SOvHQEJf",
        "outputId": "fd8dd2b0-953d-46a9-87a9-c1496e02a309",
        "colab": {
          "base_uri": "https://localhost:8080/"
        }
      },
      "source": [
        "# TODO: define a keras model using the functional API, try first a simple neural network with only one level of hidden layers\n",
        "# hint: \n",
        "#   - Don't forget to compile your model, you can choose the 'adam' optimizer, chose the correct loss and ask to report the accuracy\n",
        "input_shape = x_train_sml.shape[1]\n",
        "print(input_shape )\n",
        "\n",
        "model = tf.keras.Sequential()\n",
        "model.add(tf.keras.layers.Dense(64, activation='relu', input_shape=(input_shape,)))\n",
        "model.add(tf.keras.layers.Dense(num_outputs, activation='softmax'))\n",
        "model.summary()\n",
        "\n",
        "#model.compile(optimizer='adam',loss = 'mse') #mse will throw an error as it is not adequate loss function in this case\n",
        "model.compile(optimizer='adam',\n",
        "              loss='sparse_categorical_crossentropy',\n",
        "              metrics=['accuracy'])\n"
      ],
      "execution_count": 103,
      "outputs": [
        {
          "output_type": "stream",
          "text": [
            "784\n",
            "Model: \"sequential_5\"\n",
            "_________________________________________________________________\n",
            "Layer (type)                 Output Shape              Param #   \n",
            "=================================================================\n",
            "dense_9 (Dense)              (None, 64)                50240     \n",
            "_________________________________________________________________\n",
            "dense_10 (Dense)             (None, 10)                650       \n",
            "=================================================================\n",
            "Total params: 50,890\n",
            "Trainable params: 50,890\n",
            "Non-trainable params: 0\n",
            "_________________________________________________________________\n"
          ],
          "name": "stdout"
        }
      ]
    },
    {
      "cell_type": "markdown",
      "metadata": {
        "id": "D98ZTG4mK0PM"
      },
      "source": [
        "<details>\n",
        "<summary markdown='span'>Hints\n",
        "</summary>\n",
        "\n",
        "Don't forget to compile your model, you can choose the 'adam' optimizer, then choose the correct loss and ask to report the accuracy\n",
        "</details>\n",
        "\n",
        "<details>\n",
        "<summary markdown='span'>View solution\n",
        "</summary>\n",
        "\n",
        "```python\n",
        "model = tf.keras.Sequential([\n",
        "    tf.keras.layers.Dense(128, activation='relu'),\n",
        "    tf.keras.layers.Dense(num_outputs, activation='softmax')\n",
        "])\n",
        "model.compile(optimizer='adam',\n",
        "              loss='sparse_categorical_crossentropy',\n",
        "              metrics=['accuracy'])\n",
        "```"
      ]
    },
    {
      "cell_type": "code",
      "metadata": {
        "id": "IajpJrK5RLU3",
        "outputId": "d88960b6-edf8-48a0-d136-5a387edbecf8",
        "colab": {
          "base_uri": "https://localhost:8080/"
        }
      },
      "source": [
        "# TODO: Training your model for 10 epochs and ask to score your test data\n",
        "\n",
        "batch_size = 64\n",
        "epochs = 10\n",
        "\n",
        "#model.fit(x_train_sml,y_train_sml,batch_size = batch_size, epochs = epochs)\n",
        "#model.evaluate(x_test_flat,y_test)\n",
        "#better work with history\n",
        "\n",
        "history = model.fit(x_train_sml,\n",
        "                    y_train_sml,\n",
        "                    batch_size = batch_size, \n",
        "                    epochs = epochs,\n",
        "                    validation_data=(x_test_flat, y_test))"
      ],
      "execution_count": 109,
      "outputs": [
        {
          "output_type": "stream",
          "text": [
            "Epoch 1/10\n",
            "157/157 [==============================] - 1s 4ms/step - loss: 0.0293 - accuracy: 0.9942 - val_loss: 0.1897 - val_accuracy: 0.9488\n",
            "Epoch 2/10\n",
            "157/157 [==============================] - 1s 4ms/step - loss: 0.0253 - accuracy: 0.9961 - val_loss: 0.1870 - val_accuracy: 0.9498\n",
            "Epoch 3/10\n",
            "157/157 [==============================] - 1s 4ms/step - loss: 0.0221 - accuracy: 0.9972 - val_loss: 0.1906 - val_accuracy: 0.9491\n",
            "Epoch 4/10\n",
            "157/157 [==============================] - 1s 4ms/step - loss: 0.0200 - accuracy: 0.9971 - val_loss: 0.1865 - val_accuracy: 0.9510\n",
            "Epoch 5/10\n",
            "157/157 [==============================] - 1s 4ms/step - loss: 0.0181 - accuracy: 0.9981 - val_loss: 0.1893 - val_accuracy: 0.9501\n",
            "Epoch 6/10\n",
            "157/157 [==============================] - 1s 4ms/step - loss: 0.0160 - accuracy: 0.9984 - val_loss: 0.1923 - val_accuracy: 0.9507\n",
            "Epoch 7/10\n",
            "157/157 [==============================] - 1s 4ms/step - loss: 0.0141 - accuracy: 0.9991 - val_loss: 0.1993 - val_accuracy: 0.9482\n",
            "Epoch 8/10\n",
            "157/157 [==============================] - 1s 4ms/step - loss: 0.0128 - accuracy: 0.9991 - val_loss: 0.1921 - val_accuracy: 0.9510\n",
            "Epoch 9/10\n",
            "157/157 [==============================] - 1s 4ms/step - loss: 0.0110 - accuracy: 0.9996 - val_loss: 0.1952 - val_accuracy: 0.9503\n",
            "Epoch 10/10\n",
            "157/157 [==============================] - 1s 4ms/step - loss: 0.0101 - accuracy: 0.9995 - val_loss: 0.1942 - val_accuracy: 0.9509\n"
          ],
          "name": "stdout"
        }
      ]
    },
    {
      "cell_type": "markdown",
      "metadata": {
        "id": "PXjuWm4lLaDq"
      },
      "source": [
        "\n",
        "<details>\n",
        "<summary markdown='span'>View solution\n",
        "</summary>\n",
        "\n",
        "```python\n",
        "\n",
        "num_epochs = 10\n",
        "\n",
        "history = model.fit(x_train_small,\n",
        "          y_train_small,\n",
        "          epochs=num_epochs,\n",
        "          validation_data=(x_test_flatten, y_test),)\n",
        "\n",
        "```"
      ]
    },
    {
      "cell_type": "markdown",
      "metadata": {
        "id": "J2-B8-VTR8eI"
      },
      "source": [
        "#### Evaluation"
      ]
    },
    {
      "cell_type": "code",
      "metadata": {
        "id": "OQUF1n23zX87",
        "colab": {
          "base_uri": "https://localhost:8080/",
          "height": 359
        },
        "outputId": "d18f2631-4f1d-4138-a1d4-8f2fbcc2d590"
      },
      "source": [
        "# Retrieve the metrics from your history and wrap them into a dataframe\n",
        "# to manipulate them easily\n",
        "history_df = pd.DataFrame(history.history).reset_index().rename(columns={'index': 'epochs'})\n",
        "history_df"
      ],
      "execution_count": 110,
      "outputs": [
        {
          "output_type": "execute_result",
          "data": {
            "text/html": [
              "<div>\n",
              "<style scoped>\n",
              "    .dataframe tbody tr th:only-of-type {\n",
              "        vertical-align: middle;\n",
              "    }\n",
              "\n",
              "    .dataframe tbody tr th {\n",
              "        vertical-align: top;\n",
              "    }\n",
              "\n",
              "    .dataframe thead th {\n",
              "        text-align: right;\n",
              "    }\n",
              "</style>\n",
              "<table border=\"1\" class=\"dataframe\">\n",
              "  <thead>\n",
              "    <tr style=\"text-align: right;\">\n",
              "      <th></th>\n",
              "      <th>epochs</th>\n",
              "      <th>loss</th>\n",
              "      <th>accuracy</th>\n",
              "      <th>val_loss</th>\n",
              "      <th>val_accuracy</th>\n",
              "    </tr>\n",
              "  </thead>\n",
              "  <tbody>\n",
              "    <tr>\n",
              "      <th>0</th>\n",
              "      <td>0</td>\n",
              "      <td>0.029262</td>\n",
              "      <td>0.9942</td>\n",
              "      <td>0.189654</td>\n",
              "      <td>0.9488</td>\n",
              "    </tr>\n",
              "    <tr>\n",
              "      <th>1</th>\n",
              "      <td>1</td>\n",
              "      <td>0.025346</td>\n",
              "      <td>0.9961</td>\n",
              "      <td>0.186961</td>\n",
              "      <td>0.9498</td>\n",
              "    </tr>\n",
              "    <tr>\n",
              "      <th>2</th>\n",
              "      <td>2</td>\n",
              "      <td>0.022066</td>\n",
              "      <td>0.9972</td>\n",
              "      <td>0.190624</td>\n",
              "      <td>0.9491</td>\n",
              "    </tr>\n",
              "    <tr>\n",
              "      <th>3</th>\n",
              "      <td>3</td>\n",
              "      <td>0.019980</td>\n",
              "      <td>0.9971</td>\n",
              "      <td>0.186534</td>\n",
              "      <td>0.9510</td>\n",
              "    </tr>\n",
              "    <tr>\n",
              "      <th>4</th>\n",
              "      <td>4</td>\n",
              "      <td>0.018097</td>\n",
              "      <td>0.9981</td>\n",
              "      <td>0.189288</td>\n",
              "      <td>0.9501</td>\n",
              "    </tr>\n",
              "    <tr>\n",
              "      <th>5</th>\n",
              "      <td>5</td>\n",
              "      <td>0.016029</td>\n",
              "      <td>0.9984</td>\n",
              "      <td>0.192257</td>\n",
              "      <td>0.9507</td>\n",
              "    </tr>\n",
              "    <tr>\n",
              "      <th>6</th>\n",
              "      <td>6</td>\n",
              "      <td>0.014139</td>\n",
              "      <td>0.9991</td>\n",
              "      <td>0.199257</td>\n",
              "      <td>0.9482</td>\n",
              "    </tr>\n",
              "    <tr>\n",
              "      <th>7</th>\n",
              "      <td>7</td>\n",
              "      <td>0.012784</td>\n",
              "      <td>0.9991</td>\n",
              "      <td>0.192118</td>\n",
              "      <td>0.9510</td>\n",
              "    </tr>\n",
              "    <tr>\n",
              "      <th>8</th>\n",
              "      <td>8</td>\n",
              "      <td>0.011023</td>\n",
              "      <td>0.9996</td>\n",
              "      <td>0.195165</td>\n",
              "      <td>0.9503</td>\n",
              "    </tr>\n",
              "    <tr>\n",
              "      <th>9</th>\n",
              "      <td>9</td>\n",
              "      <td>0.010053</td>\n",
              "      <td>0.9995</td>\n",
              "      <td>0.194188</td>\n",
              "      <td>0.9509</td>\n",
              "    </tr>\n",
              "  </tbody>\n",
              "</table>\n",
              "</div>"
            ],
            "text/plain": [
              "   epochs      loss  accuracy  val_loss  val_accuracy\n",
              "0       0  0.029262    0.9942  0.189654        0.9488\n",
              "1       1  0.025346    0.9961  0.186961        0.9498\n",
              "2       2  0.022066    0.9972  0.190624        0.9491\n",
              "3       3  0.019980    0.9971  0.186534        0.9510\n",
              "4       4  0.018097    0.9981  0.189288        0.9501\n",
              "5       5  0.016029    0.9984  0.192257        0.9507\n",
              "6       6  0.014139    0.9991  0.199257        0.9482\n",
              "7       7  0.012784    0.9991  0.192118        0.9510\n",
              "8       8  0.011023    0.9996  0.195165        0.9503\n",
              "9       9  0.010053    0.9995  0.194188        0.9509"
            ]
          },
          "metadata": {
            "tags": []
          },
          "execution_count": 110
        }
      ]
    },
    {
      "cell_type": "code",
      "metadata": {
        "id": "goP-Rm780aNV",
        "outputId": "1d4de2be-64ad-47ac-8854-9261f961b8af",
        "colab": {
          "base_uri": "https://localhost:8080/",
          "height": 573
        }
      },
      "source": [
        "#revoir\n",
        "# TODO: plot on the same plot the val/train curve for each metric\n",
        "# using different colors\n",
        "fig, ax = plt.subplots()\n",
        " \n",
        "history_df.plot('epochs', 'loss', color='g', label='train', ax=ax)\n",
        "history_df.plot('epochs', 'val_loss', color='r', label='test', ax=ax)\n",
        " \n",
        "plt.title('Evolution of the loss')\n",
        "plt.show()\n",
        " \n",
        "fig, ax = plt.subplots()\n",
        " \n",
        "history_df.plot('epochs', 'accuracy', color='g', label='train', ax=ax)\n",
        "history_df.plot('epochs', 'val_accuracy', color='r', label='test', ax=ax)\n",
        " \n",
        "plt.title('Evolution of the accuracy')\n",
        "plt.show()"
      ],
      "execution_count": 111,
      "outputs": [
        {
          "output_type": "display_data",
          "data": {
            "image/png": "[encoded data removed]",
            "text/plain": [
              "<Figure size 432x288 with 1 Axes>"
            ]
          },
          "metadata": {
            "tags": [],
            "needs_background": "light"
          }
        },
        {
          "output_type": "display_data",
          "data": {
            "image/png": "[encoded data removed]",
            "text/plain": [
              "<Figure size 432x288 with 1 Axes>"
            ]
          },
          "metadata": {
            "tags": [],
            "needs_background": "light"
          }
        }
      ]
    },
    {
      "cell_type": "markdown",
      "metadata": {
        "id": "nQ7WScqvLyER"
      },
      "source": [
        "<details>\n",
        "<summary markdown='span'>Hints\n",
        "</summary>\n",
        "\n",
        "You can use the object method `.plot()` of your dataframe, then you just need to pass as arguments the name of the columns you want to plot. Each call add a plot to the current plot. Finally to display the figure just execute `plt.show()`\n",
        "\n",
        "</details>\n",
        "\n",
        "<details>\n",
        "<summary markdown='span'>View solution\n",
        "</summary>\n",
        "\n",
        "```python\n",
        "fig, ax = plt.subplots()\n",
        "\n",
        "history_df.plot('epochs', 'loss', color='g', label='train', ax=ax)\n",
        "history_df.plot('epochs', 'val_loss', color='r', label='test', ax=ax)\n",
        "\n",
        "plt.title('Evolution of the loss')\n",
        "plt.show()\n",
        "\n",
        "fig, ax = plt.subplots()\n",
        "\n",
        "history_df.plot('epochs', 'accuracy', color='g', label='train', ax=ax)\n",
        "history_df.plot('epochs', 'val_accuracy', color='r', label='test', ax=ax)\n",
        "\n",
        "plt.title('Evolution of the accuracy')\n",
        "plt.show()\n",
        "```"
      ]
    },
    {
      "cell_type": "markdown",
      "metadata": {
        "id": "0mq1ffpkR-eF"
      },
      "source": [
        "#### Prediction\n",
        "\n",
        "Here we'll predict with our Neural Network"
      ]
    },
    {
      "cell_type": "code",
      "metadata": {
        "id": "6DxFxPSVRyeP"
      },
      "source": [
        "# TODO: use your model to predict on your test data sample, retrieve the probabilities output and the class output\n",
        "pred_test_flat=model.predict(x_test_flat)\n",
        "y_pred_nn = np.argmax(pred_test_flat, axis=1)"
      ],
      "execution_count": 113,
      "outputs": []
    },
    {
      "cell_type": "markdown",
      "metadata": {
        "id": "rB3NpH8dMVvC"
      },
      "source": [
        "<details>\n",
        "<summary markdown='span'>View solution\n",
        "</summary>\n",
        "\n",
        "```python\n",
        "predictions_test_flatten = model.predict(x_test_flatten)\n",
        "y_pred_mlp = np.argmax(predictions_test_flatten, axis=1)\n",
        "```"
      ]
    },
    {
      "cell_type": "code",
      "metadata": {
        "id": "LeEUZY4bVR9L"
      },
      "source": [
        "# We define this helper function to plot the probabilities distribution for a given prediction\n",
        "def plot_value_array(i, predictions_array, true_labels):\n",
        "  '''\n",
        "  Plot the probabilities distribution for the prediction of index i in\n",
        "  predictions_array and the true label at position i in the true_labels array.\n",
        "  '''\n",
        "  predictions_array, true_label = predictions_array[i], true_labels[i]\n",
        "  plt.grid(False)\n",
        "  plt.xticks(range(10))\n",
        "  plt.yticks([])\n",
        "  thisplot = plt.bar(range(10), predictions_array, color=\"#777777\")\n",
        "  plt.ylim([0, 1])\n",
        "  predicted_label = np.argmax(predictions_array)\n",
        "\n",
        "  thisplot[predicted_label].set_color('red')\n",
        "  thisplot[true_label].set_color('blue')"
      ],
      "execution_count": 114,
      "outputs": []
    },
    {
      "cell_type": "code",
      "metadata": {
        "id": "3DtzZlS_Vfv8",
        "outputId": "5e368777-083c-433b-a599-92c7a38b5e0f",
        "colab": {
          "base_uri": "https://localhost:8080/",
          "height": 513
        }
      },
      "source": [
        "#revoir\n",
        "# TODO: plot the prediction of some example with its image as well\n",
        "ind = 56\n",
        "plt.imshow(x_train_continuous[ind], cmap='Greys')\n",
        "plt.show()\n",
        " \n",
        "plot_value_array(ind, pred_test_flat, y_test)"
      ],
      "execution_count": 119,
      "outputs": [
        {
          "output_type": "display_data",
          "data": {
            "image/png": "[encoded data removed]",
            "text/plain": [
              "<Figure size 432x288 with 1 Axes>"
            ]
          },
          "metadata": {
            "tags": [],
            "needs_background": "light"
          }
        },
        {
          "output_type": "display_data",
          "data": {
            "image/png": "[encoded data removed]",
            "text/plain": [
              "<Figure size 432x288 with 1 Axes>"
            ]
          },
          "metadata": {
            "tags": [],
            "needs_background": "light"
          }
        }
      ]
    },
    {
      "cell_type": "markdown",
      "metadata": {
        "id": "WJKdZUEqMcPD"
      },
      "source": [
        "<details>\n",
        "<summary markdown='span'>View solution\n",
        "</summary>\n",
        "\n",
        "```python\n",
        "ind = 53\n",
        "plt.imshow(x_train_continuous[ind], cmap='Greys')\n",
        "plt.show()\n",
        "\n",
        "plot_value_array(ind, predictions_test_flatten, y_test)\n",
        "```"
      ]
    },
    {
      "cell_type": "code",
      "metadata": {
        "id": "F6ptwMhTV3fq",
        "outputId": "8f988ead-adda-4dc8-c3fa-5a62cc7b501e",
        "colab": {
          "base_uri": "https://localhost:8080/",
          "height": 627
        }
      },
      "source": [
        "#revoir\n",
        "# TODO: plot misclassified samples in a grid\n",
        "fig, axs = plt.subplots(nrows=2, ncols=5, figsize=(14, 10),\n",
        "                        subplot_kw={'xticks': [], 'yticks': []})\n",
        " \n",
        "for ax, i in zip(axs.flat, range(num_outputs)):\n",
        "    # Find a miss-classified image of class i\n",
        "    img_index = np.arange(len(y_test))[(y_test == i) & (y_pred_nn != i)][0]\n",
        "    ax.imshow(x_test_continuous[img_index].reshape((28, 28)), cmap='Greys')\n",
        "    ax.set_title(f'Class {i} - Prediction {y_pred_nn[img_index]}')\n",
        " \n",
        "plt.suptitle('Miss-classified samples with MLP')\n",
        "plt.tight_layout()\n",
        "plt.show()"
      ],
      "execution_count": 121,
      "outputs": [
        {
          "output_type": "display_data",
          "data": {
            "image/png": "[encoded data removed]",
            "text/plain": [
              "<Figure size 1008x720 with 10 Axes>"
            ]
          },
          "metadata": {
            "tags": []
          }
        }
      ]
    },
    {
      "cell_type": "markdown",
      "metadata": {
        "id": "dJol16-iMmaB"
      },
      "source": [
        "<details>\n",
        "<summary markdown='span'>View solution\n",
        "</summary>\n",
        "\n",
        "```python\n",
        "fig, axs = plt.subplots(nrows=2, ncols=5, figsize=(14, 10),\n",
        "                        subplot_kw={'xticks': [], 'yticks': []})\n",
        "\n",
        "for ax, i in zip(axs.flat, range(num_outputs)):\n",
        "    # Find a miss-classified image of class i\n",
        "    img_index = np.arange(len(y_test))[(y_test == i) & (y_pred_mlp != i)][0]\n",
        "    ax.imshow(x_test_continuous[img_index].reshape((28, 28)), cmap='Greys')\n",
        "    ax.set_title(f'Class {i} - Prediction {y_pred_mlp[img_index]}')\n",
        "\n",
        "plt.suptitle('Miss-classified samples with MLP')\n",
        "plt.tight_layout()\n",
        "plt.show()\n",
        "```"
      ]
    },
    {
      "cell_type": "markdown",
      "metadata": {
        "id": "RQrdzK6I3wyS"
      },
      "source": [
        "##Conclusion\n",
        "\n",
        "Well done, you've built your first Neural Network to classify handwritten digits and beat without tuning a Machine-Learning based approach !!\n"
      ]
    }
  ]
}