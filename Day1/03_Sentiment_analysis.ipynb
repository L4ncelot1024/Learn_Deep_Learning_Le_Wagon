{
  "nbformat": 4,
  "nbformat_minor": 0,
  "metadata": {
    "colab": {
      "name": "03-Sentiment-analysis.ipynb",
      "provenance": [],
      "collapsed_sections": [],
      "toc_visible": true,
      "include_colab_link": true
    },
    "kernelspec": {
      "display_name": "Python 3",
      "language": "python",
      "name": "python3"
    },
    "language_info": {
      "codemirror_mode": {
        "name": "ipython",
        "version": 3
      },
      "file_extension": ".py",
      "mimetype": "text/x-python",
      "name": "python",
      "nbconvert_exporter": "python",
      "pygments_lexer": "ipython3",
      "version": "3.7.0"
    },
    "accelerator": "GPU"
  },
  "cells": [
    {
      "cell_type": "markdown",
      "metadata": {
        "id": "view-in-github",
        "colab_type": "text"
      },
      "source": [
        "<a href=\"https://colab.research.google.com/github/L4ncelot1024/Learn_Deep_Learning_Le_Wagon/blob/main/Day1/03_Sentiment_analysis.ipynb\" target=\"_parent\"><img src=\"https://colab.research.google.com/assets/colab-badge.svg\" alt=\"Open In Colab\"/></a>"
      ]
    },
    {
      "cell_type": "markdown",
      "metadata": {
        "id": "6OO06xLD1oRz"
      },
      "source": [
        "# Sentiment Analysis"
      ]
    },
    {
      "cell_type": "markdown",
      "metadata": {
        "id": "cuW66mp_1oSB"
      },
      "source": [
        "## Introduction\n",
        "\n",
        "In this exercise, you will do text classification starting from raw text (as\n",
        "a set of text files on disk). You will apply this workflow on the IMDB sentiment\n",
        "classification dataset (unprocessed version) where the goal is to say if a review is positive or negative."
      ]
    },
    {
      "cell_type": "markdown",
      "metadata": {
        "id": "BYWNNK2W1oSC"
      },
      "source": [
        "## Setup"
      ]
    },
    {
      "cell_type": "code",
      "metadata": {
        "id": "NZCKZoke1oSD"
      },
      "source": [
        "import tensorflow as tf\n",
        "from tensorflow import keras\n",
        "import numpy as np\n",
        "import matplotlib.pyplot as plt"
      ],
      "execution_count": null,
      "outputs": []
    },
    {
      "cell_type": "markdown",
      "metadata": {
        "id": "lK6D2DVpvAsm"
      },
      "source": [
        "## Data Preparation"
      ]
    },
    {
      "cell_type": "markdown",
      "metadata": {
        "id": "oBIDWCBP8pvM"
      },
      "source": [
        "This first part is a good example of the beginning of any Deep Learning project: first we need to look at the data and prepare them ! \n",
        "\n",
        "Our data here are movie reviews written by users on the [imdb website](https://www.imdb.com/). We download them already labelled, the positive and negative ones are split in two different folders. \n",
        "\n",
        "But the data are not processed yet so we will use tensorflow to prepare the data."
      ]
    },
    {
      "cell_type": "markdown",
      "metadata": {
        "id": "DPm5yxQY1oSD"
      },
      "source": [
        "### Load the data: IMDB movie review sentiment classification\n",
        "\n",
        "Let's download the data and inspect its structure."
      ]
    },
    {
      "cell_type": "code",
      "metadata": {
        "id": "LsZMtVfD1oSE",
        "colab": {
          "base_uri": "https://localhost:8080/"
        },
        "outputId": "fa375d83-ba74-4547-d5e7-48cc64eaf1b9"
      },
      "source": [
        "!curl -O https://ai.stanford.edu/~amaas/data/sentiment/aclImdb_v1.tar.gz\n",
        "!tar -xf aclImdb_v1.tar.gz"
      ],
      "execution_count": null,
      "outputs": [
        {
          "output_type": "stream",
          "text": [
            "  % Total    % Received % Xferd  Average Speed   Time    Time     Time  Current\n",
            "                                 Dload  Upload   Total   Spent    Left  Speed\n",
            "100 80.2M  100 80.2M    0     0  22.0M      0  0:00:03  0:00:03 --:--:-- 22.0M\n"
          ],
          "name": "stdout"
        }
      ]
    },
    {
      "cell_type": "markdown",
      "metadata": {
        "id": "A76ylcK61oSE"
      },
      "source": [
        "The `aclImdb` folder contains a `train` and `test` subfolder. The following bash commands prints the content of the different folder"
      ]
    },
    {
      "cell_type": "code",
      "metadata": {
        "id": "zA_Q09Is1oSF",
        "colab": {
          "base_uri": "https://localhost:8080/"
        },
        "outputId": "061090e4-c3ba-49a5-915d-094e6aa77f22"
      },
      "source": [
        "!ls aclImdb"
      ],
      "execution_count": null,
      "outputs": [
        {
          "output_type": "stream",
          "text": [
            "imdbEr.txt  imdb.vocab\tREADME\ttest  train\n"
          ],
          "name": "stdout"
        }
      ]
    },
    {
      "cell_type": "code",
      "metadata": {
        "id": "rYxjwbnN1oSF",
        "colab": {
          "base_uri": "https://localhost:8080/"
        },
        "outputId": "e42bcae9-9d2e-4c1e-f4c9-0b68ae2150c7"
      },
      "source": [
        "!ls aclImdb/test"
      ],
      "execution_count": null,
      "outputs": [
        {
          "output_type": "stream",
          "text": [
            "labeledBow.feat  neg  pos  urls_neg.txt  urls_pos.txt\n"
          ],
          "name": "stdout"
        }
      ]
    },
    {
      "cell_type": "code",
      "metadata": {
        "id": "pD2ARRCm1oSG",
        "colab": {
          "base_uri": "https://localhost:8080/"
        },
        "outputId": "9fff73e8-25bd-4fe5-fcf2-9776e1a415e5"
      },
      "source": [
        "!ls aclImdb/train"
      ],
      "execution_count": null,
      "outputs": [
        {
          "output_type": "stream",
          "text": [
            "labeledBow.feat  pos\tunsupBow.feat  urls_pos.txt\n",
            "neg\t\t unsup\turls_neg.txt   urls_unsup.txt\n"
          ],
          "name": "stdout"
        }
      ]
    },
    {
      "cell_type": "markdown",
      "metadata": {
        "id": "Xh4osQqq1oSG"
      },
      "source": [
        "The `aclImdb/train/pos` and `aclImdb/train/neg` folders contain text files, each file represents one review (**positive** if in the *pos* folder or **negative** if in the *neg* folder). The following command display one example from each folder"
      ]
    },
    {
      "cell_type": "code",
      "metadata": {
        "id": "5pQW3Phy1oSH",
        "colab": {
          "base_uri": "https://localhost:8080/"
        },
        "outputId": "feddb6a1-0f07-41c1-8ecc-c7112fefdef9"
      },
      "source": [
        "!cat aclImdb/train/pos/6248_7.txt"
      ],
      "execution_count": null,
      "outputs": [
        {
          "output_type": "stream",
          "text": [
            "Being an Austrian myself this has been a straight knock in my face. Fortunately I don't live nowhere near the place where this movie takes place but unfortunately it portrays everything that the rest of Austria hates about Viennese people (or people close to that region). And it is very easy to read that this is exactly the directors intention: to let your head sink into your hands and say \"Oh my god, how can THAT be possible!\". No, not with me, the (in my opinion) totally exaggerated uncensored swinger club scene is not necessary, I watch porn, sure, but in this context I was rather disgusted than put in the right context.<br /><br />This movie tells a story about how misled people who suffer from lack of education or bad company try to survive and live in a world of redundancy and boring horizons. A girl who is treated like a whore by her super-jealous boyfriend (and still keeps coming back), a female teacher who discovers her masochism by putting the life of her super-cruel \"lover\" on the line, an old couple who has an almost mathematical daily cycle (she is the \"official replacement\" of his ex wife), a couple that has just divorced and has the ex husband suffer under the acts of his former wife obviously having a relationship with her masseuse and finally a crazy hitchhiker who asks her drivers the most unusual questions and stretches their nerves by just being super-annoying.<br /><br />After having seen it you feel almost nothing. You're not even shocked, sad, depressed or feel like doing anything... Maybe that's why I gave it 7 points, it made me react in a way I never reacted before. If that's good or bad is up to you!"
          ],
          "name": "stdout"
        }
      ]
    },
    {
      "cell_type": "code",
      "metadata": {
        "colab": {
          "base_uri": "https://localhost:8080/"
        },
        "id": "Iv2W-0Ur9sq8",
        "outputId": "775f5179-b71b-4ac1-e34a-23b1eac4f63b"
      },
      "source": [
        "!cat aclImdb/test/neg/62_2.txt"
      ],
      "execution_count": null,
      "outputs": [
        {
          "output_type": "stream",
          "text": [
            "Humm, an Italian movie starred by David hasselhoff and Linda Blair, I wasn´t expecting very much, to be honest and in fact, I took even less than I was expecting. It doesn´t mean this movie is the worst I have seen because I have watched worse things than this but the plot was most of the times confusing and uninteresting and some good gore scenes are the only thing saving this. Apart from that you are going to love some special effects, they are really cheesy and bad. Now I only want to watch \"Troll 3\" by this same director, sure it is not going to be worse than that."
          ],
          "name": "stdout"
        }
      ]
    },
    {
      "cell_type": "markdown",
      "metadata": {
        "id": "W6t56qxl1oSH"
      },
      "source": [
        "We are only interested in the `pos` and `neg` subfolders, so let's delete the rest:"
      ]
    },
    {
      "cell_type": "code",
      "metadata": {
        "id": "1Fe2rAFX1oSH"
      },
      "source": [
        "!rm -r aclImdb/train/unsup"
      ],
      "execution_count": null,
      "outputs": []
    },
    {
      "cell_type": "markdown",
      "metadata": {
        "id": "N4cx54EN1oSH"
      },
      "source": [
        "Now we would like to load our date from the files into the memory so we can feed them into our model. \n",
        "\n",
        "To do that, use the utility `tf.keras.preprocessing.text_dataset_from_directory` to\n",
        "generate a labeled `tf.data.Dataset` object from a set of text files on disk filed into class-specific folders. \n",
        "\n",
        "We will also split the data since this function already contains the logic to split a dataset into validation and test (using the two argument `validation_split` and `subset`).\n",
        "\n",
        "Your goal here is to use this function to generate the training, validation, and test datasets. \n",
        "\n",
        "The validation and training datasets are generated from two subsets of the `train` directory, with the following ratio: 80% in the training and 20% in the validation. The test dataset comes directly from the test folder. \n",
        "\n",
        "You can use a reasonable batch size (for instance `32`). \n",
        "\n",
        "Finishes with a print of the sizes of your 3 sets. \n",
        "\n",
        "NB: When using the `validation_split` & `subset` arguments, make sure to either specify a random seed, or to pass `shuffle=False`, so that the validation & training splits you get have no overlap."
      ]
    },
    {
      "cell_type": "code",
      "metadata": {
        "id": "6MFAtFrB3i49"
      },
      "source": [
        "# YOUR CODE HERE\n",
        "raw_train_ds = ...\n",
        "raw_val_ds = ...\n",
        "raw_test_ds = ..."
      ],
      "execution_count": null,
      "outputs": []
    },
    {
      "cell_type": "markdown",
      "metadata": {
        "id": "nlwLy-P_3_8v"
      },
      "source": [
        "\n",
        "<details>\n",
        "  <summary>View solution</summary>\n",
        "    \n",
        "```python\n",
        "batch_size = 32\n",
        "raw_train_ds = tf.keras.preprocessing.text_dataset_from_directory(\n",
        "    \"aclImdb/train\",\n",
        "    batch_size=batch_size,\n",
        "    validation_split=0.2,\n",
        "    subset=\"training\",\n",
        "    seed=1337,\n",
        ")\n",
        "raw_val_ds = tf.keras.preprocessing.text_dataset_from_directory(\n",
        "    \"aclImdb/train\",\n",
        "    batch_size=batch_size,\n",
        "    validation_split=0.2,\n",
        "    subset=\"validation\",\n",
        "    seed=1337,\n",
        ")\n",
        "raw_test_ds = tf.keras.preprocessing.text_dataset_from_directory(\n",
        "    \"aclImdb/test\", batch_size=batch_size\n",
        ")\n",
        "\n",
        "print(\n",
        "    \"Number of batches in raw_train_ds: %d\"\n",
        "    % tf.data.experimental.cardinality(raw_train_ds)\n",
        ")\n",
        "print(\n",
        "    \"Number of batches in raw_val_ds: %d\" % tf.data.experimental.cardinality(raw_val_ds)\n",
        ")\n",
        "print(\n",
        "    \"Number of batches in raw_test_ds: %d\"\n",
        "    % tf.data.experimental.cardinality(raw_test_ds)\n",
        ")\n",
        "```\n",
        "</details>\n",
        "\n"
      ]
    },
    {
      "cell_type": "markdown",
      "metadata": {
        "id": "ZuUqlAKk1oSI"
      },
      "source": [
        "Let's preview a few samples:"
      ]
    },
    {
      "cell_type": "code",
      "metadata": {
        "id": "uLxw0HlU1oSJ",
        "colab": {
          "base_uri": "https://localhost:8080/"
        },
        "outputId": "ca429c1d-b10d-45bc-c3dc-fa99fcb97601"
      },
      "source": [
        "# It's important to take a look at your raw data to ensure your normalization\n",
        "# and tokenization will work as expected. We can do that by taking a few\n",
        "# examples from the training set and looking at them.\n",
        "# This is one of the places where eager execution shines:\n",
        "# we can just evaluate these tensors using .numpy()\n",
        "# instead of needing to evaluate them in a Session/Graph context.\n",
        "for text_batch, label_batch in raw_train_ds.take(1):\n",
        "    for i in range(5):\n",
        "        print(text_batch.numpy()[i])\n",
        "        print(label_batch.numpy()[i])"
      ],
      "execution_count": null,
      "outputs": [
        {
          "output_type": "stream",
          "text": [
            "b\"I gave this a four purely out of its historical context. It was considered lost for many years until it popped up out of the blue on Showtime in the early nineties.<br /><br />Moe is the straight man and Larry and Curly act as a duo. Spade Cooley has a couple of numbers. I guess it had something to do with working on a ranch. I'm not quite sure because the plot was so minimal nothing really sticks in my memory. I vaguely remember it being a western musical comedy. Even the Stooge's seem to be going through the motions. Overall there's nothing much really to recommend here.<br /><br />If you're not a Stooge fan then don't bother. If you are a Stooge fan, then stick with the shorts.\"\n",
            "0\n",
            "b'First than anything, I\\'m not going to praise I\\xc3\\xb1arritu\\'s short film, even I\\'m Mexican and proud of his success in mainstream Hollywood.<br /><br />In another hand, I see most of the reviews focuses on their favorite (and not so) short films; but we are forgetting that there is a subtle bottom line that circles the whole compilation, and maybe it will not be so pleasant for American people. (Even if that was not the main purpose of the producers) <br /><br />What i\\'m talking about is that most of the short films does not show the suffering that WASP people went through because the terrorist attack on September 11th, but the suffering of the Other people.<br /><br />Do you need proofs about what i\\'m saying? Look, in the Bosnia short film, the message is: \"You cry because of the people who died in the Towers, but we (The Others = East Europeans) are crying long ago for the crimes committed against our women and nobody pay attention to us like the whole world has done to you\".<br /><br />Even though the Burkina Fasso story is more in comedy, there is a the same thought: \"You are angry because Osama Bin Laden punched you in an evil way, but we (The Others = Africans) should be more angry, because our people is dying of hunger, poverty and AIDS long time ago, and nobody pay attention to us like the whole world has done to you\".<br /><br />Look now at the Sean Penn short: The fall of the Twin Towers makes happy to a lonely (and alienated) man. So the message is that the Power and the Greed (symbolized by the Towers) must fall for letting the people see the sun rise and the flowers blossom? It is remarkable that this terrible bottom line has been proposed by an American. There is so much irony in this short film that it is close to be subversive.<br /><br />Well, the Ken Loach (very know because his anti-capitalism ideology) is much more clearly and shameless in going straight to the point: \"You are angry because your country has been attacked by evil forces, but we (The Others = Latin Americans) suffered at a similar date something worst, and nobody remembers our grief as the whole world has done to you\".<br /><br />It is like if the creative of this project wanted to say to Americans: \"You see now, America? You are not the only that have become victim of the world violence, you are not alone in your pain and by the way, we (the Others = the Non Americans) have been suffering a lot more than you from long time ago; so, we are in solidarity with you in your pain... and by the way, we are sorry because you have had some taste of your own medicine\" Only the Mexican and the French short films showed some compassion and sympathy for American people; the others are like a slap on the face for the American State, that is not equal to American People.'\n",
            "1\n",
            "b'Blood Castle (aka Scream of the Demon Lover, Altar of Blood, Ivanna--the best, but least exploitation cinema-sounding title, and so on) is a very traditional Gothic Romance film. That means that it has big, creepy castles, a headstrong young woman, a mysterious older man, hints of horror and the supernatural, and romance elements in the contemporary sense of that genre term. It also means that it is very deliberately paced, and that the film will work best for horror mavens who are big fans of understatement. If you love films like Robert Wise\\'s The Haunting (1963), but you also have a taste for late 1960s/early 1970s Spanish and Italian horror, you may love Blood Castle, as well.<br /><br />Baron Janos Dalmar (Carlos Quiney) lives in a large castle on the outskirts of a traditional, unspecified European village. The locals fear him because legend has it that whenever he beds a woman, she soon after ends up dead--the consensus is that he sets his ferocious dogs on them. This is quite a problem because the Baron has a very healthy appetite for women. At the beginning of the film, yet another woman has turned up dead and mutilated.<br /><br />Meanwhile, Dr. Ivanna Rakowsky (Erna Sch\\xc3\\xbcrer) has appeared in the center of the village, asking to be taken to Baron Dalmar\\'s castle. She\\'s an out-of-towner who has been hired by the Baron for her expertise in chemistry. Of course, no one wants to go near the castle. Finally, Ivanna finds a shady individual (who becomes even shadier) to take her. Once there, an odd woman who lives in the castle, Olga (Cristiana Galloni), rejects Ivanna and says that she shouldn\\'t be there since she\\'s a woman. Baron Dalmar vacillates over whether she should stay. She ends up staying, but somewhat reluctantly. The Baron has hired her to try to reverse the effects of severe burns, which the Baron\\'s brother, Igor, is suffering from.<br /><br />Unfortunately, the Baron\\'s brother appears to be just a lump of decomposing flesh in a vat of bizarre, blackish liquid. And furthermore, Ivanna is having bizarre, hallucinatory dreams. Just what is going on at the castle? Is the Baron responsible for the crimes? Is he insane? <br /><br />I wanted to like Blood Castle more than I did. As I mentioned, the film is very deliberate in its pacing, and most of it is very understated. I can go either way on material like that. I don\\'t care for The Haunting (yes, I\\'m in a very small minority there), but I\\'m a big fan of 1960s and 1970s European horror. One of my favorite directors is Mario Bava. I also love Dario Argento\\'s work from that period. But occasionally, Blood Castle moved a bit too slow for me at times. There are large chunks that amount to scenes of not very exciting talking alternated with scenes of Ivanna slowly walking the corridors of the castle.<br /><br />But the atmosphere of the film is decent. Director Jos\\xc3\\xa9 Luis Merino managed more than passable sets and locations, and they\\'re shot fairly well by Emanuele Di Cola. However, Blood Castle feels relatively low budget, and this is a Roger Corman-produced film, after all (which usually means a low-budget, though often surprisingly high quality \"quickie\"). So while there is a hint of the lushness of Bava\\'s colors and complex set decoration, everything is much more minimalist. Of course, it doesn\\'t help that the Retromedia print I watched looks like a 30-year old photograph that\\'s been left out in the sun too long. It appears \"washed out\", with compromised contrast.<br /><br />Still, Merino and Di Cola occasionally set up fantastic visuals. For example, a scene of Ivanna walking in a darkened hallway that\\'s shot from an exaggerated angle, and where an important plot element is revealed through shadows on a wall only. There are also a couple Ingmar Bergmanesque shots, where actors are exquisitely blocked to imply complex relationships, besides just being visually attractive and pulling your eye deep into the frame.<br /><br />The performances are fairly good, and the women--especially Sch\\xc3\\xbcrer--are very attractive. Merino exploits this fact by incorporating a decent amount of nudity. Sch\\xc3\\xbcrer went on to do a number of films that were as much soft corn porn as they were other genres, with English titles such as Sex Life in a Woman\\'s Prison (1974), Naked and Lustful (1974), Strip Nude for Your Killer (1975) and Erotic Exploits of a Sexy Seducer (1977). Blood Castle is much tamer, but in addition to the nudity, there are still mild scenes suggesting rape and bondage, and of course the scenes mixing sex and death.<br /><br />The primary attraction here, though, is probably the story, which is much a slow-burning romance as anything else. The horror elements, the mystery elements, and a somewhat unexpected twist near the end are bonuses, but in the end, Blood Castle is a love story, about a couple overcoming various difficulties and antagonisms (often with physical threats or harms) to be together.'\n",
            "1\n",
            "b\"Halloween is one of the best examples of independent film. It's very well made and has more psychological elements to it than you might realize at first glance. It is a simple movie told very well. The music is perfect and is one of the most haunting scores... If you haven't seen this movie yet, you must check it out. The cast is all terrific. I wish they had never made sequel after sequel. The first one was by far the best and should have ended like it did without having a sequel. It was fun to see Jamie Lee Curtis in the movie. She hasn't seemed to age (she's just as gorgeous today, without the hairdo and seventies clothes). The scenes through the mask are one of the scariest things ever!\"\n",
            "1\n",
            "b\"Michelle Rodriguez is the defining actress who could be the charging force for other actresses to look out for. She has the audacity to place herself in a rarely seen tough-girl role very early in her career (and pull it off), which is a feat that should be recognized. Although her later films pigeonhole her to that same role, this film was made for her ruggedness.<br /><br />Her character is a romanticized student/fighter/lover, struggling to overcome her disenchanted existence in the projects, which is a little overdone in film...but not by a girl. That aspect of this film isn't very original, but the story goes in depth when the heated relationships that this girl has to deal with come to a boil and her primal rage takes over.<br /><br />I haven't seen an actress take such an aggressive stance in movie-making yet, and I'm glad that she's getting that original twist out there in Hollywood. This film got a 7 from me because of the average story of ghetto youth, but it has such a great actress portraying a rarely-seen role in a minimal budget movie. Great work.\"\n",
            "1\n"
          ],
          "name": "stdout"
        }
      ]
    },
    {
      "cell_type": "markdown",
      "metadata": {
        "id": "-Yt90kfX_bSi"
      },
      "source": [
        "Important: Your dataset is not prepared yet, you just explained how to load it !"
      ]
    },
    {
      "cell_type": "markdown",
      "metadata": {
        "id": "s3PxW6I71oSJ"
      },
      "source": [
        "### Prepare the data\n",
        "\n",
        "From above, you see there are some noise in the data, for instance the `<br />` tags. So we want to remove them !"
      ]
    },
    {
      "cell_type": "markdown",
      "metadata": {
        "id": "NsrTEWZl42dw"
      },
      "source": [
        "Having looked at our data above, we see that the raw text contains HTML break\n",
        "tags of the form `<br />`. \n",
        "\n",
        "These tags will not be removed by the default standardizer (which doesn't strip HTML). Because of this, we will need to create a custom standardization function.\n",
        "\n",
        "Write a function `custom_standardisation` which take text as input, removes the tags of the form  `<br />` and proceeds to tradional standardisation: lowering caracters, removing punctuation. \n",
        "\n",
        "We recommend using the internal tensorflow methods inside `tf.strings`: `tf.strings.lower`, `tf.strings.regex_replace`, `string/punctuation`"
      ]
    },
    {
      "cell_type": "code",
      "metadata": {
        "id": "DsPY1TX2590M"
      },
      "source": [
        "import string\n",
        "import re\n",
        "\n",
        "def custom_standardization(input_data):\n",
        "  # YOUR CODE HERE\n",
        "  return input_data"
      ],
      "execution_count": null,
      "outputs": []
    },
    {
      "cell_type": "markdown",
      "metadata": {
        "id": "cbz59ACr5ul-"
      },
      "source": [
        "<details>\n",
        "  <summary>View solution</summary>\n",
        "    \n",
        "```python\n",
        "def custom_standardization(input_data):\n",
        "    lowercase = tf.strings.lower(input_data)\n",
        "    stripped_html = tf.strings.regex_replace(lowercase, \"<br />\", \" \")\n",
        "    return tf.strings.regex_replace(\n",
        "        stripped_html, \"[%s]\" % re.escape(string.punctuation), \"\"\n",
        "    )\n",
        "```\n",
        "</details>\n",
        "\n"
      ]
    },
    {
      "cell_type": "markdown",
      "metadata": {
        "id": "pu4rOFoN6L1E"
      },
      "source": [
        "Now we will use this function in a vectoriation workflow using `TextVectorization`. This helper will normalize, split, and map strings to integers. \n",
        "\n",
        "We suggest default values for the model constants."
      ]
    },
    {
      "cell_type": "code",
      "metadata": {
        "id": "nCLnGpak4kHS"
      },
      "source": [
        "from tensorflow.keras.layers.experimental.preprocessing import TextVectorization\n",
        "\n",
        "# Model constants.\n",
        "max_features = 20000\n",
        "sequence_length = 80\n",
        "\n",
        "# YOUR CODE HERE\n",
        "vectorize_layer = ..."
      ],
      "execution_count": null,
      "outputs": []
    },
    {
      "cell_type": "markdown",
      "metadata": {
        "id": "Yj3lioWq6-P1"
      },
      "source": [
        "<details>\n",
        "  <summary>Hint</summary>\n",
        "    \n",
        "```markdown\n",
        "Have  loot at the documentation [TextVectorization](https://www.tensorflow.org/api_docs/python/tf/keras/layers/experimental/preprocessing/TextVectorization)\n",
        "```\n",
        "    \n",
        "</details>\n",
        "​\n",
        "<details>\n",
        "  <summary>View solution</summary>\n",
        "    \n",
        "```python\n",
        "vectorize_layer = TextVectorization(\n",
        "    standardize=custom_standardization,\n",
        "    max_tokens=max_features,\n",
        "    output_mode=\"int\",\n",
        "    output_sequence_length=sequence_length,\n",
        ")\n",
        "\n",
        "```\n",
        "</details>"
      ]
    },
    {
      "cell_type": "code",
      "metadata": {
        "id": "MRgOFrhM7Lig"
      },
      "source": [
        "# Now that the vocab layer has been created, call `adapt` on a text-only\n",
        "# dataset to create the vocabulary. You don't have to batch, but for very large\n",
        "# datasets this means you're not keeping spare copies of the dataset in memory.\n",
        "\n",
        "# Let's make a text-only dataset (no labels):\n",
        "text_ds = raw_train_ds.map(lambda x, y: x)\n",
        "# Let's call `adapt`:\n",
        "vectorize_layer.adapt(text_ds)"
      ],
      "execution_count": null,
      "outputs": []
    },
    {
      "cell_type": "markdown",
      "metadata": {
        "id": "p4Sh0sif1oSK"
      },
      "source": [
        "### Two options to vectorize the data\n",
        "\n",
        "There are 2 ways we can use our text vectorization layer:\n",
        "\n",
        "**Option 1: Make it part of the model**, so as to obtain a model that processes raw\n",
        " strings, like this:\n",
        "\n",
        "```python\n",
        "text_input = tf.keras.Input(shape=(1,), dtype=tf.string, name='text')\n",
        "x = vectorize_layer(text_input)\n",
        "x = layers.Embedding(max_features + 1, embedding_dim)(x)\n",
        "...\n",
        "```"
      ]
    },
    {
      "cell_type": "markdown",
      "metadata": {
        "id": "R0PMhGOE1oSK"
      },
      "source": [
        "**Option 2: Apply it to the text dataset** to obtain a dataset of word indices, then\n",
        " feed it into a model that expects integer sequences as inputs.\n",
        "\n",
        "An important difference between the two methods is that  option 2 enables you to do\n",
        "**asynchronous CPU processing and buffering** of your data when training your model on the graphical processing unit, a.k.a GPU (this is the hardware on which a neural network is trained). This is the case since you run first your pre-processing on all the data and then train your model, so the first step can occur on the CPU, where it will be more efficient.\n",
        "\n",
        "\n",
        "Here since we're training the model on GPU, we want to go with this 2nd option to get the best performance. This is what we will do below.\n",
        "\n",
        "If we were to export our model to production, we'd ship a model that accepts raw\n",
        "strings as input so we would use the first option. But we can actually recover this first option from a model trained with the second one. We do this in the last section."
      ]
    },
    {
      "cell_type": "markdown",
      "metadata": {
        "id": "Ed1qtC_bCN5f"
      },
      "source": [
        "Write a function you will apply to your 3 datasets (`raw_train_ds`, `raw_val_ds` and `raw_test_ds`) to vectorize them. Recall that each dataset contains tuple of `(text, label)`"
      ]
    },
    {
      "cell_type": "code",
      "metadata": {
        "id": "KuTQBZqUCvU0"
      },
      "source": [
        "# This function should return 2 elements: the text vectorized and the label\n",
        "def vectorize_text(text, label):\n",
        "    # YOUR CODE HERE\n",
        "    pass\n",
        "\n",
        "\n",
        "# Vectorize the data.\n",
        "train_ds = raw_train_ds.map(vectorize_text)\n",
        "val_ds = raw_val_ds.map(vectorize_text)\n",
        "test_ds = raw_test_ds.map(vectorize_text)\n",
        "\n"
      ],
      "execution_count": null,
      "outputs": []
    },
    {
      "cell_type": "markdown",
      "metadata": {
        "id": "kImaPJuXCzef"
      },
      "source": [
        "\n",
        "<details>\n",
        "  <summary>View solution</summary>\n",
        "    \n",
        "```python\n",
        "def vectorize_text(text, label):\n",
        "    text = tf.expand_dims(text, -1)\n",
        "    return vectorize_layer(text), label\n",
        "\n",
        "```\n",
        "</details>"
      ]
    },
    {
      "cell_type": "code",
      "metadata": {
        "id": "d2wmmYEjCIAo"
      },
      "source": [
        "# Do async prefetching / buffering of the data for best performance on GPU.\n",
        "train_ds = train_ds.cache().prefetch(buffer_size=10)\n",
        "val_ds = val_ds.cache().prefetch(buffer_size=10)\n",
        "test_ds = test_ds.cache().prefetch(buffer_size=10)"
      ],
      "execution_count": null,
      "outputs": []
    },
    {
      "cell_type": "code",
      "metadata": {
        "colab": {
          "base_uri": "https://localhost:8080/"
        },
        "id": "IGFyHuA_Lqtc",
        "outputId": "4e4f5fa3-3ca2-4b76-9a97-0aef547df97f"
      },
      "source": [
        "for text_batch, label_batch in train_ds.take(1):\n",
        "      print(text_batch.numpy()[0])\n",
        "      print(label_batch.numpy()[0])"
      ],
      "execution_count": null,
      "outputs": [
        {
          "output_type": "stream",
          "text": [
            "[  100     2     1     3  5111  6110   303     2  2340  1855 17105     8\n",
            "     2   783     5  5161    11   179    72  2135   145  2340  1855  2442\n",
            "    30    12   209   234   143    67     2    60   106    12   801    69\n",
            " 14710     8     3   234  1050     2   144 19022   852     2     1   328\n",
            "   452    52  2343     6    69    11  5450     3   632  2747     8    20\n",
            "  2340     1    11    60  3775     6  2340  1855   244     8  5954    15\n",
            "    12    28   339    60    15    28     3    60]\n",
            "1\n"
          ],
          "name": "stdout"
        }
      ]
    },
    {
      "cell_type": "markdown",
      "metadata": {
        "id": "AK0anF0uvHG4"
      },
      "source": [
        "## Model"
      ]
    },
    {
      "cell_type": "markdown",
      "metadata": {
        "id": "-tEvH3JZ1oSL"
      },
      "source": [
        "## Architecture\n",
        "\n",
        "First, we choose a very simple architecture for our baseline model:\n",
        "- `Embedding` layer to create embedding for our entries;\n",
        "- 1 `LSTM` layer;\n",
        "- 1 `Dense` layer for the final prediction.\n",
        "\n",
        "We will use the `adam` optimizer. The task is to classify our entries between two classes, what should be the size of the final `Dense` layer and which loss will you use?\n",
        "\n",
        "Then you can try out more advanced architectures at the end!"
      ]
    },
    {
      "cell_type": "code",
      "metadata": {
        "id": "jiQIFqeXEJ8F"
      },
      "source": [
        "from tensorflow.keras import layers\n",
        "from keras.models import Sequential\n",
        "from keras.layers import Dense, Embedding, LSTM, Dropout\n",
        "\n",
        "\n",
        "def build_baseline_model(embedding_dim = 128):\n",
        "  model = Sequential()\n",
        "\n",
        "  # YOUR CODE HERE\n",
        "  # add your layers\n",
        "  model.add(...)\n",
        "\n",
        "  # YOUR CODE HERE\n",
        "  # Compile the model \n",
        "  model.compile(...)\n",
        "  return model\n"
      ],
      "execution_count": null,
      "outputs": []
    },
    {
      "cell_type": "markdown",
      "metadata": {
        "id": "65VRrmmazW43"
      },
      "source": [
        "\n",
        "<details>\n",
        "  <summary>View solution</summary>\n",
        "    \n",
        "```python\n",
        "def build_baseline_model(embedding_dim=32, conv_dim=128, num_filters=7):\n",
        "  model = Sequential()\n",
        "\n",
        "  # Next, we add a layer to map those vocab indices into a space of dimensionality\n",
        "  # 'embedding_dim'.\n",
        "  model.add(Embedding(max_features, embedding_dim))\n",
        "  model.add(LSTM(128, dropout=0.2))\n",
        "  model.add(Dense(1, activation=\"sigmoid\"))\n",
        "\n",
        "  # Compile the model with binary crossentropy loss and an adam optimizer.\n",
        "  model.compile(loss=\"binary_crossentropy\", optimizer=\"adam\", metrics=[\"accuracy\"])\n",
        "\n",
        "  return model\n",
        "```\n",
        "</details>"
      ]
    },
    {
      "cell_type": "markdown",
      "metadata": {
        "id": "F59JWbAO1oSL"
      },
      "source": [
        "## Train the model"
      ]
    },
    {
      "cell_type": "code",
      "metadata": {
        "id": "rceSKY131oSM",
        "colab": {
          "base_uri": "https://localhost:8080/"
        },
        "outputId": "c6e31905-785c-4518-f815-d3bc7a8db625"
      },
      "source": [
        "epochs = 9\n",
        "\n",
        "model = build_baseline_model()\n",
        "# Fit the model using the train and test datasets.\n",
        "history = model.fit(train_ds, validation_data=val_ds, epochs=epochs)"
      ],
      "execution_count": null,
      "outputs": [
        {
          "output_type": "stream",
          "text": [
            "Epoch 1/9\n",
            "157/157 [==============================] - 4s 18ms/step - loss: 0.6509 - accuracy: 0.5793 - val_loss: 0.4306 - val_accuracy: 0.8114\n",
            "Epoch 2/9\n",
            "157/157 [==============================] - 2s 15ms/step - loss: 0.3727 - accuracy: 0.8424 - val_loss: 0.4238 - val_accuracy: 0.8228\n",
            "Epoch 3/9\n",
            "157/157 [==============================] - 2s 15ms/step - loss: 0.2613 - accuracy: 0.9009 - val_loss: 0.4937 - val_accuracy: 0.8200\n",
            "Epoch 4/9\n",
            "157/157 [==============================] - 2s 15ms/step - loss: 0.2005 - accuracy: 0.9321 - val_loss: 0.5870 - val_accuracy: 0.7874\n",
            "Epoch 5/9\n",
            "157/157 [==============================] - 2s 14ms/step - loss: 0.1791 - accuracy: 0.9381 - val_loss: 0.5050 - val_accuracy: 0.8028\n",
            "Epoch 6/9\n",
            "157/157 [==============================] - 2s 15ms/step - loss: 0.1688 - accuracy: 0.9405 - val_loss: 0.7473 - val_accuracy: 0.7860\n",
            "Epoch 7/9\n",
            "157/157 [==============================] - 2s 15ms/step - loss: 0.1672 - accuracy: 0.9372 - val_loss: 0.5483 - val_accuracy: 0.7908\n",
            "Epoch 8/9\n",
            "157/157 [==============================] - 2s 15ms/step - loss: 0.1233 - accuracy: 0.9589 - val_loss: 0.6298 - val_accuracy: 0.7980\n",
            "Epoch 9/9\n",
            "157/157 [==============================] - 2s 15ms/step - loss: 0.0989 - accuracy: 0.9667 - val_loss: 0.7966 - val_accuracy: 0.7824\n"
          ],
          "name": "stdout"
        }
      ]
    },
    {
      "cell_type": "markdown",
      "metadata": {
        "id": "3HjuY0b91oSM"
      },
      "source": [
        "## Evaluate the model on the test set"
      ]
    },
    {
      "cell_type": "code",
      "metadata": {
        "id": "EEeKDGk3vnSO"
      },
      "source": [
        "def plot_history(history):\n",
        "    plt.plot(history.history['accuracy'], label='train')\n",
        "    plt.plot(history.history['val_accuracy'], label='validation')\n",
        "    plt.legend()\n",
        "    plt.show()"
      ],
      "execution_count": null,
      "outputs": []
    },
    {
      "cell_type": "code",
      "metadata": {
        "colab": {
          "base_uri": "https://localhost:8080/",
          "height": 265
        },
        "id": "FUmksMuIqhNg",
        "outputId": "9ffd0f9e-7bbd-46d4-ba66-7ea2fa714ff9"
      },
      "source": [
        "# Plot history\n",
        "plot_history(history)"
      ],
      "execution_count": null,
      "outputs": [
        {
          "output_type": "display_data",
          "data": {
            "image/png": "[encoded data removed]",
            "text/plain": [
              "<Figure size 432x288 with 1 Axes>"
            ]
          },
          "metadata": {
            "tags": [],
            "needs_background": "light"
          }
        }
      ]
    },
    {
      "cell_type": "markdown",
      "metadata": {
        "id": "ld6eBpRTv6vr"
      },
      "source": [
        "Apply your model on your test dataset and evaluate its predictions."
      ]
    },
    {
      "cell_type": "code",
      "metadata": {
        "id": "M_enDofC1oSO",
        "colab": {
          "base_uri": "https://localhost:8080/"
        },
        "outputId": "e1274863-148c-44ca-9a3e-05d380829000"
      },
      "source": [
        "evaluations = model.evaluate(test_ds)\n",
        "test_evaluations = {name: value for value, name in zip(evaluations, model.metrics_names)}\n",
        "print(test_evaluations)"
      ],
      "execution_count": null,
      "outputs": [
        {
          "output_type": "stream",
          "text": [
            "196/196 [==============================] - 1s 5ms/step - loss: 0.9089 - accuracy: 0.7532\n",
            "{'loss': 0.9089375138282776, 'accuracy': 0.7531999945640564}\n"
          ],
          "name": "stdout"
        }
      ]
    },
    {
      "cell_type": "markdown",
      "metadata": {
        "id": "L4WFibkSv_zH"
      },
      "source": [
        "<details>\n",
        "  <summary>Hint</summary>\n",
        "    \n",
        "```markdown\n",
        "Check the `model.evaluate` function documentation (how could you retrieve the name of the float returned?)\n",
        "```\n",
        "    \n",
        "</details>\n",
        "​\n",
        "<details>\n",
        "  <summary>View solution</summary>\n",
        "    \n",
        "```python\n",
        "evaluations = model.evaluate(test_ds)\n",
        "test_evaluations = {name: value for value, name in zip(evaluations, model.metrics_names)}\n",
        "print(test_evaluations)\n",
        "\n",
        "```\n",
        "</details>"
      ]
    },
    {
      "cell_type": "markdown",
      "metadata": {
        "id": "OrdU5KvF1oSO"
      },
      "source": [
        "## Make an end-to-end model\n",
        "\n",
        "If you want to obtain a model capable of processing raw strings, you can simply\n",
        "create a new model, using the baseline you just defined and adding as a first step the vectorize layer. You can again do that with the Keras `Sequential` API"
      ]
    },
    {
      "cell_type": "code",
      "metadata": {
        "id": "2GLnYJsW1oSO",
        "colab": {
          "base_uri": "https://localhost:8080/"
        },
        "outputId": "968d144a-a671-4369-de21-b9a3d0bfdd45"
      },
      "source": [
        "end2end_model = ...\n",
        "\n",
        "# Test it with `raw_test_ds`, which yields raw strings\n",
        "end_to_end_model.evaluate(raw_test_ds)"
      ],
      "execution_count": null,
      "outputs": [
        {
          "output_type": "stream",
          "text": [
            "196/196 [==============================] - 9s 41ms/step - loss: 0.9130 - accuracy: 0.7528\n"
          ],
          "name": "stdout"
        },
        {
          "output_type": "execute_result",
          "data": {
            "text/plain": [
              "[0.9089372754096985, 0.7531999945640564]"
            ]
          },
          "metadata": {
            "tags": []
          },
          "execution_count": 110
        }
      ]
    },
    {
      "cell_type": "markdown",
      "metadata": {
        "id": "xwYyBRVyw9ld"
      },
      "source": [
        "<details>\n",
        "  <summary>View solution</summary>\n",
        "    \n",
        "```python\n",
        "end2end_model = tf.keras.models.Sequential()\n",
        "# A string input\n",
        "end2end_model.add(tf.keras.Input(shape=(1,), dtype=\"string\"))\n",
        "# Turn strings into vocab indices\n",
        "end2end_model.add(vectorize_layer)\n",
        "end2end_model.add(model)\n",
        "\n",
        "end_to_end_model.compile(\n",
        "    loss=\"binary_crossentropy\", optimizer=\"adam\", metrics=[\"accuracy\"]\n",
        ")\n",
        "\n",
        "# Test it with `raw_test_ds`, which yields raw strings\n",
        "end_to_end_model.evaluate(raw_test_ds)\n",
        "\n",
        "```\n",
        "</details>"
      ]
    },
    {
      "cell_type": "markdown",
      "metadata": {
        "id": "ox8sDbBCxJ-P"
      },
      "source": [
        "You can now apply this model on any input, so give it a try !"
      ]
    },
    {
      "cell_type": "code",
      "metadata": {
        "id": "aVI0UB2frJTE"
      },
      "source": [
        "# Create your own input\n",
        "my_input_good = \"I liked very much this movie\"\n",
        "my_input_good_2 = \"This movie is not very bad though.\"\n",
        "my_input_good_3 = \"I fall asleep\"\n",
        "my_input_bad = \"This movie is terribly bad\"\n",
        "\n",
        "# You just need to convert your string into a tensor\n",
        "# YOUR CODE HERE\n",
        "text_input = ...\n",
        "end_to_end_model.predict(text_input)"
      ],
      "execution_count": null,
      "outputs": []
    },
    {
      "cell_type": "markdown",
      "metadata": {
        "id": "mxBZRJCcxSjp"
      },
      "source": [
        "<details>\n",
        "  <summary>View solution</summary>\n",
        "    \n",
        "```python\n",
        "text_input = tf.convert_to_tensor([my_input_good, my_input_good_2, my_input_good_3, my_input_bad], dtype=tf.string)\n",
        "```\n",
        "</details>"
      ]
    },
    {
      "cell_type": "markdown",
      "metadata": {
        "id": "W2Hbt43LFLPz"
      },
      "source": [
        "## Try out more complex architectures !"
      ]
    },
    {
      "cell_type": "markdown",
      "metadata": {
        "id": "OWX9w89du4VD"
      },
      "source": [
        "### Bi-LSTM"
      ]
    },
    {
      "cell_type": "markdown",
      "metadata": {
        "id": "vv4bAEdDyMJs"
      },
      "source": [
        "Here we suggest the following architecture:\n",
        "- `Embedding` layer to create embedding for our entries;\n",
        "- 1 or several `Bidirectional` layers (if multiple you need the first one to be a many-to-many one !)\n",
        "- 1 Dense layer to add more complexity;\n",
        "- 1 Dense layer for the outputs."
      ]
    },
    {
      "cell_type": "code",
      "metadata": {
        "id": "NjpO7DkMyLee"
      },
      "source": [
        "from keras.layers import Bidirectional\n",
        "\n",
        "def build_bi_lstm_model(embedding_dim=128, dense_dim=128):\n",
        "  # YOUR CODE HERE\n",
        "  return model"
      ],
      "execution_count": null,
      "outputs": []
    },
    {
      "cell_type": "markdown",
      "metadata": {
        "id": "v1yc6fgPytSS"
      },
      "source": [
        "<details>\n",
        "  <summary>View solution</summary>\n",
        "    \n",
        "```python\n",
        "def build_bi_lstm_model(embedding_dim=128, dense_dim=128):\n",
        "  # A integer input for vocab indices.\n",
        "  model = Sequential()\n",
        "\n",
        "  # Next, we add a layer to map those vocab indices into a space of dimensionality\n",
        "  # 'embedding_dim'.\n",
        "  model.add(Embedding(max_features, embedding_dim))\n",
        "  model.add(Dropout(0.5))\n",
        "\n",
        "  # Conv1D + global max pooling\n",
        "  model.add(Bidirectional(layers.LSTM(64, return_sequences=True)))\n",
        "  model.add(Bidirectional(layers.LSTM(64)))\n",
        "\n",
        "  # We add a vanilla hidden layer:\n",
        "  model.add(Dense(dense_dim, activation=\"relu\"))\n",
        "  model.add(Dropout(0.5))\n",
        "\n",
        "  # We project onto a single unit output layer, and squash it with a sigmoid:\n",
        "  model.add(Dense(1, activation=\"sigmoid\", name=\"predictions\"))\n",
        "\n",
        "  # Compile the model with binary crossentropy loss and an adam optimizer.\n",
        "  model.compile(loss=\"binary_crossentropy\", optimizer=\"adam\", metrics=[\"accuracy\"])\n",
        "\n",
        "  return model\n",
        "```\n",
        "</details>"
      ]
    },
    {
      "cell_type": "code",
      "metadata": {
        "colab": {
          "base_uri": "https://localhost:8080/"
        },
        "id": "99W-_t4_ymEF",
        "outputId": "99c139f4-115d-4139-ad20-372e5f62cc3b"
      },
      "source": [
        "epochs = 9\n",
        "\n",
        "bi_lstm_model = build_bi_lstm_model()\n",
        "# Fit the model using the train and test datasets.\n",
        "bi_lstm_history = bi_lstm_model.fit(train_ds, validation_data=val_ds, epochs=epochs)"
      ],
      "execution_count": null,
      "outputs": [
        {
          "output_type": "stream",
          "text": [
            "Epoch 1/9\n",
            "157/157 [==============================] - 14s 57ms/step - loss: 0.6162 - accuracy: 0.6141 - val_loss: 0.3937 - val_accuracy: 0.8246\n",
            "Epoch 2/9\n",
            "157/157 [==============================] - 7s 46ms/step - loss: 0.3526 - accuracy: 0.8475 - val_loss: 0.4185 - val_accuracy: 0.8196\n",
            "Epoch 3/9\n",
            "157/157 [==============================] - 7s 45ms/step - loss: 0.2469 - accuracy: 0.9029 - val_loss: 0.4731 - val_accuracy: 0.8054\n",
            "Epoch 4/9\n",
            "157/157 [==============================] - 7s 45ms/step - loss: 0.1725 - accuracy: 0.9358 - val_loss: 0.5011 - val_accuracy: 0.8052\n",
            "Epoch 5/9\n",
            "157/157 [==============================] - 7s 45ms/step - loss: 0.1241 - accuracy: 0.9548 - val_loss: 0.7450 - val_accuracy: 0.7734\n",
            "Epoch 6/9\n",
            "157/157 [==============================] - 7s 46ms/step - loss: 0.0977 - accuracy: 0.9640 - val_loss: 0.7192 - val_accuracy: 0.8006\n",
            "Epoch 7/9\n",
            "157/157 [==============================] - 7s 46ms/step - loss: 0.0710 - accuracy: 0.9740 - val_loss: 0.8597 - val_accuracy: 0.8040\n",
            "Epoch 8/9\n",
            "157/157 [==============================] - 7s 47ms/step - loss: 0.0656 - accuracy: 0.9768 - val_loss: 1.0517 - val_accuracy: 0.7664\n",
            "Epoch 9/9\n",
            "157/157 [==============================] - 7s 47ms/step - loss: 0.0560 - accuracy: 0.9810 - val_loss: 1.1177 - val_accuracy: 0.7858\n"
          ],
          "name": "stdout"
        }
      ]
    },
    {
      "cell_type": "markdown",
      "metadata": {
        "id": "zLQAdsm9u73Y"
      },
      "source": [
        "### 1D-Convnet"
      ]
    },
    {
      "cell_type": "markdown",
      "metadata": {
        "id": "csnUisqWu68g"
      },
      "source": [
        "Here we suggest the following architecture:\n",
        "- `Embedding` layer to create embedding for our entries;\n",
        "- eventually a Dropout after for regularization;\n",
        "- 2 layers 1D `Conv1D`\n",
        "- 1 GlobalMaxPooling1D layer to pool;\n",
        "- 1 Dense layer for the outputs."
      ]
    },
    {
      "cell_type": "code",
      "metadata": {
        "id": "7mqN3y3h1oSL"
      },
      "source": [
        "from keras.layers import Conv1D, GlobalMaxPooling1D\n",
        "\n",
        "def build_cnn_model(embedding_dim=128, conv_dim=128, num_filters=7):\n",
        "  # YOUR CODE HERE\n",
        "  return model"
      ],
      "execution_count": null,
      "outputs": []
    },
    {
      "cell_type": "markdown",
      "metadata": {
        "id": "tRdHWfy9y1wN"
      },
      "source": [
        "<details>\n",
        "  <summary>View solution</summary>\n",
        "    \n",
        "```python\n",
        "from keras.layers import Conv1D, GlobalMaxPooling1D\n",
        "\n",
        "def build_cnn_model(embedding_dim=128, conv_dim=128, num_filters=7):\n",
        "  # A integer input for vocab indices.\n",
        "  model = Sequential()\n",
        "\n",
        "  # Next, we add a layer to map those vocab indices into a space of dimensionality\n",
        "  # 'embedding_dim'.\n",
        "  model.add(Embedding(max_features, embedding_dim))\n",
        "  model.add(Dropout(0.5))\n",
        "\n",
        "  # Conv1D + global max pooling\n",
        "  model.add(Conv1D(conv_dim, num_filters, padding=\"valid\", activation=\"relu\", strides=3))\n",
        "  model.add(Conv1D(conv_dim, num_filters, padding=\"valid\", activation=\"relu\", strides=3))\n",
        "  model.add(GlobalMaxPooling1D())\n",
        "\n",
        "  # We add a vanilla hidden layer:\n",
        "  model.add(Dense(conv_dim, activation=\"relu\"))\n",
        "  model.add(Dropout(0.5))\n",
        "\n",
        "  # We project onto a single unit output layer, and squash it with a sigmoid:\n",
        "  model.add(Dense(1, activation=\"sigmoid\", name=\"predictions\"))\n",
        "\n",
        "  # Compile the model with binary crossentropy loss and an adam optimizer.\n",
        "  model.compile(loss=\"binary_crossentropy\", optimizer=\"adam\", metrics=[\"accuracy\"])\n",
        "\n",
        "  return model\n",
        "```\n",
        "</details>"
      ]
    },
    {
      "cell_type": "code",
      "metadata": {
        "id": "iklP87wtFOEu",
        "colab": {
          "base_uri": "https://localhost:8080/"
        },
        "outputId": "3e099731-8278-49c5-d404-e2bfd4da8327"
      },
      "source": [
        "epochs = 9\n",
        "\n",
        "cnn_model = build_cnn_model()\n",
        "# Fit the model using the train and test datasets.\n",
        "cnn_history = cnn_model.fit(train_ds, validation_data=val_ds, epochs=epochs)"
      ],
      "execution_count": null,
      "outputs": [
        {
          "output_type": "stream",
          "text": [
            "Epoch 1/9\n",
            "157/157 [==============================] - 6s 32ms/step - loss: 0.6861 - accuracy: 0.5211 - val_loss: 0.4645 - val_accuracy: 0.7806\n",
            "Epoch 2/9\n",
            "157/157 [==============================] - 5s 31ms/step - loss: 0.4473 - accuracy: 0.7964 - val_loss: 0.4323 - val_accuracy: 0.8102\n",
            "Epoch 3/9\n",
            "157/157 [==============================] - 5s 30ms/step - loss: 0.2618 - accuracy: 0.8996 - val_loss: 0.5236 - val_accuracy: 0.7990\n",
            "Epoch 4/9\n",
            "157/157 [==============================] - 5s 30ms/step - loss: 0.1451 - accuracy: 0.9495 - val_loss: 0.6559 - val_accuracy: 0.7948\n",
            "Epoch 5/9\n",
            "157/157 [==============================] - 5s 30ms/step - loss: 0.0952 - accuracy: 0.9660 - val_loss: 0.8134 - val_accuracy: 0.7830\n",
            "Epoch 6/9\n",
            "157/157 [==============================] - 5s 31ms/step - loss: 0.0773 - accuracy: 0.9716 - val_loss: 0.8962 - val_accuracy: 0.7988\n",
            "Epoch 7/9\n",
            "157/157 [==============================] - 5s 31ms/step - loss: 0.0497 - accuracy: 0.9830 - val_loss: 1.0438 - val_accuracy: 0.7940\n",
            "Epoch 8/9\n",
            "157/157 [==============================] - 5s 30ms/step - loss: 0.0206 - accuracy: 0.9924 - val_loss: 1.1188 - val_accuracy: 0.7956\n",
            "Epoch 9/9\n",
            "157/157 [==============================] - 5s 30ms/step - loss: 0.0197 - accuracy: 0.9935 - val_loss: 1.1047 - val_accuracy: 0.7960\n"
          ],
          "name": "stdout"
        }
      ]
    }
  ]
}